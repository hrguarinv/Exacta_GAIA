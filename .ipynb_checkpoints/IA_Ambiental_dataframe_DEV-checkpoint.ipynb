{
 "cells": [
  {
   "cell_type": "markdown",
   "metadata": {
    "button": false,
    "new_sheet": false,
    "run_control": {
     "read_only": false
    }
   },
   "source": [
    "<a><img src=\"header.jpg\" align=\"center\"></a>\n",
    "<h1 align=\"center\"><font size=\"5\"> Inteligência artificial aplicada ao monitoramento ambiental da RNEST </font></h1>"
   ]
  },
  {
   "cell_type": "markdown",
   "metadata": {},
   "source": [
    "Utilize este notebook para modelar ou ajustar o modelo."
   ]
  },
  {
   "cell_type": "code",
   "execution_count": 1,
   "metadata": {
    "button": false,
    "new_sheet": false,
    "run_control": {
     "read_only": false
    }
   },
   "outputs": [],
   "source": [
    "import pandas as pd\n",
    "import numpy as np\n",
    "%matplotlib inline \n",
    "import matplotlib.pyplot as plt"
   ]
  },
  {
   "cell_type": "markdown",
   "metadata": {},
   "source": [
    "## Dados de qualidade do ar"
   ]
  },
  {
   "cell_type": "markdown",
   "metadata": {},
   "source": [
    "Dados de qualidade do ar da estação IFPE."
   ]
  },
  {
   "cell_type": "code",
   "execution_count": 2,
   "metadata": {},
   "outputs": [
    {
     "data": {
      "text/html": [
       "<div>\n",
       "<style scoped>\n",
       "    .dataframe tbody tr th:only-of-type {\n",
       "        vertical-align: middle;\n",
       "    }\n",
       "\n",
       "    .dataframe tbody tr th {\n",
       "        vertical-align: top;\n",
       "    }\n",
       "\n",
       "    .dataframe thead th {\n",
       "        text-align: right;\n",
       "    }\n",
       "</style>\n",
       "<table border=\"1\" class=\"dataframe\">\n",
       "  <thead>\n",
       "    <tr style=\"text-align: right;\">\n",
       "      <th></th>\n",
       "      <th>SO2</th>\n",
       "      <th>H2S</th>\n",
       "      <th>AT</th>\n",
       "      <th>RH</th>\n",
       "      <th>WS</th>\n",
       "      <th>WD</th>\n",
       "    </tr>\n",
       "    <tr>\n",
       "      <th>Data fim</th>\n",
       "      <th></th>\n",
       "      <th></th>\n",
       "      <th></th>\n",
       "      <th></th>\n",
       "      <th></th>\n",
       "      <th></th>\n",
       "    </tr>\n",
       "  </thead>\n",
       "  <tbody>\n",
       "    <tr>\n",
       "      <td>2016-10-26 00:00:00</td>\n",
       "      <td>3.09</td>\n",
       "      <td>8.05</td>\n",
       "      <td>26.0</td>\n",
       "      <td>71.3</td>\n",
       "      <td>3.57</td>\n",
       "      <td>280.28</td>\n",
       "    </tr>\n",
       "    <tr>\n",
       "      <td>2016-10-26 01:00:00</td>\n",
       "      <td>2.74</td>\n",
       "      <td>3.78</td>\n",
       "      <td>25.5</td>\n",
       "      <td>72.9</td>\n",
       "      <td>3.01</td>\n",
       "      <td>277.36</td>\n",
       "    </tr>\n",
       "    <tr>\n",
       "      <td>2016-10-26 02:00:00</td>\n",
       "      <td>2.12</td>\n",
       "      <td>5.90</td>\n",
       "      <td>25.1</td>\n",
       "      <td>74.7</td>\n",
       "      <td>2.34</td>\n",
       "      <td>277.62</td>\n",
       "    </tr>\n",
       "    <tr>\n",
       "      <td>2016-10-26 03:00:00</td>\n",
       "      <td>1.76</td>\n",
       "      <td>19.65</td>\n",
       "      <td>24.7</td>\n",
       "      <td>77.3</td>\n",
       "      <td>2.39</td>\n",
       "      <td>278.71</td>\n",
       "    </tr>\n",
       "    <tr>\n",
       "      <td>2016-10-26 04:00:00</td>\n",
       "      <td>2.48</td>\n",
       "      <td>6.17</td>\n",
       "      <td>24.0</td>\n",
       "      <td>83.9</td>\n",
       "      <td>1.85</td>\n",
       "      <td>265.44</td>\n",
       "    </tr>\n",
       "  </tbody>\n",
       "</table>\n",
       "</div>"
      ],
      "text/plain": [
       "                      SO2    H2S    AT    RH    WS      WD\n",
       "Data fim                                                  \n",
       "2016-10-26 00:00:00  3.09   8.05  26.0  71.3  3.57  280.28\n",
       "2016-10-26 01:00:00  2.74   3.78  25.5  72.9  3.01  277.36\n",
       "2016-10-26 02:00:00  2.12   5.90  25.1  74.7  2.34  277.62\n",
       "2016-10-26 03:00:00  1.76  19.65  24.7  77.3  2.39  278.71\n",
       "2016-10-26 04:00:00  2.48   6.17  24.0  83.9  1.85  265.44"
      ]
     },
     "execution_count": 2,
     "metadata": {},
     "output_type": "execute_result"
    }
   ],
   "source": [
    "qual_df = pd.read_excel(\"qualidade_meteor.xlsx\", sheet_name='Células vazias não excluídas')\n",
    "qual_df.set_index('Data fim', inplace = True)\n",
    "#del qual_df[' ']\n",
    "qual_df.head()"
   ]
  },
  {
   "cell_type": "code",
   "execution_count": 92,
   "metadata": {},
   "outputs": [],
   "source": [
    "seriehist = qual_df[qual_df['H2S']<1000]"
   ]
  },
  {
   "cell_type": "code",
   "execution_count": 93,
   "metadata": {},
   "outputs": [
    {
     "data": {
      "text/plain": [
       "(24515, 6)"
      ]
     },
     "execution_count": 93,
     "metadata": {},
     "output_type": "execute_result"
    }
   ],
   "source": [
    "seriehist.shape"
   ]
  },
  {
   "cell_type": "code",
   "execution_count": 102,
   "metadata": {},
   "outputs": [
    {
     "data": {
      "text/plain": [
       "(0.0, 1.0]        5847\n",
       "(1.0, 2.0]        5957\n",
       "(2.0, 2.99]       5843\n",
       "(2.99, 1000.0]    4947\n",
       "Name: H2S, dtype: int64"
      ]
     },
     "execution_count": 102,
     "metadata": {},
     "output_type": "execute_result"
    }
   ],
   "source": [
    "pd.cut(seriehist['H2S'], [0, 0.025, 0.15, 1, 2, 3, 5, 10, 20]).value_counts().sort_index()\n",
    "pd.cut(seriehist['H2S'], [0, 1, 2, 2.99, 1000]).value_counts().sort_index()"
   ]
  },
  {
   "cell_type": "code",
   "execution_count": 104,
   "metadata": {},
   "outputs": [
    {
     "data": {
      "text/html": [
       "<div>\n",
       "<style scoped>\n",
       "    .dataframe tbody tr th:only-of-type {\n",
       "        vertical-align: middle;\n",
       "    }\n",
       "\n",
       "    .dataframe tbody tr th {\n",
       "        vertical-align: top;\n",
       "    }\n",
       "\n",
       "    .dataframe thead th {\n",
       "        text-align: right;\n",
       "    }\n",
       "</style>\n",
       "<table border=\"1\" class=\"dataframe\">\n",
       "  <thead>\n",
       "    <tr style=\"text-align: right;\">\n",
       "      <th></th>\n",
       "      <th>SO2</th>\n",
       "      <th>H2S</th>\n",
       "      <th>AT</th>\n",
       "      <th>RH</th>\n",
       "      <th>WS</th>\n",
       "      <th>WD</th>\n",
       "      <th>classes</th>\n",
       "    </tr>\n",
       "    <tr>\n",
       "      <th>Data fim</th>\n",
       "      <th></th>\n",
       "      <th></th>\n",
       "      <th></th>\n",
       "      <th></th>\n",
       "      <th></th>\n",
       "      <th></th>\n",
       "      <th></th>\n",
       "    </tr>\n",
       "  </thead>\n",
       "  <tbody>\n",
       "    <tr>\n",
       "      <td>2016-10-26 00:00:00</td>\n",
       "      <td>3.09</td>\n",
       "      <td>8.05</td>\n",
       "      <td>26.0</td>\n",
       "      <td>71.3</td>\n",
       "      <td>3.57</td>\n",
       "      <td>280.28</td>\n",
       "      <td>(2.99, 1000.0]</td>\n",
       "    </tr>\n",
       "    <tr>\n",
       "      <td>2016-10-26 01:00:00</td>\n",
       "      <td>2.74</td>\n",
       "      <td>3.78</td>\n",
       "      <td>25.5</td>\n",
       "      <td>72.9</td>\n",
       "      <td>3.01</td>\n",
       "      <td>277.36</td>\n",
       "      <td>(2.99, 1000.0]</td>\n",
       "    </tr>\n",
       "    <tr>\n",
       "      <td>2016-10-26 02:00:00</td>\n",
       "      <td>2.12</td>\n",
       "      <td>5.90</td>\n",
       "      <td>25.1</td>\n",
       "      <td>74.7</td>\n",
       "      <td>2.34</td>\n",
       "      <td>277.62</td>\n",
       "      <td>(2.99, 1000.0]</td>\n",
       "    </tr>\n",
       "    <tr>\n",
       "      <td>2016-10-26 03:00:00</td>\n",
       "      <td>1.76</td>\n",
       "      <td>19.65</td>\n",
       "      <td>24.7</td>\n",
       "      <td>77.3</td>\n",
       "      <td>2.39</td>\n",
       "      <td>278.71</td>\n",
       "      <td>(2.99, 1000.0]</td>\n",
       "    </tr>\n",
       "    <tr>\n",
       "      <td>2016-10-26 04:00:00</td>\n",
       "      <td>2.48</td>\n",
       "      <td>6.17</td>\n",
       "      <td>24.0</td>\n",
       "      <td>83.9</td>\n",
       "      <td>1.85</td>\n",
       "      <td>265.44</td>\n",
       "      <td>(2.99, 1000.0]</td>\n",
       "    </tr>\n",
       "  </tbody>\n",
       "</table>\n",
       "</div>"
      ],
      "text/plain": [
       "                      SO2    H2S    AT    RH    WS      WD         classes\n",
       "Data fim                                                                  \n",
       "2016-10-26 00:00:00  3.09   8.05  26.0  71.3  3.57  280.28  (2.99, 1000.0]\n",
       "2016-10-26 01:00:00  2.74   3.78  25.5  72.9  3.01  277.36  (2.99, 1000.0]\n",
       "2016-10-26 02:00:00  2.12   5.90  25.1  74.7  2.34  277.62  (2.99, 1000.0]\n",
       "2016-10-26 03:00:00  1.76  19.65  24.7  77.3  2.39  278.71  (2.99, 1000.0]\n",
       "2016-10-26 04:00:00  2.48   6.17  24.0  83.9  1.85  265.44  (2.99, 1000.0]"
      ]
     },
     "execution_count": 104,
     "metadata": {},
     "output_type": "execute_result"
    }
   ],
   "source": [
    "qual_df['classes'] = pd.cut(seriehist['H2S'], [0, 1, 2, 2.99, 1000])\n",
    "qual_df.head()"
   ]
  },
  {
   "cell_type": "code",
   "execution_count": 99,
   "metadata": {},
   "outputs": [
    {
     "data": {
      "text/plain": [
       "<matplotlib.axes._subplots.AxesSubplot at 0x2025b17ec88>"
      ]
     },
     "execution_count": 99,
     "metadata": {},
     "output_type": "execute_result"
    },
    {
     "data": {
      "image/png": "[encoded data removed]",
      "text/plain": [
       "<Figure size 432x288 with 1 Axes>"
      ]
     },
     "metadata": {
      "needs_background": "light"
     },
     "output_type": "display_data"
    }
   ],
   "source": [
    "#qual_df = qual_df.groupby(pd.Grouper(freq='D')).mean()\n",
    "#qual_df.head()\n",
    "#seriehist['H2S'].plot.hist(bins = 20)\n",
    "seriehist['H2S'].plot.hist(bins = [0, 0.025, 0.15, 1, 2, 3, 5, 10, 20],sharey=True, sharex=True)\n"
   ]
  },
  {
   "cell_type": "code",
   "execution_count": 107,
   "metadata": {},
   "outputs": [
    {
     "data": {
      "text/plain": [
       "<matplotlib.axes._subplots.AxesSubplot at 0x2025c7bae10>"
      ]
     },
     "execution_count": 107,
     "metadata": {},
     "output_type": "execute_result"
    },
    {
     "data": {
      "image/png": "[encoded data removed]",
      "text/plain": [
       "<Figure size 432x288 with 1 Axes>"
      ]
     },
     "metadata": {
      "needs_background": "light"
     },
     "output_type": "display_data"
    }
   ],
   "source": [
    "qual_df.plot(y='H2S',color='red')"
   ]
  },
  {
   "cell_type": "code",
   "execution_count": 129,
   "metadata": {},
   "outputs": [],
   "source": [
    "qual_df['classeA']= qual_df['H2S'][qual_df['H2S']<1]\n",
    "qual_df['classeB']= qual_df['H2S'][qual_df['H2S']<2]\n",
    "qual_df['classeB']= qual_df['classeB'][qual_df['classeB']>=1]\n",
    "qual_df['classeC']= qual_df['H2S'][qual_df['H2S']<2.99]\n",
    "qual_df['classeC']= qual_df['classeC'][qual_df['classeC']>=2]\n",
    "qual_df['classeD']= qual_df['H2S'][qual_df['H2S']<1000]\n",
    "qual_df['classeD']= qual_df['classeD'][qual_df['classeD']>=3]"
   ]
  },
  {
   "cell_type": "code",
   "execution_count": 109,
   "metadata": {},
   "outputs": [
    {
     "data": {
      "text/plain": [
       "<matplotlib.axes._subplots.AxesSubplot at 0x2025c43fb00>"
      ]
     },
     "execution_count": 109,
     "metadata": {},
     "output_type": "execute_result"
    },
    {
     "data": {
      "image/png": "[encoded data removed]",
      "text/plain": [
       "<Figure size 432x288 with 1 Axes>"
      ]
     },
     "metadata": {
      "needs_background": "light"
     },
     "output_type": "display_data"
    }
   ],
   "source": [
    "qual_df.plot(y='classeA',color='red')"
   ]
  },
  {
   "cell_type": "code",
   "execution_count": 114,
   "metadata": {},
   "outputs": [
    {
     "data": {
      "text/plain": [
       "<matplotlib.axes._subplots.AxesSubplot at 0x2025cd8fef0>"
      ]
     },
     "execution_count": 114,
     "metadata": {},
     "output_type": "execute_result"
    },
    {
     "data": {
      "image/png": "[encoded data removed]",
      "text/plain": [
       "<Figure size 432x288 with 1 Axes>"
      ]
     },
     "metadata": {
      "needs_background": "light"
     },
     "output_type": "display_data"
    }
   ],
   "source": [
    "qual_df.plot(y='classeB',color='red')"
   ]
  },
  {
   "cell_type": "code",
   "execution_count": 130,
   "metadata": {},
   "outputs": [
    {
     "data": {
      "text/plain": [
       "<matplotlib.axes._subplots.AxesSubplot at 0x2025fcbd048>"
      ]
     },
     "execution_count": 130,
     "metadata": {},
     "output_type": "execute_result"
    },
    {
     "data": {
      "image/png": "[encoded data removed]",
      "text/plain": [
       "<Figure size 1440x360 with 1 Axes>"
      ]
     },
     "metadata": {
      "needs_background": "light"
     },
     "output_type": "display_data"
    }
   ],
   "source": [
    "qual_df.plot(y='classeA',color='red', figsize=(20,5))"
   ]
  },
  {
   "cell_type": "code",
   "execution_count": 131,
   "metadata": {},
   "outputs": [
    {
     "data": {
      "text/plain": [
       "<matplotlib.axes._subplots.AxesSubplot at 0x202648e6da0>"
      ]
     },
     "execution_count": 131,
     "metadata": {},
     "output_type": "execute_result"
    },
    {
     "data": {
      "image/png": "[encoded data removed]",
      "text/plain": [
       "<Figure size 1440x360 with 1 Axes>"
      ]
     },
     "metadata": {
      "needs_background": "light"
     },
     "output_type": "display_data"
    }
   ],
   "source": [
    "qual_df.plot(y='classeB',color='red', figsize=(20,5))"
   ]
  },
  {
   "cell_type": "code",
   "execution_count": 132,
   "metadata": {},
   "outputs": [
    {
     "data": {
      "text/plain": [
       "<matplotlib.axes._subplots.AxesSubplot at 0x202670176d8>"
      ]
     },
     "execution_count": 132,
     "metadata": {},
     "output_type": "execute_result"
    },
    {
     "data": {
      "image/png": "[encoded data removed]",
      "text/plain": [
       "<Figure size 1440x360 with 1 Axes>"
      ]
     },
     "metadata": {
      "needs_background": "light"
     },
     "output_type": "display_data"
    }
   ],
   "source": [
    "qual_df.plot(y='classeC',color='red', figsize=(20,5))"
   ]
  },
  {
   "cell_type": "code",
   "execution_count": 133,
   "metadata": {},
   "outputs": [
    {
     "data": {
      "text/plain": [
       "<matplotlib.axes._subplots.AxesSubplot at 0x202672a1e80>"
      ]
     },
     "execution_count": 133,
     "metadata": {},
     "output_type": "execute_result"
    },
    {
     "data": {
      "image/png": "[encoded data removed]",
      "text/plain": [
       "<Figure size 1440x360 with 1 Axes>"
      ]
     },
     "metadata": {
      "needs_background": "light"
     },
     "output_type": "display_data"
    }
   ],
   "source": [
    "qual_df.plot(y='classeD',color='red', figsize=(20,5))"
   ]
  },
  {
   "cell_type": "code",
   "execution_count": 127,
   "metadata": {},
   "outputs": [
    {
     "data": {
      "text/plain": [
       "(26832, 10)"
      ]
     },
     "execution_count": 127,
     "metadata": {},
     "output_type": "execute_result"
    }
   ],
   "source": [
    "qual_df.shape"
   ]
  },
  {
   "cell_type": "code",
   "execution_count": 5,
   "metadata": {},
   "outputs": [
    {
     "data": {
      "text/plain": [
       "SO2    float64\n",
       "H2S    float64\n",
       "AT     float64\n",
       "RH     float64\n",
       "WS     float64\n",
       "WD     float64\n",
       "dtype: object"
      ]
     },
     "execution_count": 5,
     "metadata": {},
     "output_type": "execute_result"
    }
   ],
   "source": [
    "qual_df.dtypes[0:10]"
   ]
  },
  {
   "cell_type": "code",
   "execution_count": 6,
   "metadata": {},
   "outputs": [
    {
     "data": {
      "text/html": [
       "<div>\n",
       "<style scoped>\n",
       "    .dataframe tbody tr th:only-of-type {\n",
       "        vertical-align: middle;\n",
       "    }\n",
       "\n",
       "    .dataframe tbody tr th {\n",
       "        vertical-align: top;\n",
       "    }\n",
       "\n",
       "    .dataframe thead th {\n",
       "        text-align: right;\n",
       "    }\n",
       "</style>\n",
       "<table border=\"1\" class=\"dataframe\">\n",
       "  <thead>\n",
       "    <tr style=\"text-align: right;\">\n",
       "      <th></th>\n",
       "      <th>SO2</th>\n",
       "      <th>H2S</th>\n",
       "      <th>AT</th>\n",
       "      <th>RH</th>\n",
       "      <th>WS</th>\n",
       "      <th>WD</th>\n",
       "    </tr>\n",
       "  </thead>\n",
       "  <tbody>\n",
       "    <tr>\n",
       "      <td>count</td>\n",
       "      <td>24515.000000</td>\n",
       "      <td>24515.000000</td>\n",
       "      <td>24515.000000</td>\n",
       "      <td>24515.000000</td>\n",
       "      <td>24515.000000</td>\n",
       "      <td>24515.000000</td>\n",
       "    </tr>\n",
       "    <tr>\n",
       "      <td>mean</td>\n",
       "      <td>4.892548</td>\n",
       "      <td>1.916067</td>\n",
       "      <td>27.943697</td>\n",
       "      <td>76.348746</td>\n",
       "      <td>2.491336</td>\n",
       "      <td>155.095947</td>\n",
       "    </tr>\n",
       "    <tr>\n",
       "      <td>std</td>\n",
       "      <td>6.731027</td>\n",
       "      <td>1.543807</td>\n",
       "      <td>2.394469</td>\n",
       "      <td>10.340221</td>\n",
       "      <td>1.614854</td>\n",
       "      <td>72.924085</td>\n",
       "    </tr>\n",
       "    <tr>\n",
       "      <td>min</td>\n",
       "      <td>-0.354970</td>\n",
       "      <td>0.000000</td>\n",
       "      <td>20.500000</td>\n",
       "      <td>44.200000</td>\n",
       "      <td>0.000000</td>\n",
       "      <td>0.000000</td>\n",
       "    </tr>\n",
       "    <tr>\n",
       "      <td>25%</td>\n",
       "      <td>2.720000</td>\n",
       "      <td>0.770000</td>\n",
       "      <td>26.210000</td>\n",
       "      <td>68.000000</td>\n",
       "      <td>1.140000</td>\n",
       "      <td>100.825000</td>\n",
       "    </tr>\n",
       "    <tr>\n",
       "      <td>50%</td>\n",
       "      <td>4.180000</td>\n",
       "      <td>1.750000</td>\n",
       "      <td>27.870000</td>\n",
       "      <td>76.100000</td>\n",
       "      <td>2.230000</td>\n",
       "      <td>126.900000</td>\n",
       "    </tr>\n",
       "    <tr>\n",
       "      <td>75%</td>\n",
       "      <td>5.620000</td>\n",
       "      <td>2.760000</td>\n",
       "      <td>29.740000</td>\n",
       "      <td>85.600000</td>\n",
       "      <td>3.700000</td>\n",
       "      <td>229.130000</td>\n",
       "    </tr>\n",
       "    <tr>\n",
       "      <td>max</td>\n",
       "      <td>182.790000</td>\n",
       "      <td>60.210000</td>\n",
       "      <td>34.790000</td>\n",
       "      <td>100.000000</td>\n",
       "      <td>9.470000</td>\n",
       "      <td>404.640000</td>\n",
       "    </tr>\n",
       "  </tbody>\n",
       "</table>\n",
       "</div>"
      ],
      "text/plain": [
       "                SO2           H2S            AT            RH            WS  \\\n",
       "count  24515.000000  24515.000000  24515.000000  24515.000000  24515.000000   \n",
       "mean       4.892548      1.916067     27.943697     76.348746      2.491336   \n",
       "std        6.731027      1.543807      2.394469     10.340221      1.614854   \n",
       "min       -0.354970      0.000000     20.500000     44.200000      0.000000   \n",
       "25%        2.720000      0.770000     26.210000     68.000000      1.140000   \n",
       "50%        4.180000      1.750000     27.870000     76.100000      2.230000   \n",
       "75%        5.620000      2.760000     29.740000     85.600000      3.700000   \n",
       "max      182.790000     60.210000     34.790000    100.000000      9.470000   \n",
       "\n",
       "                 WD  \n",
       "count  24515.000000  \n",
       "mean     155.095947  \n",
       "std       72.924085  \n",
       "min        0.000000  \n",
       "25%      100.825000  \n",
       "50%      126.900000  \n",
       "75%      229.130000  \n",
       "max      404.640000  "
      ]
     },
     "execution_count": 6,
     "metadata": {},
     "output_type": "execute_result"
    }
   ],
   "source": [
    "qual_df.describe()"
   ]
  },
  {
   "cell_type": "markdown",
   "metadata": {},
   "source": [
    "## Dados meteorológicos"
   ]
  },
  {
   "cell_type": "markdown",
   "metadata": {},
   "source": [
    "Dados de qualidade do ar da estação CPRH. Não serão mais usados os dados da estação???"
   ]
  },
  {
   "cell_type": "code",
   "execution_count": 7,
   "metadata": {},
   "outputs": [],
   "source": [
    "#meteor_df = pd.read_excel(\"qualidade_meteor.xlsx\", sheet_name='Meteorologia Estação CPRH')\n",
    "#meteor_df.set_index('DATA / HORA', inplace = True)\n",
    "#meteor_df.head()"
   ]
  },
  {
   "cell_type": "code",
   "execution_count": 8,
   "metadata": {},
   "outputs": [],
   "source": [
    "#meteor_df = meteor_df.groupby(pd.Grouper(freq='D')).mean()\n",
    "#meteor_df.head()"
   ]
  },
  {
   "cell_type": "code",
   "execution_count": 9,
   "metadata": {},
   "outputs": [],
   "source": [
    "#meteor_df.describe()"
   ]
  },
  {
   "cell_type": "code",
   "execution_count": 10,
   "metadata": {},
   "outputs": [],
   "source": [
    "#meteor_df.dtypes[0:10]"
   ]
  },
  {
   "cell_type": "markdown",
   "metadata": {
    "button": false,
    "new_sheet": false,
    "run_control": {
     "read_only": false
    }
   },
   "source": [
    "## Dados das variáveis de processo"
   ]
  },
  {
   "cell_type": "markdown",
   "metadata": {
    "button": false,
    "new_sheet": false,
    "run_control": {
     "read_only": false
    }
   },
   "source": [
    "\n",
    "Não há informações de alinhamentos???"
   ]
  },
  {
   "cell_type": "code",
   "execution_count": 11,
   "metadata": {
    "scrolled": true
   },
   "outputs": [
    {
     "data": {
      "text/html": [
       "<div>\n",
       "<style scoped>\n",
       "    .dataframe tbody tr th:only-of-type {\n",
       "        vertical-align: middle;\n",
       "    }\n",
       "\n",
       "    .dataframe tbody tr th {\n",
       "        vertical-align: top;\n",
       "    }\n",
       "\n",
       "    .dataframe thead th {\n",
       "        text-align: right;\n",
       "    }\n",
       "</style>\n",
       "<table border=\"1\" class=\"dataframe\">\n",
       "  <thead>\n",
       "    <tr style=\"text-align: right;\">\n",
       "      <th></th>\n",
       "      <th>Data início</th>\n",
       "      <th>Data fim</th>\n",
       "      <th>TQ-41001.VZ.AF</th>\n",
       "      <th>TI413001</th>\n",
       "      <th>V-48001.DN.AF</th>\n",
       "      <th>V-48002.DN.AF</th>\n",
       "      <th>TQ-62013.VZ.AF</th>\n",
       "      <th>TE620027</th>\n",
       "      <th>TI110186-AF</th>\n",
       "      <th>TQ-62014.VZ.AF</th>\n",
       "      <th>...</th>\n",
       "      <th>U28-PARADA</th>\n",
       "      <th>PV-210467A-AF</th>\n",
       "      <th>PV-210467B-AF</th>\n",
       "      <th>PV-210573B-AF</th>\n",
       "      <th>PV-350573B-AF</th>\n",
       "      <th>PV-350548-AF</th>\n",
       "      <th>PV-110093C-AF</th>\n",
       "      <th>PV-110150C-AF</th>\n",
       "      <th>FI110417</th>\n",
       "      <th>Descartar</th>\n",
       "    </tr>\n",
       "  </thead>\n",
       "  <tbody>\n",
       "    <tr>\n",
       "      <td>0</td>\n",
       "      <td>2016-01-01 00:00:00</td>\n",
       "      <td>2016-01-01 01:00:00</td>\n",
       "      <td>0.005233</td>\n",
       "      <td>35.133058</td>\n",
       "      <td>-0.172928</td>\n",
       "      <td>-0.155153</td>\n",
       "      <td>0.080922</td>\n",
       "      <td>28.858411</td>\n",
       "      <td>0.0</td>\n",
       "      <td>0.000000</td>\n",
       "      <td>...</td>\n",
       "      <td>NaN</td>\n",
       "      <td>0.0</td>\n",
       "      <td>0.0</td>\n",
       "      <td>0.0</td>\n",
       "      <td>22.943478</td>\n",
       "      <td>0.394497</td>\n",
       "      <td>NaN</td>\n",
       "      <td>NaN</td>\n",
       "      <td>0.0</td>\n",
       "      <td>NaN</td>\n",
       "    </tr>\n",
       "    <tr>\n",
       "      <td>1</td>\n",
       "      <td>2016-01-01 01:00:00</td>\n",
       "      <td>2016-01-01 02:00:00</td>\n",
       "      <td>0.036522</td>\n",
       "      <td>35.098298</td>\n",
       "      <td>-0.066285</td>\n",
       "      <td>-0.195570</td>\n",
       "      <td>0.000000</td>\n",
       "      <td>28.757296</td>\n",
       "      <td>0.0</td>\n",
       "      <td>0.000000</td>\n",
       "      <td>...</td>\n",
       "      <td>NaN</td>\n",
       "      <td>0.0</td>\n",
       "      <td>0.0</td>\n",
       "      <td>0.0</td>\n",
       "      <td>25.062691</td>\n",
       "      <td>0.123771</td>\n",
       "      <td>NaN</td>\n",
       "      <td>NaN</td>\n",
       "      <td>0.0</td>\n",
       "      <td>NaN</td>\n",
       "    </tr>\n",
       "    <tr>\n",
       "      <td>2</td>\n",
       "      <td>2016-01-01 02:00:00</td>\n",
       "      <td>2016-01-01 03:00:00</td>\n",
       "      <td>0.062650</td>\n",
       "      <td>35.328307</td>\n",
       "      <td>-0.055819</td>\n",
       "      <td>0.019849</td>\n",
       "      <td>0.000000</td>\n",
       "      <td>28.656179</td>\n",
       "      <td>0.0</td>\n",
       "      <td>0.000000</td>\n",
       "      <td>...</td>\n",
       "      <td>NaN</td>\n",
       "      <td>0.0</td>\n",
       "      <td>0.0</td>\n",
       "      <td>0.0</td>\n",
       "      <td>25.323193</td>\n",
       "      <td>3.081834</td>\n",
       "      <td>NaN</td>\n",
       "      <td>NaN</td>\n",
       "      <td>0.0</td>\n",
       "      <td>NaN</td>\n",
       "    </tr>\n",
       "    <tr>\n",
       "      <td>3</td>\n",
       "      <td>2016-01-01 03:00:00</td>\n",
       "      <td>2016-01-01 04:00:00</td>\n",
       "      <td>-0.093375</td>\n",
       "      <td>34.725068</td>\n",
       "      <td>0.160483</td>\n",
       "      <td>-0.559361</td>\n",
       "      <td>0.000000</td>\n",
       "      <td>28.555035</td>\n",
       "      <td>0.0</td>\n",
       "      <td>-0.000601</td>\n",
       "      <td>...</td>\n",
       "      <td>NaN</td>\n",
       "      <td>0.0</td>\n",
       "      <td>0.0</td>\n",
       "      <td>0.0</td>\n",
       "      <td>25.942286</td>\n",
       "      <td>0.163177</td>\n",
       "      <td>NaN</td>\n",
       "      <td>NaN</td>\n",
       "      <td>0.0</td>\n",
       "      <td>NaN</td>\n",
       "    </tr>\n",
       "    <tr>\n",
       "      <td>4</td>\n",
       "      <td>2016-01-01 04:00:00</td>\n",
       "      <td>2016-01-01 05:00:00</td>\n",
       "      <td>-0.032477</td>\n",
       "      <td>34.671623</td>\n",
       "      <td>0.216787</td>\n",
       "      <td>-1.909803</td>\n",
       "      <td>0.000000</td>\n",
       "      <td>28.453877</td>\n",
       "      <td>0.0</td>\n",
       "      <td>-0.016607</td>\n",
       "      <td>...</td>\n",
       "      <td>NaN</td>\n",
       "      <td>0.0</td>\n",
       "      <td>0.0</td>\n",
       "      <td>0.0</td>\n",
       "      <td>23.446062</td>\n",
       "      <td>0.242666</td>\n",
       "      <td>NaN</td>\n",
       "      <td>NaN</td>\n",
       "      <td>0.0</td>\n",
       "      <td>NaN</td>\n",
       "    </tr>\n",
       "  </tbody>\n",
       "</table>\n",
       "<p>5 rows × 94 columns</p>\n",
       "</div>"
      ],
      "text/plain": [
       "          Data início            Data fim  TQ-41001.VZ.AF   TI413001  \\\n",
       "0 2016-01-01 00:00:00 2016-01-01 01:00:00        0.005233  35.133058   \n",
       "1 2016-01-01 01:00:00 2016-01-01 02:00:00        0.036522  35.098298   \n",
       "2 2016-01-01 02:00:00 2016-01-01 03:00:00        0.062650  35.328307   \n",
       "3 2016-01-01 03:00:00 2016-01-01 04:00:00       -0.093375  34.725068   \n",
       "4 2016-01-01 04:00:00 2016-01-01 05:00:00       -0.032477  34.671623   \n",
       "\n",
       "   V-48001.DN.AF  V-48002.DN.AF  TQ-62013.VZ.AF   TE620027  TI110186-AF  \\\n",
       "0      -0.172928      -0.155153        0.080922  28.858411          0.0   \n",
       "1      -0.066285      -0.195570        0.000000  28.757296          0.0   \n",
       "2      -0.055819       0.019849        0.000000  28.656179          0.0   \n",
       "3       0.160483      -0.559361        0.000000  28.555035          0.0   \n",
       "4       0.216787      -1.909803        0.000000  28.453877          0.0   \n",
       "\n",
       "   TQ-62014.VZ.AF  ...  U28-PARADA  PV-210467A-AF  PV-210467B-AF  \\\n",
       "0        0.000000  ...         NaN            0.0            0.0   \n",
       "1        0.000000  ...         NaN            0.0            0.0   \n",
       "2        0.000000  ...         NaN            0.0            0.0   \n",
       "3       -0.000601  ...         NaN            0.0            0.0   \n",
       "4       -0.016607  ...         NaN            0.0            0.0   \n",
       "\n",
       "   PV-210573B-AF  PV-350573B-AF  PV-350548-AF  PV-110093C-AF  PV-110150C-AF  \\\n",
       "0            0.0      22.943478      0.394497            NaN            NaN   \n",
       "1            0.0      25.062691      0.123771            NaN            NaN   \n",
       "2            0.0      25.323193      3.081834            NaN            NaN   \n",
       "3            0.0      25.942286      0.163177            NaN            NaN   \n",
       "4            0.0      23.446062      0.242666            NaN            NaN   \n",
       "\n",
       "   FI110417  Descartar  \n",
       "0       0.0        NaN  \n",
       "1       0.0        NaN  \n",
       "2       0.0        NaN  \n",
       "3       0.0        NaN  \n",
       "4       0.0        NaN  \n",
       "\n",
       "[5 rows x 94 columns]"
      ]
     },
     "execution_count": 11,
     "metadata": {},
     "output_type": "execute_result"
    }
   ],
   "source": [
    "proc_df2016 = pd.read_excel(\"dados2016.xlsx\", sheet_name='valores') # pandas versão após .21\n",
    "proc_df2017 = pd.read_excel(\"dados2017.xlsx\", sheet_name='valores') # pandas versão após .21\n",
    "proc_df2018 = pd.read_excel(\"dados2018.xlsx\", sheet_name='valores') # pandas versão após .21\n",
    "proc_df2019 = pd.read_excel(\"dados2019.xlsx\", sheet_name='valores') # pandas versão após .21\n",
    "\n",
    "proc_df = pd.concat([proc_df2016,proc_df2017,proc_df2018,proc_df2019],ignore_index=True)\n",
    "#df3=pd.concat([df1,df2],ignore_index=True).drop_duplicates().reset_index(drop=True)\n",
    "\n",
    "proc_df.head()"
   ]
  },
  {
   "cell_type": "code",
   "execution_count": 12,
   "metadata": {},
   "outputs": [],
   "source": [
    "#lis = proc_df2018.dtypes\n",
    "#for i in lis:\n",
    "#    print(i)"
   ]
  },
  {
   "cell_type": "code",
   "execution_count": 13,
   "metadata": {},
   "outputs": [
    {
     "data": {
      "text/plain": [
       "(34723, 94)"
      ]
     },
     "execution_count": 13,
     "metadata": {},
     "output_type": "execute_result"
    }
   ],
   "source": [
    "proc_df.shape"
   ]
  },
  {
   "cell_type": "markdown",
   "metadata": {},
   "source": [
    "A coluna \"Descartar\" é usada para indicar que um registro não deve ser usado na modelagem. O registro pode ter informação duvidosa quanto a manifestação ou não. Por exemplo, as variáveis de processo e meteorológicas indicam que haveria manifestações da comunidade, porém, as manifestações não ocorreram. Outro exemplo oposto, houve manifestação da comunidade, porém, as variáveis não indicam que haveria manifestações. Neste caso, a manifestação pode ter como origem outras variáveis externas à refinaria, por exemplo, outra instalação industrial do entorno.\n",
    "\n",
    "Portanto, elimina-se os registros com \"1\" na coluna \"Descartar\"."
   ]
  },
  {
   "cell_type": "code",
   "execution_count": 14,
   "metadata": {},
   "outputs": [],
   "source": [
    "proc_df = proc_df[proc_df['Descartar']!=1]"
   ]
  },
  {
   "cell_type": "markdown",
   "metadata": {},
   "source": [
    "Após eliminar os registros, elimina-se a coluna, pois ela não será mais útil na modelagem.\n",
    "\n",
    "A coluna \"Detalhe\" contém análise histórica da manifestação da comunidade. Como a análise foi refeita, esta coluna não será mais utilizada."
   ]
  },
  {
   "cell_type": "code",
   "execution_count": 15,
   "metadata": {},
   "outputs": [
    {
     "data": {
      "text/plain": [
       "(34723, 88)"
      ]
     },
     "execution_count": 15,
     "metadata": {},
     "output_type": "execute_result"
    }
   ],
   "source": [
    "proc_df.drop(['TE620006'], axis=1, inplace=True)\n",
    "proc_df.drop(['TI900400'], axis=1, inplace=True)\n",
    "proc_df.drop(['U31DC087ENT-AF'], axis=1, inplace=True)\n",
    "proc_df.drop(['FI970006'], axis=1, inplace=True)\n",
    "\n",
    "#proc_df.drop(['TQ-41001.VZ.AF'], axis=1, inplace=True)\n",
    "#proc_df.drop(['U28-BM.TOCHA.ENXO-AF'], axis=1, inplace=True)\n",
    "#proc_df.drop(['PV-410065B.AMON.AF'], axis=1, inplace=True)\n",
    "#proc_df.drop(['PV-410065B.SULF.AF'], axis=1, inplace=True)\n",
    "#proc_df.drop(['U31DC087ENT-AF'], axis=1, inplace=True)\n",
    "#proc_df.drop(['TI965003B'], axis=1, inplace=True)\n",
    "#proc_df.drop(['TI975001B'], axis=1, inplace=True)\n",
    "#proc_df.drop(['FI970006'], axis=1, inplace=True)\n",
    "#proc_df.drop(['TI965005B'], axis=1, inplace=True)\n",
    "#proc_df.drop(['TI965008B'], axis=1, inplace=True)\n",
    "#proc_df.drop(['OST'], axis=1, inplace=True)\n",
    "\n",
    "proc_df.set_index('Data fim', inplace = True)\n",
    "\n",
    "proc_df.drop(['Descartar'], axis=1, inplace=True)\n",
    "proc_df.shape"
   ]
  },
  {
   "cell_type": "code",
   "execution_count": 16,
   "metadata": {},
   "outputs": [],
   "source": [
    "procnulos_df = proc_df.dropna(inplace=False)"
   ]
  },
  {
   "cell_type": "code",
   "execution_count": 18,
   "metadata": {},
   "outputs": [
    {
     "data": {
      "text/plain": [
       "(7449, 88)"
      ]
     },
     "execution_count": 18,
     "metadata": {},
     "output_type": "execute_result"
    }
   ],
   "source": [
    "procnulos_df.shape"
   ]
  },
  {
   "cell_type": "code",
   "execution_count": 21,
   "metadata": {},
   "outputs": [
    {
     "data": {
      "text/html": [
       "<div>\n",
       "<style scoped>\n",
       "    .dataframe tbody tr th:only-of-type {\n",
       "        vertical-align: middle;\n",
       "    }\n",
       "\n",
       "    .dataframe tbody tr th {\n",
       "        vertical-align: top;\n",
       "    }\n",
       "\n",
       "    .dataframe thead th {\n",
       "        text-align: right;\n",
       "    }\n",
       "</style>\n",
       "<table border=\"1\" class=\"dataframe\">\n",
       "  <thead>\n",
       "    <tr style=\"text-align: right;\">\n",
       "      <th></th>\n",
       "      <th>Data início</th>\n",
       "      <th>TQ-41001.VZ.AF</th>\n",
       "      <th>TI413001</th>\n",
       "      <th>V-48001.DN.AF</th>\n",
       "      <th>V-48002.DN.AF</th>\n",
       "      <th>TQ-62013.VZ.AF</th>\n",
       "      <th>TE620027</th>\n",
       "      <th>TI110186-AF</th>\n",
       "      <th>TQ-62014.VZ.AF</th>\n",
       "      <th>TE620028</th>\n",
       "      <th>...</th>\n",
       "      <th>TI975010B</th>\n",
       "      <th>U28-PARADA</th>\n",
       "      <th>PV-210467A-AF</th>\n",
       "      <th>PV-210467B-AF</th>\n",
       "      <th>PV-210573B-AF</th>\n",
       "      <th>PV-350573B-AF</th>\n",
       "      <th>PV-350548-AF</th>\n",
       "      <th>PV-110093C-AF</th>\n",
       "      <th>PV-110150C-AF</th>\n",
       "      <th>FI110417</th>\n",
       "    </tr>\n",
       "    <tr>\n",
       "      <th>Data fim</th>\n",
       "      <th></th>\n",
       "      <th></th>\n",
       "      <th></th>\n",
       "      <th></th>\n",
       "      <th></th>\n",
       "      <th></th>\n",
       "      <th></th>\n",
       "      <th></th>\n",
       "      <th></th>\n",
       "      <th></th>\n",
       "      <th></th>\n",
       "      <th></th>\n",
       "      <th></th>\n",
       "      <th></th>\n",
       "      <th></th>\n",
       "      <th></th>\n",
       "      <th></th>\n",
       "      <th></th>\n",
       "      <th></th>\n",
       "      <th></th>\n",
       "      <th></th>\n",
       "    </tr>\n",
       "  </thead>\n",
       "  <tbody>\n",
       "    <tr>\n",
       "      <td>2017-09-02 03:59:59.999</td>\n",
       "      <td>2017-09-02 02:59:59.999</td>\n",
       "      <td>0.218342</td>\n",
       "      <td>39.223436</td>\n",
       "      <td>6.788220</td>\n",
       "      <td>0.121280</td>\n",
       "      <td>0.001684</td>\n",
       "      <td>26.400000</td>\n",
       "      <td>162.887809</td>\n",
       "      <td>11.440688</td>\n",
       "      <td>29.111534</td>\n",
       "      <td>...</td>\n",
       "      <td>1001.381323</td>\n",
       "      <td>0.0</td>\n",
       "      <td>0.0</td>\n",
       "      <td>0.0</td>\n",
       "      <td>0.0</td>\n",
       "      <td>7.565457</td>\n",
       "      <td>11.020103</td>\n",
       "      <td>0.0</td>\n",
       "      <td>0.0</td>\n",
       "      <td>0.0</td>\n",
       "    </tr>\n",
       "    <tr>\n",
       "      <td>2017-11-22 08:59:59.998</td>\n",
       "      <td>2017-11-22 07:59:59.998</td>\n",
       "      <td>31.329708</td>\n",
       "      <td>40.583669</td>\n",
       "      <td>0.147086</td>\n",
       "      <td>0.129637</td>\n",
       "      <td>-0.360596</td>\n",
       "      <td>28.800001</td>\n",
       "      <td>178.905402</td>\n",
       "      <td>0.150783</td>\n",
       "      <td>40.520013</td>\n",
       "      <td>...</td>\n",
       "      <td>1001.609788</td>\n",
       "      <td>0.0</td>\n",
       "      <td>0.0</td>\n",
       "      <td>0.0</td>\n",
       "      <td>0.0</td>\n",
       "      <td>35.785232</td>\n",
       "      <td>0.000000</td>\n",
       "      <td>0.0</td>\n",
       "      <td>0.0</td>\n",
       "      <td>0.0</td>\n",
       "    </tr>\n",
       "    <tr>\n",
       "      <td>2017-11-22 20:59:59.998</td>\n",
       "      <td>2017-11-22 19:59:59.998</td>\n",
       "      <td>12.273505</td>\n",
       "      <td>39.403210</td>\n",
       "      <td>-0.223083</td>\n",
       "      <td>-0.250724</td>\n",
       "      <td>40.608366</td>\n",
       "      <td>29.100000</td>\n",
       "      <td>181.311104</td>\n",
       "      <td>0.641819</td>\n",
       "      <td>39.792021</td>\n",
       "      <td>...</td>\n",
       "      <td>1001.386667</td>\n",
       "      <td>0.0</td>\n",
       "      <td>0.0</td>\n",
       "      <td>0.0</td>\n",
       "      <td>0.0</td>\n",
       "      <td>12.776565</td>\n",
       "      <td>18.822319</td>\n",
       "      <td>0.0</td>\n",
       "      <td>0.0</td>\n",
       "      <td>0.0</td>\n",
       "    </tr>\n",
       "    <tr>\n",
       "      <td>2017-11-22 22:59:59.998</td>\n",
       "      <td>2017-11-22 21:59:59.998</td>\n",
       "      <td>17.056013</td>\n",
       "      <td>38.144012</td>\n",
       "      <td>0.052230</td>\n",
       "      <td>0.030985</td>\n",
       "      <td>33.019753</td>\n",
       "      <td>29.043874</td>\n",
       "      <td>175.505577</td>\n",
       "      <td>0.657156</td>\n",
       "      <td>39.543638</td>\n",
       "      <td>...</td>\n",
       "      <td>1001.336555</td>\n",
       "      <td>0.0</td>\n",
       "      <td>0.0</td>\n",
       "      <td>0.0</td>\n",
       "      <td>0.0</td>\n",
       "      <td>24.678912</td>\n",
       "      <td>12.293710</td>\n",
       "      <td>0.0</td>\n",
       "      <td>0.0</td>\n",
       "      <td>0.0</td>\n",
       "    </tr>\n",
       "    <tr>\n",
       "      <td>2017-11-22 23:59:59.998</td>\n",
       "      <td>2017-11-22 22:59:59.998</td>\n",
       "      <td>10.566478</td>\n",
       "      <td>38.445237</td>\n",
       "      <td>-0.079083</td>\n",
       "      <td>0.018097</td>\n",
       "      <td>30.126927</td>\n",
       "      <td>29.000000</td>\n",
       "      <td>185.396828</td>\n",
       "      <td>0.631776</td>\n",
       "      <td>39.442486</td>\n",
       "      <td>...</td>\n",
       "      <td>1001.317013</td>\n",
       "      <td>0.0</td>\n",
       "      <td>0.0</td>\n",
       "      <td>0.0</td>\n",
       "      <td>0.0</td>\n",
       "      <td>28.448484</td>\n",
       "      <td>11.720355</td>\n",
       "      <td>0.0</td>\n",
       "      <td>0.0</td>\n",
       "      <td>0.0</td>\n",
       "    </tr>\n",
       "  </tbody>\n",
       "</table>\n",
       "<p>5 rows × 88 columns</p>\n",
       "</div>"
      ],
      "text/plain": [
       "                                    Data início  TQ-41001.VZ.AF   TI413001  \\\n",
       "Data fim                                                                     \n",
       "2017-09-02 03:59:59.999 2017-09-02 02:59:59.999        0.218342  39.223436   \n",
       "2017-11-22 08:59:59.998 2017-11-22 07:59:59.998       31.329708  40.583669   \n",
       "2017-11-22 20:59:59.998 2017-11-22 19:59:59.998       12.273505  39.403210   \n",
       "2017-11-22 22:59:59.998 2017-11-22 21:59:59.998       17.056013  38.144012   \n",
       "2017-11-22 23:59:59.998 2017-11-22 22:59:59.998       10.566478  38.445237   \n",
       "\n",
       "                         V-48001.DN.AF  V-48002.DN.AF  TQ-62013.VZ.AF  \\\n",
       "Data fim                                                                \n",
       "2017-09-02 03:59:59.999       6.788220       0.121280        0.001684   \n",
       "2017-11-22 08:59:59.998       0.147086       0.129637       -0.360596   \n",
       "2017-11-22 20:59:59.998      -0.223083      -0.250724       40.608366   \n",
       "2017-11-22 22:59:59.998       0.052230       0.030985       33.019753   \n",
       "2017-11-22 23:59:59.998      -0.079083       0.018097       30.126927   \n",
       "\n",
       "                          TE620027  TI110186-AF  TQ-62014.VZ.AF   TE620028  \\\n",
       "Data fim                                                                     \n",
       "2017-09-02 03:59:59.999  26.400000   162.887809       11.440688  29.111534   \n",
       "2017-11-22 08:59:59.998  28.800001   178.905402        0.150783  40.520013   \n",
       "2017-11-22 20:59:59.998  29.100000   181.311104        0.641819  39.792021   \n",
       "2017-11-22 22:59:59.998  29.043874   175.505577        0.657156  39.543638   \n",
       "2017-11-22 23:59:59.998  29.000000   185.396828        0.631776  39.442486   \n",
       "\n",
       "                         ...    TI975010B  U28-PARADA  PV-210467A-AF  \\\n",
       "Data fim                 ...                                           \n",
       "2017-09-02 03:59:59.999  ...  1001.381323         0.0            0.0   \n",
       "2017-11-22 08:59:59.998  ...  1001.609788         0.0            0.0   \n",
       "2017-11-22 20:59:59.998  ...  1001.386667         0.0            0.0   \n",
       "2017-11-22 22:59:59.998  ...  1001.336555         0.0            0.0   \n",
       "2017-11-22 23:59:59.998  ...  1001.317013         0.0            0.0   \n",
       "\n",
       "                         PV-210467B-AF  PV-210573B-AF  PV-350573B-AF  \\\n",
       "Data fim                                                               \n",
       "2017-09-02 03:59:59.999            0.0            0.0       7.565457   \n",
       "2017-11-22 08:59:59.998            0.0            0.0      35.785232   \n",
       "2017-11-22 20:59:59.998            0.0            0.0      12.776565   \n",
       "2017-11-22 22:59:59.998            0.0            0.0      24.678912   \n",
       "2017-11-22 23:59:59.998            0.0            0.0      28.448484   \n",
       "\n",
       "                         PV-350548-AF  PV-110093C-AF  PV-110150C-AF  FI110417  \n",
       "Data fim                                                                       \n",
       "2017-09-02 03:59:59.999     11.020103            0.0            0.0       0.0  \n",
       "2017-11-22 08:59:59.998      0.000000            0.0            0.0       0.0  \n",
       "2017-11-22 20:59:59.998     18.822319            0.0            0.0       0.0  \n",
       "2017-11-22 22:59:59.998     12.293710            0.0            0.0       0.0  \n",
       "2017-11-22 23:59:59.998     11.720355            0.0            0.0       0.0  \n",
       "\n",
       "[5 rows x 88 columns]"
      ]
     },
     "execution_count": 21,
     "metadata": {},
     "output_type": "execute_result"
    }
   ],
   "source": [
    "procnulos_df.head()"
   ]
  },
  {
   "cell_type": "code",
   "execution_count": 22,
   "metadata": {},
   "outputs": [
    {
     "data": {
      "text/html": [
       "<div>\n",
       "<style scoped>\n",
       "    .dataframe tbody tr th:only-of-type {\n",
       "        vertical-align: middle;\n",
       "    }\n",
       "\n",
       "    .dataframe tbody tr th {\n",
       "        vertical-align: top;\n",
       "    }\n",
       "\n",
       "    .dataframe thead th {\n",
       "        text-align: right;\n",
       "    }\n",
       "</style>\n",
       "<table border=\"1\" class=\"dataframe\">\n",
       "  <thead>\n",
       "    <tr style=\"text-align: right;\">\n",
       "      <th></th>\n",
       "      <th>Data início</th>\n",
       "      <th>TQ-41001.VZ.AF</th>\n",
       "      <th>TI413001</th>\n",
       "      <th>V-48001.DN.AF</th>\n",
       "      <th>V-48002.DN.AF</th>\n",
       "      <th>TQ-62013.VZ.AF</th>\n",
       "      <th>TE620027</th>\n",
       "      <th>TI110186-AF</th>\n",
       "      <th>TQ-62014.VZ.AF</th>\n",
       "      <th>TE620028</th>\n",
       "      <th>...</th>\n",
       "      <th>TI975010B</th>\n",
       "      <th>U28-PARADA</th>\n",
       "      <th>PV-210467A-AF</th>\n",
       "      <th>PV-210467B-AF</th>\n",
       "      <th>PV-210573B-AF</th>\n",
       "      <th>PV-350573B-AF</th>\n",
       "      <th>PV-350548-AF</th>\n",
       "      <th>PV-110093C-AF</th>\n",
       "      <th>PV-110150C-AF</th>\n",
       "      <th>FI110417</th>\n",
       "    </tr>\n",
       "    <tr>\n",
       "      <th>Data fim</th>\n",
       "      <th></th>\n",
       "      <th></th>\n",
       "      <th></th>\n",
       "      <th></th>\n",
       "      <th></th>\n",
       "      <th></th>\n",
       "      <th></th>\n",
       "      <th></th>\n",
       "      <th></th>\n",
       "      <th></th>\n",
       "      <th></th>\n",
       "      <th></th>\n",
       "      <th></th>\n",
       "      <th></th>\n",
       "      <th></th>\n",
       "      <th></th>\n",
       "      <th></th>\n",
       "      <th></th>\n",
       "      <th></th>\n",
       "      <th></th>\n",
       "      <th></th>\n",
       "    </tr>\n",
       "  </thead>\n",
       "  <tbody>\n",
       "    <tr>\n",
       "      <td>2016-01-01 01:00:00</td>\n",
       "      <td>2016-01-01 00:00:00</td>\n",
       "      <td>0.005233</td>\n",
       "      <td>35.133058</td>\n",
       "      <td>-0.172928</td>\n",
       "      <td>-0.155153</td>\n",
       "      <td>0.080922</td>\n",
       "      <td>28.858411</td>\n",
       "      <td>0.0</td>\n",
       "      <td>0.000000</td>\n",
       "      <td>26.792087</td>\n",
       "      <td>...</td>\n",
       "      <td>739.823407</td>\n",
       "      <td>NaN</td>\n",
       "      <td>0.0</td>\n",
       "      <td>0.0</td>\n",
       "      <td>0.0</td>\n",
       "      <td>22.943478</td>\n",
       "      <td>0.394497</td>\n",
       "      <td>NaN</td>\n",
       "      <td>NaN</td>\n",
       "      <td>0.0</td>\n",
       "    </tr>\n",
       "    <tr>\n",
       "      <td>2016-01-01 02:00:00</td>\n",
       "      <td>2016-01-01 01:00:00</td>\n",
       "      <td>0.036522</td>\n",
       "      <td>35.098298</td>\n",
       "      <td>-0.066285</td>\n",
       "      <td>-0.195570</td>\n",
       "      <td>0.000000</td>\n",
       "      <td>28.757296</td>\n",
       "      <td>0.0</td>\n",
       "      <td>0.000000</td>\n",
       "      <td>26.615738</td>\n",
       "      <td>...</td>\n",
       "      <td>741.431740</td>\n",
       "      <td>NaN</td>\n",
       "      <td>0.0</td>\n",
       "      <td>0.0</td>\n",
       "      <td>0.0</td>\n",
       "      <td>25.062691</td>\n",
       "      <td>0.123771</td>\n",
       "      <td>NaN</td>\n",
       "      <td>NaN</td>\n",
       "      <td>0.0</td>\n",
       "    </tr>\n",
       "    <tr>\n",
       "      <td>2016-01-01 03:00:00</td>\n",
       "      <td>2016-01-01 02:00:00</td>\n",
       "      <td>0.062650</td>\n",
       "      <td>35.328307</td>\n",
       "      <td>-0.055819</td>\n",
       "      <td>0.019849</td>\n",
       "      <td>0.000000</td>\n",
       "      <td>28.656179</td>\n",
       "      <td>0.0</td>\n",
       "      <td>0.000000</td>\n",
       "      <td>26.488830</td>\n",
       "      <td>...</td>\n",
       "      <td>689.144974</td>\n",
       "      <td>NaN</td>\n",
       "      <td>0.0</td>\n",
       "      <td>0.0</td>\n",
       "      <td>0.0</td>\n",
       "      <td>25.323193</td>\n",
       "      <td>3.081834</td>\n",
       "      <td>NaN</td>\n",
       "      <td>NaN</td>\n",
       "      <td>0.0</td>\n",
       "    </tr>\n",
       "    <tr>\n",
       "      <td>2016-01-01 04:00:00</td>\n",
       "      <td>2016-01-01 03:00:00</td>\n",
       "      <td>-0.093375</td>\n",
       "      <td>34.725068</td>\n",
       "      <td>0.160483</td>\n",
       "      <td>-0.559361</td>\n",
       "      <td>0.000000</td>\n",
       "      <td>28.555035</td>\n",
       "      <td>0.0</td>\n",
       "      <td>-0.000601</td>\n",
       "      <td>26.299740</td>\n",
       "      <td>...</td>\n",
       "      <td>683.174397</td>\n",
       "      <td>NaN</td>\n",
       "      <td>0.0</td>\n",
       "      <td>0.0</td>\n",
       "      <td>0.0</td>\n",
       "      <td>25.942286</td>\n",
       "      <td>0.163177</td>\n",
       "      <td>NaN</td>\n",
       "      <td>NaN</td>\n",
       "      <td>0.0</td>\n",
       "    </tr>\n",
       "    <tr>\n",
       "      <td>2016-01-01 05:00:00</td>\n",
       "      <td>2016-01-01 04:00:00</td>\n",
       "      <td>-0.032477</td>\n",
       "      <td>34.671623</td>\n",
       "      <td>0.216787</td>\n",
       "      <td>-1.909803</td>\n",
       "      <td>0.000000</td>\n",
       "      <td>28.453877</td>\n",
       "      <td>0.0</td>\n",
       "      <td>-0.016607</td>\n",
       "      <td>26.084321</td>\n",
       "      <td>...</td>\n",
       "      <td>709.463152</td>\n",
       "      <td>NaN</td>\n",
       "      <td>0.0</td>\n",
       "      <td>0.0</td>\n",
       "      <td>0.0</td>\n",
       "      <td>23.446062</td>\n",
       "      <td>0.242666</td>\n",
       "      <td>NaN</td>\n",
       "      <td>NaN</td>\n",
       "      <td>0.0</td>\n",
       "    </tr>\n",
       "  </tbody>\n",
       "</table>\n",
       "<p>5 rows × 88 columns</p>\n",
       "</div>"
      ],
      "text/plain": [
       "                            Data início  TQ-41001.VZ.AF   TI413001  \\\n",
       "Data fim                                                             \n",
       "2016-01-01 01:00:00 2016-01-01 00:00:00        0.005233  35.133058   \n",
       "2016-01-01 02:00:00 2016-01-01 01:00:00        0.036522  35.098298   \n",
       "2016-01-01 03:00:00 2016-01-01 02:00:00        0.062650  35.328307   \n",
       "2016-01-01 04:00:00 2016-01-01 03:00:00       -0.093375  34.725068   \n",
       "2016-01-01 05:00:00 2016-01-01 04:00:00       -0.032477  34.671623   \n",
       "\n",
       "                     V-48001.DN.AF  V-48002.DN.AF  TQ-62013.VZ.AF   TE620027  \\\n",
       "Data fim                                                                       \n",
       "2016-01-01 01:00:00      -0.172928      -0.155153        0.080922  28.858411   \n",
       "2016-01-01 02:00:00      -0.066285      -0.195570        0.000000  28.757296   \n",
       "2016-01-01 03:00:00      -0.055819       0.019849        0.000000  28.656179   \n",
       "2016-01-01 04:00:00       0.160483      -0.559361        0.000000  28.555035   \n",
       "2016-01-01 05:00:00       0.216787      -1.909803        0.000000  28.453877   \n",
       "\n",
       "                     TI110186-AF  TQ-62014.VZ.AF   TE620028  ...   TI975010B  \\\n",
       "Data fim                                                     ...               \n",
       "2016-01-01 01:00:00          0.0        0.000000  26.792087  ...  739.823407   \n",
       "2016-01-01 02:00:00          0.0        0.000000  26.615738  ...  741.431740   \n",
       "2016-01-01 03:00:00          0.0        0.000000  26.488830  ...  689.144974   \n",
       "2016-01-01 04:00:00          0.0       -0.000601  26.299740  ...  683.174397   \n",
       "2016-01-01 05:00:00          0.0       -0.016607  26.084321  ...  709.463152   \n",
       "\n",
       "                     U28-PARADA  PV-210467A-AF  PV-210467B-AF  PV-210573B-AF  \\\n",
       "Data fim                                                                       \n",
       "2016-01-01 01:00:00         NaN            0.0            0.0            0.0   \n",
       "2016-01-01 02:00:00         NaN            0.0            0.0            0.0   \n",
       "2016-01-01 03:00:00         NaN            0.0            0.0            0.0   \n",
       "2016-01-01 04:00:00         NaN            0.0            0.0            0.0   \n",
       "2016-01-01 05:00:00         NaN            0.0            0.0            0.0   \n",
       "\n",
       "                     PV-350573B-AF  PV-350548-AF  PV-110093C-AF  \\\n",
       "Data fim                                                          \n",
       "2016-01-01 01:00:00      22.943478      0.394497            NaN   \n",
       "2016-01-01 02:00:00      25.062691      0.123771            NaN   \n",
       "2016-01-01 03:00:00      25.323193      3.081834            NaN   \n",
       "2016-01-01 04:00:00      25.942286      0.163177            NaN   \n",
       "2016-01-01 05:00:00      23.446062      0.242666            NaN   \n",
       "\n",
       "                     PV-110150C-AF  FI110417  \n",
       "Data fim                                      \n",
       "2016-01-01 01:00:00            NaN       0.0  \n",
       "2016-01-01 02:00:00            NaN       0.0  \n",
       "2016-01-01 03:00:00            NaN       0.0  \n",
       "2016-01-01 04:00:00            NaN       0.0  \n",
       "2016-01-01 05:00:00            NaN       0.0  \n",
       "\n",
       "[5 rows x 88 columns]"
      ]
     },
     "execution_count": 22,
     "metadata": {},
     "output_type": "execute_result"
    }
   ],
   "source": [
    "proc_df.head()"
   ]
  },
  {
   "cell_type": "code",
   "execution_count": 23,
   "metadata": {},
   "outputs": [
    {
     "data": {
      "text/plain": [
       "Data início       datetime64[ns]\n",
       "TQ-41001.VZ.AF           float64\n",
       "TI413001                 float64\n",
       "V-48001.DN.AF            float64\n",
       "V-48002.DN.AF            float64\n",
       "                       ...      \n",
       "PV-350573B-AF            float64\n",
       "PV-350548-AF             float64\n",
       "PV-110093C-AF            float64\n",
       "PV-110150C-AF            float64\n",
       "FI110417                 float64\n",
       "Length: 88, dtype: object"
      ]
     },
     "execution_count": 23,
     "metadata": {},
     "output_type": "execute_result"
    }
   ],
   "source": [
    "proc_df.dtypes"
   ]
  },
  {
   "cell_type": "code",
   "execution_count": 24,
   "metadata": {},
   "outputs": [
    {
     "data": {
      "text/html": [
       "<div>\n",
       "<style scoped>\n",
       "    .dataframe tbody tr th:only-of-type {\n",
       "        vertical-align: middle;\n",
       "    }\n",
       "\n",
       "    .dataframe tbody tr th {\n",
       "        vertical-align: top;\n",
       "    }\n",
       "\n",
       "    .dataframe thead th {\n",
       "        text-align: right;\n",
       "    }\n",
       "</style>\n",
       "<table border=\"1\" class=\"dataframe\">\n",
       "  <thead>\n",
       "    <tr style=\"text-align: right;\">\n",
       "      <th></th>\n",
       "      <th>Data início</th>\n",
       "      <th>TQ-41001.VZ.AF</th>\n",
       "      <th>TI413001</th>\n",
       "      <th>V-48001.DN.AF</th>\n",
       "      <th>V-48002.DN.AF</th>\n",
       "      <th>TQ-62013.VZ.AF</th>\n",
       "      <th>TE620027</th>\n",
       "      <th>TI110186-AF</th>\n",
       "      <th>TQ-62014.VZ.AF</th>\n",
       "      <th>TE620028</th>\n",
       "      <th>...</th>\n",
       "      <th>TI975010B</th>\n",
       "      <th>U28-PARADA</th>\n",
       "      <th>PV-210467A-AF</th>\n",
       "      <th>PV-210467B-AF</th>\n",
       "      <th>PV-210573B-AF</th>\n",
       "      <th>PV-350573B-AF</th>\n",
       "      <th>PV-350548-AF</th>\n",
       "      <th>PV-110093C-AF</th>\n",
       "      <th>PV-110150C-AF</th>\n",
       "      <th>FI110417</th>\n",
       "    </tr>\n",
       "    <tr>\n",
       "      <th>Data fim</th>\n",
       "      <th></th>\n",
       "      <th></th>\n",
       "      <th></th>\n",
       "      <th></th>\n",
       "      <th></th>\n",
       "      <th></th>\n",
       "      <th></th>\n",
       "      <th></th>\n",
       "      <th></th>\n",
       "      <th></th>\n",
       "      <th></th>\n",
       "      <th></th>\n",
       "      <th></th>\n",
       "      <th></th>\n",
       "      <th></th>\n",
       "      <th></th>\n",
       "      <th></th>\n",
       "      <th></th>\n",
       "      <th></th>\n",
       "      <th></th>\n",
       "      <th></th>\n",
       "    </tr>\n",
       "  </thead>\n",
       "  <tbody>\n",
       "    <tr>\n",
       "      <td>2016-01-01 01:00:00</td>\n",
       "      <td>2016-01-01 00:00:00</td>\n",
       "      <td>0.005233</td>\n",
       "      <td>35.133058</td>\n",
       "      <td>-0.172928</td>\n",
       "      <td>-0.155153</td>\n",
       "      <td>0.080922</td>\n",
       "      <td>28.858411</td>\n",
       "      <td>0.0</td>\n",
       "      <td>0.000000</td>\n",
       "      <td>26.792087</td>\n",
       "      <td>...</td>\n",
       "      <td>739.823407</td>\n",
       "      <td>NaN</td>\n",
       "      <td>0.0</td>\n",
       "      <td>0.0</td>\n",
       "      <td>0.0</td>\n",
       "      <td>22.943478</td>\n",
       "      <td>0.394497</td>\n",
       "      <td>NaN</td>\n",
       "      <td>NaN</td>\n",
       "      <td>0.0</td>\n",
       "    </tr>\n",
       "    <tr>\n",
       "      <td>2016-01-01 02:00:00</td>\n",
       "      <td>2016-01-01 01:00:00</td>\n",
       "      <td>0.036522</td>\n",
       "      <td>35.098298</td>\n",
       "      <td>-0.066285</td>\n",
       "      <td>-0.195570</td>\n",
       "      <td>0.000000</td>\n",
       "      <td>28.757296</td>\n",
       "      <td>0.0</td>\n",
       "      <td>0.000000</td>\n",
       "      <td>26.615738</td>\n",
       "      <td>...</td>\n",
       "      <td>741.431740</td>\n",
       "      <td>NaN</td>\n",
       "      <td>0.0</td>\n",
       "      <td>0.0</td>\n",
       "      <td>0.0</td>\n",
       "      <td>25.062691</td>\n",
       "      <td>0.123771</td>\n",
       "      <td>NaN</td>\n",
       "      <td>NaN</td>\n",
       "      <td>0.0</td>\n",
       "    </tr>\n",
       "    <tr>\n",
       "      <td>2016-01-01 03:00:00</td>\n",
       "      <td>2016-01-01 02:00:00</td>\n",
       "      <td>0.062650</td>\n",
       "      <td>35.328307</td>\n",
       "      <td>-0.055819</td>\n",
       "      <td>0.019849</td>\n",
       "      <td>0.000000</td>\n",
       "      <td>28.656179</td>\n",
       "      <td>0.0</td>\n",
       "      <td>0.000000</td>\n",
       "      <td>26.488830</td>\n",
       "      <td>...</td>\n",
       "      <td>689.144974</td>\n",
       "      <td>NaN</td>\n",
       "      <td>0.0</td>\n",
       "      <td>0.0</td>\n",
       "      <td>0.0</td>\n",
       "      <td>25.323193</td>\n",
       "      <td>3.081834</td>\n",
       "      <td>NaN</td>\n",
       "      <td>NaN</td>\n",
       "      <td>0.0</td>\n",
       "    </tr>\n",
       "    <tr>\n",
       "      <td>2016-01-01 04:00:00</td>\n",
       "      <td>2016-01-01 03:00:00</td>\n",
       "      <td>-0.093375</td>\n",
       "      <td>34.725068</td>\n",
       "      <td>0.160483</td>\n",
       "      <td>-0.559361</td>\n",
       "      <td>0.000000</td>\n",
       "      <td>28.555035</td>\n",
       "      <td>0.0</td>\n",
       "      <td>-0.000601</td>\n",
       "      <td>26.299740</td>\n",
       "      <td>...</td>\n",
       "      <td>683.174397</td>\n",
       "      <td>NaN</td>\n",
       "      <td>0.0</td>\n",
       "      <td>0.0</td>\n",
       "      <td>0.0</td>\n",
       "      <td>25.942286</td>\n",
       "      <td>0.163177</td>\n",
       "      <td>NaN</td>\n",
       "      <td>NaN</td>\n",
       "      <td>0.0</td>\n",
       "    </tr>\n",
       "    <tr>\n",
       "      <td>2016-01-01 05:00:00</td>\n",
       "      <td>2016-01-01 04:00:00</td>\n",
       "      <td>-0.032477</td>\n",
       "      <td>34.671623</td>\n",
       "      <td>0.216787</td>\n",
       "      <td>-1.909803</td>\n",
       "      <td>0.000000</td>\n",
       "      <td>28.453877</td>\n",
       "      <td>0.0</td>\n",
       "      <td>-0.016607</td>\n",
       "      <td>26.084321</td>\n",
       "      <td>...</td>\n",
       "      <td>709.463152</td>\n",
       "      <td>NaN</td>\n",
       "      <td>0.0</td>\n",
       "      <td>0.0</td>\n",
       "      <td>0.0</td>\n",
       "      <td>23.446062</td>\n",
       "      <td>0.242666</td>\n",
       "      <td>NaN</td>\n",
       "      <td>NaN</td>\n",
       "      <td>0.0</td>\n",
       "    </tr>\n",
       "  </tbody>\n",
       "</table>\n",
       "<p>5 rows × 88 columns</p>\n",
       "</div>"
      ],
      "text/plain": [
       "                            Data início  TQ-41001.VZ.AF   TI413001  \\\n",
       "Data fim                                                             \n",
       "2016-01-01 01:00:00 2016-01-01 00:00:00        0.005233  35.133058   \n",
       "2016-01-01 02:00:00 2016-01-01 01:00:00        0.036522  35.098298   \n",
       "2016-01-01 03:00:00 2016-01-01 02:00:00        0.062650  35.328307   \n",
       "2016-01-01 04:00:00 2016-01-01 03:00:00       -0.093375  34.725068   \n",
       "2016-01-01 05:00:00 2016-01-01 04:00:00       -0.032477  34.671623   \n",
       "\n",
       "                     V-48001.DN.AF  V-48002.DN.AF  TQ-62013.VZ.AF   TE620027  \\\n",
       "Data fim                                                                       \n",
       "2016-01-01 01:00:00      -0.172928      -0.155153        0.080922  28.858411   \n",
       "2016-01-01 02:00:00      -0.066285      -0.195570        0.000000  28.757296   \n",
       "2016-01-01 03:00:00      -0.055819       0.019849        0.000000  28.656179   \n",
       "2016-01-01 04:00:00       0.160483      -0.559361        0.000000  28.555035   \n",
       "2016-01-01 05:00:00       0.216787      -1.909803        0.000000  28.453877   \n",
       "\n",
       "                     TI110186-AF  TQ-62014.VZ.AF   TE620028  ...   TI975010B  \\\n",
       "Data fim                                                     ...               \n",
       "2016-01-01 01:00:00          0.0        0.000000  26.792087  ...  739.823407   \n",
       "2016-01-01 02:00:00          0.0        0.000000  26.615738  ...  741.431740   \n",
       "2016-01-01 03:00:00          0.0        0.000000  26.488830  ...  689.144974   \n",
       "2016-01-01 04:00:00          0.0       -0.000601  26.299740  ...  683.174397   \n",
       "2016-01-01 05:00:00          0.0       -0.016607  26.084321  ...  709.463152   \n",
       "\n",
       "                     U28-PARADA  PV-210467A-AF  PV-210467B-AF  PV-210573B-AF  \\\n",
       "Data fim                                                                       \n",
       "2016-01-01 01:00:00         NaN            0.0            0.0            0.0   \n",
       "2016-01-01 02:00:00         NaN            0.0            0.0            0.0   \n",
       "2016-01-01 03:00:00         NaN            0.0            0.0            0.0   \n",
       "2016-01-01 04:00:00         NaN            0.0            0.0            0.0   \n",
       "2016-01-01 05:00:00         NaN            0.0            0.0            0.0   \n",
       "\n",
       "                     PV-350573B-AF  PV-350548-AF  PV-110093C-AF  \\\n",
       "Data fim                                                          \n",
       "2016-01-01 01:00:00      22.943478      0.394497            NaN   \n",
       "2016-01-01 02:00:00      25.062691      0.123771            NaN   \n",
       "2016-01-01 03:00:00      25.323193      3.081834            NaN   \n",
       "2016-01-01 04:00:00      25.942286      0.163177            NaN   \n",
       "2016-01-01 05:00:00      23.446062      0.242666            NaN   \n",
       "\n",
       "                     PV-110150C-AF  FI110417  \n",
       "Data fim                                      \n",
       "2016-01-01 01:00:00            NaN       0.0  \n",
       "2016-01-01 02:00:00            NaN       0.0  \n",
       "2016-01-01 03:00:00            NaN       0.0  \n",
       "2016-01-01 04:00:00            NaN       0.0  \n",
       "2016-01-01 05:00:00            NaN       0.0  \n",
       "\n",
       "[5 rows x 88 columns]"
      ]
     },
     "execution_count": 24,
     "metadata": {},
     "output_type": "execute_result"
    }
   ],
   "source": [
    "proc_df.head()"
   ]
  },
  {
   "cell_type": "code",
   "execution_count": 56,
   "metadata": {},
   "outputs": [],
   "source": [
    "#dates = [pd.to_numeric(d) for d in proc_df['Data início']]\n",
    "#proc_df['datanum'] = pd.to_datetime(proc_df['Data início']).astype(int)"
   ]
  },
  {
   "cell_type": "code",
   "execution_count": 52,
   "metadata": {},
   "outputs": [
    {
     "ename": "ValueError",
     "evalue": "scatter requires x column to be numeric",
     "output_type": "error",
     "traceback": [
      "\u001b[1;31m---------------------------------------------------------------------------\u001b[0m",
      "\u001b[1;31mValueError\u001b[0m                                Traceback (most recent call last)",
      "\u001b[1;32m<ipython-input-52-fc70e9fb33b8>\u001b[0m in \u001b[0;36m<module>\u001b[1;34m\u001b[0m\n\u001b[1;32m----> 1\u001b[1;33m \u001b[0mproc_df\u001b[0m\u001b[1;33m.\u001b[0m\u001b[0mplot\u001b[0m\u001b[1;33m.\u001b[0m\u001b[0mscatter\u001b[0m\u001b[1;33m(\u001b[0m\u001b[0mx\u001b[0m \u001b[1;33m=\u001b[0m \u001b[1;34m'datanum'\u001b[0m\u001b[1;33m,\u001b[0m \u001b[0my\u001b[0m \u001b[1;33m=\u001b[0m \u001b[1;34m'TI413001'\u001b[0m\u001b[1;33m)\u001b[0m\u001b[1;33m\u001b[0m\u001b[0m\n\u001b[0m",
      "\u001b[1;32m~\\AppData\\Local\\Continuum\\miniconda3\\envs\\iaambiental\\lib\\site-packages\\pandas\\plotting\\_core.py\u001b[0m in \u001b[0;36mscatter\u001b[1;34m(self, x, y, s, c, **kwargs)\u001b[0m\n\u001b[0;32m   1442\u001b[0m             ...                       colormap='viridis')\n\u001b[0;32m   1443\u001b[0m         \"\"\"\n\u001b[1;32m-> 1444\u001b[1;33m         \u001b[1;32mreturn\u001b[0m \u001b[0mself\u001b[0m\u001b[1;33m(\u001b[0m\u001b[0mkind\u001b[0m\u001b[1;33m=\u001b[0m\u001b[1;34m\"scatter\"\u001b[0m\u001b[1;33m,\u001b[0m \u001b[0mx\u001b[0m\u001b[1;33m=\u001b[0m\u001b[0mx\u001b[0m\u001b[1;33m,\u001b[0m \u001b[0my\u001b[0m\u001b[1;33m=\u001b[0m\u001b[0my\u001b[0m\u001b[1;33m,\u001b[0m \u001b[0ms\u001b[0m\u001b[1;33m=\u001b[0m\u001b[0ms\u001b[0m\u001b[1;33m,\u001b[0m \u001b[0mc\u001b[0m\u001b[1;33m=\u001b[0m\u001b[0mc\u001b[0m\u001b[1;33m,\u001b[0m \u001b[1;33m**\u001b[0m\u001b[0mkwargs\u001b[0m\u001b[1;33m)\u001b[0m\u001b[1;33m\u001b[0m\u001b[0m\n\u001b[0m\u001b[0;32m   1445\u001b[0m \u001b[1;33m\u001b[0m\u001b[0m\n\u001b[0;32m   1446\u001b[0m     \u001b[1;32mdef\u001b[0m \u001b[0mhexbin\u001b[0m\u001b[1;33m(\u001b[0m\u001b[0mself\u001b[0m\u001b[1;33m,\u001b[0m \u001b[0mx\u001b[0m\u001b[1;33m,\u001b[0m \u001b[0my\u001b[0m\u001b[1;33m,\u001b[0m \u001b[0mC\u001b[0m\u001b[1;33m=\u001b[0m\u001b[1;32mNone\u001b[0m\u001b[1;33m,\u001b[0m \u001b[0mreduce_C_function\u001b[0m\u001b[1;33m=\u001b[0m\u001b[1;32mNone\u001b[0m\u001b[1;33m,\u001b[0m \u001b[0mgridsize\u001b[0m\u001b[1;33m=\u001b[0m\u001b[1;32mNone\u001b[0m\u001b[1;33m,\u001b[0m \u001b[1;33m**\u001b[0m\u001b[0mkwargs\u001b[0m\u001b[1;33m)\u001b[0m\u001b[1;33m:\u001b[0m\u001b[1;33m\u001b[0m\u001b[0m\n",
      "\u001b[1;32m~\\AppData\\Local\\Continuum\\miniconda3\\envs\\iaambiental\\lib\\site-packages\\pandas\\plotting\\_core.py\u001b[0m in \u001b[0;36m__call__\u001b[1;34m(self, *args, **kwargs)\u001b[0m\n\u001b[0;32m    736\u001b[0m         \u001b[1;32mif\u001b[0m \u001b[0mkind\u001b[0m \u001b[1;32min\u001b[0m \u001b[0mself\u001b[0m\u001b[1;33m.\u001b[0m\u001b[0m_dataframe_kinds\u001b[0m\u001b[1;33m:\u001b[0m\u001b[1;33m\u001b[0m\u001b[0m\n\u001b[0;32m    737\u001b[0m             \u001b[1;32mif\u001b[0m \u001b[0misinstance\u001b[0m\u001b[1;33m(\u001b[0m\u001b[0mdata\u001b[0m\u001b[1;33m,\u001b[0m \u001b[0mABCDataFrame\u001b[0m\u001b[1;33m)\u001b[0m\u001b[1;33m:\u001b[0m\u001b[1;33m\u001b[0m\u001b[0m\n\u001b[1;32m--> 738\u001b[1;33m                 \u001b[1;32mreturn\u001b[0m \u001b[0mplot_backend\u001b[0m\u001b[1;33m.\u001b[0m\u001b[0mplot\u001b[0m\u001b[1;33m(\u001b[0m\u001b[0mdata\u001b[0m\u001b[1;33m,\u001b[0m \u001b[0mx\u001b[0m\u001b[1;33m=\u001b[0m\u001b[0mx\u001b[0m\u001b[1;33m,\u001b[0m \u001b[0my\u001b[0m\u001b[1;33m=\u001b[0m\u001b[0my\u001b[0m\u001b[1;33m,\u001b[0m \u001b[0mkind\u001b[0m\u001b[1;33m=\u001b[0m\u001b[0mkind\u001b[0m\u001b[1;33m,\u001b[0m \u001b[1;33m**\u001b[0m\u001b[0mkwargs\u001b[0m\u001b[1;33m)\u001b[0m\u001b[1;33m\u001b[0m\u001b[0m\n\u001b[0m\u001b[0;32m    739\u001b[0m             \u001b[1;32melse\u001b[0m\u001b[1;33m:\u001b[0m\u001b[1;33m\u001b[0m\u001b[0m\n\u001b[0;32m    740\u001b[0m                 raise ValueError(\n",
      "\u001b[1;32m~\\AppData\\Local\\Continuum\\miniconda3\\envs\\iaambiental\\lib\\site-packages\\pandas\\plotting\\_matplotlib\\__init__.py\u001b[0m in \u001b[0;36mplot\u001b[1;34m(data, kind, **kwargs)\u001b[0m\n\u001b[0;32m     59\u001b[0m                 \u001b[0max\u001b[0m \u001b[1;33m=\u001b[0m \u001b[0mplt\u001b[0m\u001b[1;33m.\u001b[0m\u001b[0mgca\u001b[0m\u001b[1;33m(\u001b[0m\u001b[1;33m)\u001b[0m\u001b[1;33m\u001b[0m\u001b[0m\n\u001b[0;32m     60\u001b[0m             \u001b[0mkwargs\u001b[0m\u001b[1;33m[\u001b[0m\u001b[1;34m\"ax\"\u001b[0m\u001b[1;33m]\u001b[0m \u001b[1;33m=\u001b[0m \u001b[0mgetattr\u001b[0m\u001b[1;33m(\u001b[0m\u001b[0max\u001b[0m\u001b[1;33m,\u001b[0m \u001b[1;34m\"left_ax\"\u001b[0m\u001b[1;33m,\u001b[0m \u001b[0max\u001b[0m\u001b[1;33m)\u001b[0m\u001b[1;33m\u001b[0m\u001b[0m\n\u001b[1;32m---> 61\u001b[1;33m     \u001b[0mplot_obj\u001b[0m \u001b[1;33m=\u001b[0m \u001b[0mPLOT_CLASSES\u001b[0m\u001b[1;33m[\u001b[0m\u001b[0mkind\u001b[0m\u001b[1;33m]\u001b[0m\u001b[1;33m(\u001b[0m\u001b[0mdata\u001b[0m\u001b[1;33m,\u001b[0m \u001b[1;33m**\u001b[0m\u001b[0mkwargs\u001b[0m\u001b[1;33m)\u001b[0m\u001b[1;33m\u001b[0m\u001b[0m\n\u001b[0m\u001b[0;32m     62\u001b[0m     \u001b[0mplot_obj\u001b[0m\u001b[1;33m.\u001b[0m\u001b[0mgenerate\u001b[0m\u001b[1;33m(\u001b[0m\u001b[1;33m)\u001b[0m\u001b[1;33m\u001b[0m\u001b[0m\n\u001b[0;32m     63\u001b[0m     \u001b[0mplot_obj\u001b[0m\u001b[1;33m.\u001b[0m\u001b[0mdraw\u001b[0m\u001b[1;33m(\u001b[0m\u001b[1;33m)\u001b[0m\u001b[1;33m\u001b[0m\u001b[0m\n",
      "\u001b[1;32m~\\AppData\\Local\\Continuum\\miniconda3\\envs\\iaambiental\\lib\\site-packages\\pandas\\plotting\\_matplotlib\\core.py\u001b[0m in \u001b[0;36m__init__\u001b[1;34m(self, data, x, y, s, c, **kwargs)\u001b[0m\n\u001b[0;32m    928\u001b[0m             \u001b[1;31m# the handling of this argument later\u001b[0m\u001b[1;33m\u001b[0m\u001b[1;33m\u001b[0m\u001b[0m\n\u001b[0;32m    929\u001b[0m             \u001b[0ms\u001b[0m \u001b[1;33m=\u001b[0m \u001b[1;36m20\u001b[0m\u001b[1;33m\u001b[0m\u001b[0m\n\u001b[1;32m--> 930\u001b[1;33m         \u001b[0msuper\u001b[0m\u001b[1;33m(\u001b[0m\u001b[1;33m)\u001b[0m\u001b[1;33m.\u001b[0m\u001b[0m__init__\u001b[0m\u001b[1;33m(\u001b[0m\u001b[0mdata\u001b[0m\u001b[1;33m,\u001b[0m \u001b[0mx\u001b[0m\u001b[1;33m,\u001b[0m \u001b[0my\u001b[0m\u001b[1;33m,\u001b[0m \u001b[0ms\u001b[0m\u001b[1;33m=\u001b[0m\u001b[0ms\u001b[0m\u001b[1;33m,\u001b[0m \u001b[1;33m**\u001b[0m\u001b[0mkwargs\u001b[0m\u001b[1;33m)\u001b[0m\u001b[1;33m\u001b[0m\u001b[0m\n\u001b[0m\u001b[0;32m    931\u001b[0m         \u001b[1;32mif\u001b[0m \u001b[0mis_integer\u001b[0m\u001b[1;33m(\u001b[0m\u001b[0mc\u001b[0m\u001b[1;33m)\u001b[0m \u001b[1;32mand\u001b[0m \u001b[1;32mnot\u001b[0m \u001b[0mself\u001b[0m\u001b[1;33m.\u001b[0m\u001b[0mdata\u001b[0m\u001b[1;33m.\u001b[0m\u001b[0mcolumns\u001b[0m\u001b[1;33m.\u001b[0m\u001b[0mholds_integer\u001b[0m\u001b[1;33m(\u001b[0m\u001b[1;33m)\u001b[0m\u001b[1;33m:\u001b[0m\u001b[1;33m\u001b[0m\u001b[0m\n\u001b[0;32m    932\u001b[0m             \u001b[0mc\u001b[0m \u001b[1;33m=\u001b[0m \u001b[0mself\u001b[0m\u001b[1;33m.\u001b[0m\u001b[0mdata\u001b[0m\u001b[1;33m.\u001b[0m\u001b[0mcolumns\u001b[0m\u001b[1;33m[\u001b[0m\u001b[0mc\u001b[0m\u001b[1;33m]\u001b[0m\u001b[1;33m\u001b[0m\u001b[0m\n",
      "\u001b[1;32m~\\AppData\\Local\\Continuum\\miniconda3\\envs\\iaambiental\\lib\\site-packages\\pandas\\plotting\\_matplotlib\\core.py\u001b[0m in \u001b[0;36m__init__\u001b[1;34m(self, data, x, y, **kwargs)\u001b[0m\n\u001b[0;32m    868\u001b[0m             \u001b[0my\u001b[0m \u001b[1;33m=\u001b[0m \u001b[0mself\u001b[0m\u001b[1;33m.\u001b[0m\u001b[0mdata\u001b[0m\u001b[1;33m.\u001b[0m\u001b[0mcolumns\u001b[0m\u001b[1;33m[\u001b[0m\u001b[0my\u001b[0m\u001b[1;33m]\u001b[0m\u001b[1;33m\u001b[0m\u001b[0m\n\u001b[0;32m    869\u001b[0m         \u001b[1;32mif\u001b[0m \u001b[0mlen\u001b[0m\u001b[1;33m(\u001b[0m\u001b[0mself\u001b[0m\u001b[1;33m.\u001b[0m\u001b[0mdata\u001b[0m\u001b[1;33m[\u001b[0m\u001b[0mx\u001b[0m\u001b[1;33m]\u001b[0m\u001b[1;33m.\u001b[0m\u001b[0m_get_numeric_data\u001b[0m\u001b[1;33m(\u001b[0m\u001b[1;33m)\u001b[0m\u001b[1;33m)\u001b[0m \u001b[1;33m==\u001b[0m \u001b[1;36m0\u001b[0m\u001b[1;33m:\u001b[0m\u001b[1;33m\u001b[0m\u001b[0m\n\u001b[1;32m--> 870\u001b[1;33m             \u001b[1;32mraise\u001b[0m \u001b[0mValueError\u001b[0m\u001b[1;33m(\u001b[0m\u001b[0mself\u001b[0m\u001b[1;33m.\u001b[0m\u001b[0m_kind\u001b[0m \u001b[1;33m+\u001b[0m \u001b[1;34m\" requires x column to be numeric\"\u001b[0m\u001b[1;33m)\u001b[0m\u001b[1;33m\u001b[0m\u001b[0m\n\u001b[0m\u001b[0;32m    871\u001b[0m         \u001b[1;32mif\u001b[0m \u001b[0mlen\u001b[0m\u001b[1;33m(\u001b[0m\u001b[0mself\u001b[0m\u001b[1;33m.\u001b[0m\u001b[0mdata\u001b[0m\u001b[1;33m[\u001b[0m\u001b[0my\u001b[0m\u001b[1;33m]\u001b[0m\u001b[1;33m.\u001b[0m\u001b[0m_get_numeric_data\u001b[0m\u001b[1;33m(\u001b[0m\u001b[1;33m)\u001b[0m\u001b[1;33m)\u001b[0m \u001b[1;33m==\u001b[0m \u001b[1;36m0\u001b[0m\u001b[1;33m:\u001b[0m\u001b[1;33m\u001b[0m\u001b[0m\n\u001b[0;32m    872\u001b[0m             \u001b[1;32mraise\u001b[0m \u001b[0mValueError\u001b[0m\u001b[1;33m(\u001b[0m\u001b[0mself\u001b[0m\u001b[1;33m.\u001b[0m\u001b[0m_kind\u001b[0m \u001b[1;33m+\u001b[0m \u001b[1;34m\" requires y column to be numeric\"\u001b[0m\u001b[1;33m)\u001b[0m\u001b[1;33m\u001b[0m\u001b[0m\n",
      "\u001b[1;31mValueError\u001b[0m: scatter requires x column to be numeric"
     ]
    }
   ],
   "source": [
    "proc_df.plot_date(x = 'datanum', y = 'TI413001')"
   ]
  },
  {
   "cell_type": "code",
   "execution_count": 25,
   "metadata": {},
   "outputs": [
    {
     "data": {
      "text/html": [
       "<div>\n",
       "<style scoped>\n",
       "    .dataframe tbody tr th:only-of-type {\n",
       "        vertical-align: middle;\n",
       "    }\n",
       "\n",
       "    .dataframe tbody tr th {\n",
       "        vertical-align: top;\n",
       "    }\n",
       "\n",
       "    .dataframe thead th {\n",
       "        text-align: right;\n",
       "    }\n",
       "</style>\n",
       "<table border=\"1\" class=\"dataframe\">\n",
       "  <thead>\n",
       "    <tr style=\"text-align: right;\">\n",
       "      <th></th>\n",
       "      <th>TQ-41001.VZ.AF</th>\n",
       "      <th>TI413001</th>\n",
       "      <th>V-48001.DN.AF</th>\n",
       "      <th>V-48002.DN.AF</th>\n",
       "      <th>TQ-62013.VZ.AF</th>\n",
       "      <th>TE620027</th>\n",
       "      <th>TI110186-AF</th>\n",
       "      <th>TQ-62014.VZ.AF</th>\n",
       "      <th>TE620028</th>\n",
       "      <th>TQ-62015.VZ.AF</th>\n",
       "      <th>...</th>\n",
       "      <th>TI975010B</th>\n",
       "      <th>U28-PARADA</th>\n",
       "      <th>PV-210467A-AF</th>\n",
       "      <th>PV-210467B-AF</th>\n",
       "      <th>PV-210573B-AF</th>\n",
       "      <th>PV-350573B-AF</th>\n",
       "      <th>PV-350548-AF</th>\n",
       "      <th>PV-110093C-AF</th>\n",
       "      <th>PV-110150C-AF</th>\n",
       "      <th>FI110417</th>\n",
       "    </tr>\n",
       "  </thead>\n",
       "  <tbody>\n",
       "    <tr>\n",
       "      <td>count</td>\n",
       "      <td>34667.000000</td>\n",
       "      <td>34689.000000</td>\n",
       "      <td>34664.000000</td>\n",
       "      <td>34719.000000</td>\n",
       "      <td>34720.000000</td>\n",
       "      <td>34678.000000</td>\n",
       "      <td>34673.000000</td>\n",
       "      <td>34720.000000</td>\n",
       "      <td>34700.000000</td>\n",
       "      <td>34686.000000</td>\n",
       "      <td>...</td>\n",
       "      <td>34456.000000</td>\n",
       "      <td>27076.000000</td>\n",
       "      <td>34028.000000</td>\n",
       "      <td>32107.000000</td>\n",
       "      <td>32786.000000</td>\n",
       "      <td>34673.000000</td>\n",
       "      <td>34693.000000</td>\n",
       "      <td>17277.000000</td>\n",
       "      <td>19165.000000</td>\n",
       "      <td>34717.000000</td>\n",
       "    </tr>\n",
       "    <tr>\n",
       "      <td>mean</td>\n",
       "      <td>-1.616845</td>\n",
       "      <td>39.240402</td>\n",
       "      <td>-0.086235</td>\n",
       "      <td>-0.062169</td>\n",
       "      <td>-0.070019</td>\n",
       "      <td>28.608331</td>\n",
       "      <td>128.834743</td>\n",
       "      <td>-0.129084</td>\n",
       "      <td>28.787216</td>\n",
       "      <td>-0.070215</td>\n",
       "      <td>...</td>\n",
       "      <td>920.639467</td>\n",
       "      <td>0.130889</td>\n",
       "      <td>0.116261</td>\n",
       "      <td>16.672706</td>\n",
       "      <td>0.398761</td>\n",
       "      <td>18.591293</td>\n",
       "      <td>44.268409</td>\n",
       "      <td>20.386651</td>\n",
       "      <td>2.560701</td>\n",
       "      <td>21.851036</td>\n",
       "    </tr>\n",
       "    <tr>\n",
       "      <td>std</td>\n",
       "      <td>163.517180</td>\n",
       "      <td>4.957722</td>\n",
       "      <td>31.020844</td>\n",
       "      <td>25.249129</td>\n",
       "      <td>13.244310</td>\n",
       "      <td>1.637493</td>\n",
       "      <td>77.060388</td>\n",
       "      <td>13.600907</td>\n",
       "      <td>2.195567</td>\n",
       "      <td>31.212073</td>\n",
       "      <td>...</td>\n",
       "      <td>129.805981</td>\n",
       "      <td>0.333659</td>\n",
       "      <td>5.591364</td>\n",
       "      <td>215.275825</td>\n",
       "      <td>5.349078</td>\n",
       "      <td>22.103784</td>\n",
       "      <td>394.610801</td>\n",
       "      <td>23.246047</td>\n",
       "      <td>4.762579</td>\n",
       "      <td>293.288825</td>\n",
       "    </tr>\n",
       "    <tr>\n",
       "      <td>min</td>\n",
       "      <td>-4416.861369</td>\n",
       "      <td>20.948572</td>\n",
       "      <td>-1139.262999</td>\n",
       "      <td>-836.755162</td>\n",
       "      <td>-238.160275</td>\n",
       "      <td>23.454203</td>\n",
       "      <td>0.000000</td>\n",
       "      <td>-408.589045</td>\n",
       "      <td>22.400000</td>\n",
       "      <td>-2730.320201</td>\n",
       "      <td>...</td>\n",
       "      <td>242.739213</td>\n",
       "      <td>0.000000</td>\n",
       "      <td>0.000000</td>\n",
       "      <td>0.000000</td>\n",
       "      <td>0.000000</td>\n",
       "      <td>0.000000</td>\n",
       "      <td>0.000000</td>\n",
       "      <td>0.000000</td>\n",
       "      <td>0.000000</td>\n",
       "      <td>0.000000</td>\n",
       "    </tr>\n",
       "    <tr>\n",
       "      <td>25%</td>\n",
       "      <td>-3.961980</td>\n",
       "      <td>36.493857</td>\n",
       "      <td>-0.942078</td>\n",
       "      <td>-0.916642</td>\n",
       "      <td>-0.234171</td>\n",
       "      <td>27.407584</td>\n",
       "      <td>27.432243</td>\n",
       "      <td>-0.015020</td>\n",
       "      <td>27.500000</td>\n",
       "      <td>-0.123858</td>\n",
       "      <td>...</td>\n",
       "      <td>835.047461</td>\n",
       "      <td>0.000000</td>\n",
       "      <td>0.000000</td>\n",
       "      <td>0.000000</td>\n",
       "      <td>0.000000</td>\n",
       "      <td>4.463691</td>\n",
       "      <td>0.000000</td>\n",
       "      <td>10.738346</td>\n",
       "      <td>0.000000</td>\n",
       "      <td>0.000000</td>\n",
       "    </tr>\n",
       "    <tr>\n",
       "      <td>50%</td>\n",
       "      <td>0.249259</td>\n",
       "      <td>39.078340</td>\n",
       "      <td>-0.060593</td>\n",
       "      <td>-0.095087</td>\n",
       "      <td>0.000000</td>\n",
       "      <td>28.700001</td>\n",
       "      <td>172.578890</td>\n",
       "      <td>0.078853</td>\n",
       "      <td>28.731600</td>\n",
       "      <td>0.087163</td>\n",
       "      <td>...</td>\n",
       "      <td>1001.307351</td>\n",
       "      <td>0.000000</td>\n",
       "      <td>0.000000</td>\n",
       "      <td>0.000000</td>\n",
       "      <td>0.000000</td>\n",
       "      <td>9.160554</td>\n",
       "      <td>0.000000</td>\n",
       "      <td>18.940754</td>\n",
       "      <td>0.000000</td>\n",
       "      <td>0.000000</td>\n",
       "    </tr>\n",
       "    <tr>\n",
       "      <td>75%</td>\n",
       "      <td>9.878098</td>\n",
       "      <td>41.869193</td>\n",
       "      <td>0.136450</td>\n",
       "      <td>0.245452</td>\n",
       "      <td>0.216614</td>\n",
       "      <td>29.661240</td>\n",
       "      <td>183.550881</td>\n",
       "      <td>6.353693</td>\n",
       "      <td>29.800001</td>\n",
       "      <td>5.954815</td>\n",
       "      <td>...</td>\n",
       "      <td>1001.541300</td>\n",
       "      <td>0.000000</td>\n",
       "      <td>0.000000</td>\n",
       "      <td>0.000000</td>\n",
       "      <td>0.000000</td>\n",
       "      <td>27.784478</td>\n",
       "      <td>18.037625</td>\n",
       "      <td>25.843023</td>\n",
       "      <td>2.431180</td>\n",
       "      <td>0.000000</td>\n",
       "    </tr>\n",
       "    <tr>\n",
       "      <td>max</td>\n",
       "      <td>4053.150724</td>\n",
       "      <td>57.577451</td>\n",
       "      <td>742.662541</td>\n",
       "      <td>625.168172</td>\n",
       "      <td>82.202192</td>\n",
       "      <td>36.832553</td>\n",
       "      <td>216.346757</td>\n",
       "      <td>236.912067</td>\n",
       "      <td>44.899555</td>\n",
       "      <td>3218.130300</td>\n",
       "      <td>...</td>\n",
       "      <td>1002.422379</td>\n",
       "      <td>1.000000</td>\n",
       "      <td>716.596980</td>\n",
       "      <td>3179.667920</td>\n",
       "      <td>252.319964</td>\n",
       "      <td>165.971106</td>\n",
       "      <td>14463.391540</td>\n",
       "      <td>745.550041</td>\n",
       "      <td>19.240610</td>\n",
       "      <td>5104.589590</td>\n",
       "    </tr>\n",
       "  </tbody>\n",
       "</table>\n",
       "<p>8 rows × 87 columns</p>\n",
       "</div>"
      ],
      "text/plain": [
       "       TQ-41001.VZ.AF      TI413001  V-48001.DN.AF  V-48002.DN.AF  \\\n",
       "count    34667.000000  34689.000000   34664.000000   34719.000000   \n",
       "mean        -1.616845     39.240402      -0.086235      -0.062169   \n",
       "std        163.517180      4.957722      31.020844      25.249129   \n",
       "min      -4416.861369     20.948572   -1139.262999    -836.755162   \n",
       "25%         -3.961980     36.493857      -0.942078      -0.916642   \n",
       "50%          0.249259     39.078340      -0.060593      -0.095087   \n",
       "75%          9.878098     41.869193       0.136450       0.245452   \n",
       "max       4053.150724     57.577451     742.662541     625.168172   \n",
       "\n",
       "       TQ-62013.VZ.AF      TE620027   TI110186-AF  TQ-62014.VZ.AF  \\\n",
       "count    34720.000000  34678.000000  34673.000000    34720.000000   \n",
       "mean        -0.070019     28.608331    128.834743       -0.129084   \n",
       "std         13.244310      1.637493     77.060388       13.600907   \n",
       "min       -238.160275     23.454203      0.000000     -408.589045   \n",
       "25%         -0.234171     27.407584     27.432243       -0.015020   \n",
       "50%          0.000000     28.700001    172.578890        0.078853   \n",
       "75%          0.216614     29.661240    183.550881        6.353693   \n",
       "max         82.202192     36.832553    216.346757      236.912067   \n",
       "\n",
       "           TE620028  TQ-62015.VZ.AF  ...     TI975010B    U28-PARADA  \\\n",
       "count  34700.000000    34686.000000  ...  34456.000000  27076.000000   \n",
       "mean      28.787216       -0.070215  ...    920.639467      0.130889   \n",
       "std        2.195567       31.212073  ...    129.805981      0.333659   \n",
       "min       22.400000    -2730.320201  ...    242.739213      0.000000   \n",
       "25%       27.500000       -0.123858  ...    835.047461      0.000000   \n",
       "50%       28.731600        0.087163  ...   1001.307351      0.000000   \n",
       "75%       29.800001        5.954815  ...   1001.541300      0.000000   \n",
       "max       44.899555     3218.130300  ...   1002.422379      1.000000   \n",
       "\n",
       "       PV-210467A-AF  PV-210467B-AF  PV-210573B-AF  PV-350573B-AF  \\\n",
       "count   34028.000000   32107.000000   32786.000000   34673.000000   \n",
       "mean        0.116261      16.672706       0.398761      18.591293   \n",
       "std         5.591364     215.275825       5.349078      22.103784   \n",
       "min         0.000000       0.000000       0.000000       0.000000   \n",
       "25%         0.000000       0.000000       0.000000       4.463691   \n",
       "50%         0.000000       0.000000       0.000000       9.160554   \n",
       "75%         0.000000       0.000000       0.000000      27.784478   \n",
       "max       716.596980    3179.667920     252.319964     165.971106   \n",
       "\n",
       "       PV-350548-AF  PV-110093C-AF  PV-110150C-AF      FI110417  \n",
       "count  34693.000000   17277.000000   19165.000000  34717.000000  \n",
       "mean      44.268409      20.386651       2.560701     21.851036  \n",
       "std      394.610801      23.246047       4.762579    293.288825  \n",
       "min        0.000000       0.000000       0.000000      0.000000  \n",
       "25%        0.000000      10.738346       0.000000      0.000000  \n",
       "50%        0.000000      18.940754       0.000000      0.000000  \n",
       "75%       18.037625      25.843023       2.431180      0.000000  \n",
       "max    14463.391540     745.550041      19.240610   5104.589590  \n",
       "\n",
       "[8 rows x 87 columns]"
      ]
     },
     "execution_count": 25,
     "metadata": {},
     "output_type": "execute_result"
    }
   ],
   "source": [
    "proc_df.describe()"
   ]
  },
  {
   "cell_type": "markdown",
   "metadata": {},
   "source": [
    "## Reunir os dados em um único dataframe"
   ]
  },
  {
   "cell_type": "code",
   "execution_count": 26,
   "metadata": {},
   "outputs": [],
   "source": [
    "data_df = pd.concat([qual_df, proc_df], axis=1, sort=False)\n",
    "data_df = data_df.sort_values(by=['Data fim'], ascending=False)"
   ]
  },
  {
   "cell_type": "code",
   "execution_count": 134,
   "metadata": {},
   "outputs": [
    {
     "data": {
      "text/html": [
       "<div>\n",
       "<style scoped>\n",
       "    .dataframe tbody tr th:only-of-type {\n",
       "        vertical-align: middle;\n",
       "    }\n",
       "\n",
       "    .dataframe tbody tr th {\n",
       "        vertical-align: top;\n",
       "    }\n",
       "\n",
       "    .dataframe thead th {\n",
       "        text-align: right;\n",
       "    }\n",
       "</style>\n",
       "<table border=\"1\" class=\"dataframe\">\n",
       "  <thead>\n",
       "    <tr style=\"text-align: right;\">\n",
       "      <th></th>\n",
       "      <th>SO2</th>\n",
       "      <th>H2S</th>\n",
       "      <th>AT</th>\n",
       "      <th>RH</th>\n",
       "      <th>WS</th>\n",
       "      <th>WD</th>\n",
       "      <th>Data início</th>\n",
       "      <th>TQ-41001.VZ.AF</th>\n",
       "      <th>TI413001</th>\n",
       "      <th>V-48001.DN.AF</th>\n",
       "      <th>...</th>\n",
       "      <th>TI975010B</th>\n",
       "      <th>U28-PARADA</th>\n",
       "      <th>PV-210467A-AF</th>\n",
       "      <th>PV-210467B-AF</th>\n",
       "      <th>PV-210573B-AF</th>\n",
       "      <th>PV-350573B-AF</th>\n",
       "      <th>PV-350548-AF</th>\n",
       "      <th>PV-110093C-AF</th>\n",
       "      <th>PV-110150C-AF</th>\n",
       "      <th>FI110417</th>\n",
       "    </tr>\n",
       "    <tr>\n",
       "      <th>Data fim</th>\n",
       "      <th></th>\n",
       "      <th></th>\n",
       "      <th></th>\n",
       "      <th></th>\n",
       "      <th></th>\n",
       "      <th></th>\n",
       "      <th></th>\n",
       "      <th></th>\n",
       "      <th></th>\n",
       "      <th></th>\n",
       "      <th></th>\n",
       "      <th></th>\n",
       "      <th></th>\n",
       "      <th></th>\n",
       "      <th></th>\n",
       "      <th></th>\n",
       "      <th></th>\n",
       "      <th></th>\n",
       "      <th></th>\n",
       "      <th></th>\n",
       "      <th></th>\n",
       "    </tr>\n",
       "  </thead>\n",
       "  <tbody>\n",
       "    <tr>\n",
       "      <td>2019-12-17 18:59:59.998</td>\n",
       "      <td>NaN</td>\n",
       "      <td>NaN</td>\n",
       "      <td>NaN</td>\n",
       "      <td>NaN</td>\n",
       "      <td>NaN</td>\n",
       "      <td>NaN</td>\n",
       "      <td>2019-12-17 17:59:59.998</td>\n",
       "      <td>66.596069</td>\n",
       "      <td>40.306046</td>\n",
       "      <td>1.644287</td>\n",
       "      <td>...</td>\n",
       "      <td>1001.408632</td>\n",
       "      <td>0.0</td>\n",
       "      <td>0.0</td>\n",
       "      <td>54.450294</td>\n",
       "      <td>0.0</td>\n",
       "      <td>3.064748</td>\n",
       "      <td>0.0</td>\n",
       "      <td>19.860907</td>\n",
       "      <td>0.0</td>\n",
       "      <td>0.0</td>\n",
       "    </tr>\n",
       "    <tr>\n",
       "      <td>2019-12-17 17:59:59.998</td>\n",
       "      <td>NaN</td>\n",
       "      <td>NaN</td>\n",
       "      <td>NaN</td>\n",
       "      <td>NaN</td>\n",
       "      <td>NaN</td>\n",
       "      <td>NaN</td>\n",
       "      <td>2019-12-17 16:59:59.998</td>\n",
       "      <td>66.596069</td>\n",
       "      <td>42.181169</td>\n",
       "      <td>1.516108</td>\n",
       "      <td>...</td>\n",
       "      <td>1001.421826</td>\n",
       "      <td>0.0</td>\n",
       "      <td>0.0</td>\n",
       "      <td>54.450294</td>\n",
       "      <td>0.0</td>\n",
       "      <td>3.064748</td>\n",
       "      <td>0.0</td>\n",
       "      <td>19.860907</td>\n",
       "      <td>0.0</td>\n",
       "      <td>0.0</td>\n",
       "    </tr>\n",
       "    <tr>\n",
       "      <td>2019-12-17 16:59:59.998</td>\n",
       "      <td>NaN</td>\n",
       "      <td>NaN</td>\n",
       "      <td>NaN</td>\n",
       "      <td>NaN</td>\n",
       "      <td>NaN</td>\n",
       "      <td>NaN</td>\n",
       "      <td>2019-12-17 15:59:59.998</td>\n",
       "      <td>66.596069</td>\n",
       "      <td>48.071303</td>\n",
       "      <td>0.691834</td>\n",
       "      <td>...</td>\n",
       "      <td>1001.458952</td>\n",
       "      <td>0.0</td>\n",
       "      <td>0.0</td>\n",
       "      <td>54.450294</td>\n",
       "      <td>0.0</td>\n",
       "      <td>3.064748</td>\n",
       "      <td>0.0</td>\n",
       "      <td>19.860907</td>\n",
       "      <td>0.0</td>\n",
       "      <td>0.0</td>\n",
       "    </tr>\n",
       "    <tr>\n",
       "      <td>2019-12-17 15:59:59.998</td>\n",
       "      <td>NaN</td>\n",
       "      <td>NaN</td>\n",
       "      <td>NaN</td>\n",
       "      <td>NaN</td>\n",
       "      <td>NaN</td>\n",
       "      <td>NaN</td>\n",
       "      <td>2019-12-17 14:59:59.998</td>\n",
       "      <td>66.596069</td>\n",
       "      <td>55.042119</td>\n",
       "      <td>0.140951</td>\n",
       "      <td>...</td>\n",
       "      <td>1001.553406</td>\n",
       "      <td>0.0</td>\n",
       "      <td>0.0</td>\n",
       "      <td>54.450294</td>\n",
       "      <td>0.0</td>\n",
       "      <td>3.064748</td>\n",
       "      <td>0.0</td>\n",
       "      <td>19.860907</td>\n",
       "      <td>0.0</td>\n",
       "      <td>0.0</td>\n",
       "    </tr>\n",
       "    <tr>\n",
       "      <td>2019-12-17 14:59:59.998</td>\n",
       "      <td>NaN</td>\n",
       "      <td>NaN</td>\n",
       "      <td>NaN</td>\n",
       "      <td>NaN</td>\n",
       "      <td>NaN</td>\n",
       "      <td>NaN</td>\n",
       "      <td>2019-12-17 13:59:59.998</td>\n",
       "      <td>66.596069</td>\n",
       "      <td>54.244724</td>\n",
       "      <td>2.054757</td>\n",
       "      <td>...</td>\n",
       "      <td>1001.609581</td>\n",
       "      <td>0.0</td>\n",
       "      <td>0.0</td>\n",
       "      <td>65.079541</td>\n",
       "      <td>0.0</td>\n",
       "      <td>3.261190</td>\n",
       "      <td>0.0</td>\n",
       "      <td>20.022359</td>\n",
       "      <td>0.0</td>\n",
       "      <td>0.0</td>\n",
       "    </tr>\n",
       "  </tbody>\n",
       "</table>\n",
       "<p>5 rows × 94 columns</p>\n",
       "</div>"
      ],
      "text/plain": [
       "                         SO2  H2S  AT  RH  WS  WD             Data início  \\\n",
       "Data fim                                                                    \n",
       "2019-12-17 18:59:59.998  NaN  NaN NaN NaN NaN NaN 2019-12-17 17:59:59.998   \n",
       "2019-12-17 17:59:59.998  NaN  NaN NaN NaN NaN NaN 2019-12-17 16:59:59.998   \n",
       "2019-12-17 16:59:59.998  NaN  NaN NaN NaN NaN NaN 2019-12-17 15:59:59.998   \n",
       "2019-12-17 15:59:59.998  NaN  NaN NaN NaN NaN NaN 2019-12-17 14:59:59.998   \n",
       "2019-12-17 14:59:59.998  NaN  NaN NaN NaN NaN NaN 2019-12-17 13:59:59.998   \n",
       "\n",
       "                         TQ-41001.VZ.AF   TI413001  V-48001.DN.AF  ...  \\\n",
       "Data fim                                                           ...   \n",
       "2019-12-17 18:59:59.998       66.596069  40.306046       1.644287  ...   \n",
       "2019-12-17 17:59:59.998       66.596069  42.181169       1.516108  ...   \n",
       "2019-12-17 16:59:59.998       66.596069  48.071303       0.691834  ...   \n",
       "2019-12-17 15:59:59.998       66.596069  55.042119       0.140951  ...   \n",
       "2019-12-17 14:59:59.998       66.596069  54.244724       2.054757  ...   \n",
       "\n",
       "                           TI975010B  U28-PARADA  PV-210467A-AF  \\\n",
       "Data fim                                                          \n",
       "2019-12-17 18:59:59.998  1001.408632         0.0            0.0   \n",
       "2019-12-17 17:59:59.998  1001.421826         0.0            0.0   \n",
       "2019-12-17 16:59:59.998  1001.458952         0.0            0.0   \n",
       "2019-12-17 15:59:59.998  1001.553406         0.0            0.0   \n",
       "2019-12-17 14:59:59.998  1001.609581         0.0            0.0   \n",
       "\n",
       "                         PV-210467B-AF  PV-210573B-AF  PV-350573B-AF  \\\n",
       "Data fim                                                               \n",
       "2019-12-17 18:59:59.998      54.450294            0.0       3.064748   \n",
       "2019-12-17 17:59:59.998      54.450294            0.0       3.064748   \n",
       "2019-12-17 16:59:59.998      54.450294            0.0       3.064748   \n",
       "2019-12-17 15:59:59.998      54.450294            0.0       3.064748   \n",
       "2019-12-17 14:59:59.998      65.079541            0.0       3.261190   \n",
       "\n",
       "                         PV-350548-AF  PV-110093C-AF  PV-110150C-AF  FI110417  \n",
       "Data fim                                                                       \n",
       "2019-12-17 18:59:59.998           0.0      19.860907            0.0       0.0  \n",
       "2019-12-17 17:59:59.998           0.0      19.860907            0.0       0.0  \n",
       "2019-12-17 16:59:59.998           0.0      19.860907            0.0       0.0  \n",
       "2019-12-17 15:59:59.998           0.0      19.860907            0.0       0.0  \n",
       "2019-12-17 14:59:59.998           0.0      20.022359            0.0       0.0  \n",
       "\n",
       "[5 rows x 94 columns]"
      ]
     },
     "execution_count": 134,
     "metadata": {},
     "output_type": "execute_result"
    }
   ],
   "source": [
    "data_df.head()"
   ]
  },
  {
   "cell_type": "code",
   "execution_count": 135,
   "metadata": {},
   "outputs": [
    {
     "data": {
      "text/plain": [
       "(54397, 94)"
      ]
     },
     "execution_count": 135,
     "metadata": {},
     "output_type": "execute_result"
    }
   ],
   "source": [
    "data_df.shape"
   ]
  },
  {
   "cell_type": "markdown",
   "metadata": {},
   "source": [
    "## Salvar dados para Exploratory Data Analysis"
   ]
  },
  {
   "cell_type": "markdown",
   "metadata": {},
   "source": [
    "Salvar nos formatos Pickel (pkl) e Excel (xlsx)"
   ]
  },
  {
   "cell_type": "code",
   "execution_count": 28,
   "metadata": {},
   "outputs": [],
   "source": [
    "data_df.to_pickle(\"./dataframe_EDA.pkl\")\n",
    "#data_df.to_excel(\"./dataframe_EDA.xlsx\")"
   ]
  },
  {
   "cell_type": "code",
   "execution_count": 32,
   "metadata": {},
   "outputs": [
    {
     "data": {
      "text/plain": [
       "<matplotlib.axes._subplots.AxesSubplot at 0x20248452d68>"
      ]
     },
     "execution_count": 32,
     "metadata": {},
     "output_type": "execute_result"
    },
    {
     "data": {
      "image/png": "[encoded data removed]",
      "text/plain": [
       "<Figure size 432x288 with 1 Axes>"
      ]
     },
     "metadata": {
      "needs_background": "light"
     },
     "output_type": "display_data"
    }
   ],
   "source": [
    "data_df.plot(y='H2S',color='red')"
   ]
  },
  {
   "cell_type": "markdown",
   "metadata": {},
   "source": [
    "## Feature Engineering"
   ]
  },
  {
   "cell_type": "markdown",
   "metadata": {},
   "source": [
    "A direção do vento foi classificada em 16 categorias (feature engineering). A função a seguir faz essa classificação."
   ]
  },
  {
   "cell_type": "code",
   "execution_count": 23,
   "metadata": {},
   "outputs": [],
   "source": [
    "classesDirVento = ['N','NNE','NE','ENE','E','ESE','SE','SSE','S','SSW','SW','W','WSW','NWN','NW','NNW']\n",
    "def catDirVento(d):\n",
    "    passo = 22.5    \n",
    "    limMinDirInicial = 360-passo/2\n",
    "    limMaxDirInicial = passo/2\n",
    "    for idx in range(16):\n",
    "        if idx == 0:\n",
    "            if d>limMinDirInicial+idx*passo and d<=limMaxDirInicial+idx*passo:\n",
    "                return classesDirVento[idx]\n",
    "        else:\n",
    "            if d>limMaxDirInicial+(idx-1)*passo and d<=limMaxDirInicial+idx*passo:\n",
    "                return classesDirVento[idx]"
   ]
  },
  {
   "cell_type": "markdown",
   "metadata": {},
   "source": [
    "Exemplo de categorização usando a função."
   ]
  },
  {
   "cell_type": "code",
   "execution_count": 24,
   "metadata": {},
   "outputs": [
    {
     "name": "stdout",
     "output_type": "stream",
     "text": [
      "ENE\n"
     ]
    }
   ],
   "source": [
    "print(catDirVento(78.75)) # ENE"
   ]
  },
  {
   "cell_type": "markdown",
   "metadata": {},
   "source": [
    "Categoriza todos os registros da coluna relativa à direção do vento (tag PI: meteorREVAP.DirVentI)."
   ]
  },
  {
   "cell_type": "code",
   "execution_count": 25,
   "metadata": {},
   "outputs": [],
   "source": [
    "data_df['classeDirVento'] = data_df['WD'].apply(lambda x: catDirVento(x))"
   ]
  },
  {
   "cell_type": "markdown",
   "metadata": {},
   "source": [
    "Aplica One Hot Encoder para as 16 categorias de direção do vento. Assim, a coluna \"classeDirVento\" é transformada em 16 colunas. Após isso, apagam-se colunas originais."
   ]
  },
  {
   "cell_type": "code",
   "execution_count": 26,
   "metadata": {},
   "outputs": [
    {
     "data": {
      "text/html": [
       "<div>\n",
       "<style scoped>\n",
       "    .dataframe tbody tr th:only-of-type {\n",
       "        vertical-align: middle;\n",
       "    }\n",
       "\n",
       "    .dataframe tbody tr th {\n",
       "        vertical-align: top;\n",
       "    }\n",
       "\n",
       "    .dataframe thead th {\n",
       "        text-align: right;\n",
       "    }\n",
       "</style>\n",
       "<table border=\"1\" class=\"dataframe\">\n",
       "  <thead>\n",
       "    <tr style=\"text-align: right;\">\n",
       "      <th></th>\n",
       "      <th>SO2</th>\n",
       "      <th>H2S</th>\n",
       "      <th>AT</th>\n",
       "      <th>RH</th>\n",
       "      <th>WS</th>\n",
       "      <th>Data início</th>\n",
       "      <th>TQ-41001.VZ.AF</th>\n",
       "      <th>TI413001</th>\n",
       "      <th>V-48001.DN.AF</th>\n",
       "      <th>V-48002.DN.AF</th>\n",
       "      <th>...</th>\n",
       "      <th>NNW</th>\n",
       "      <th>NW</th>\n",
       "      <th>NWN</th>\n",
       "      <th>S</th>\n",
       "      <th>SE</th>\n",
       "      <th>SSE</th>\n",
       "      <th>SSW</th>\n",
       "      <th>SW</th>\n",
       "      <th>W</th>\n",
       "      <th>WSW</th>\n",
       "    </tr>\n",
       "    <tr>\n",
       "      <th>Data fim</th>\n",
       "      <th></th>\n",
       "      <th></th>\n",
       "      <th></th>\n",
       "      <th></th>\n",
       "      <th></th>\n",
       "      <th></th>\n",
       "      <th></th>\n",
       "      <th></th>\n",
       "      <th></th>\n",
       "      <th></th>\n",
       "      <th></th>\n",
       "      <th></th>\n",
       "      <th></th>\n",
       "      <th></th>\n",
       "      <th></th>\n",
       "      <th></th>\n",
       "      <th></th>\n",
       "      <th></th>\n",
       "      <th></th>\n",
       "      <th></th>\n",
       "      <th></th>\n",
       "    </tr>\n",
       "  </thead>\n",
       "  <tbody>\n",
       "    <tr>\n",
       "      <td>2019-12-17 18:59:59.998</td>\n",
       "      <td>NaN</td>\n",
       "      <td>NaN</td>\n",
       "      <td>NaN</td>\n",
       "      <td>NaN</td>\n",
       "      <td>NaN</td>\n",
       "      <td>2019-12-17 17:59:59.998</td>\n",
       "      <td>66.596069</td>\n",
       "      <td>40.306046</td>\n",
       "      <td>1.644287</td>\n",
       "      <td>-19.443054</td>\n",
       "      <td>...</td>\n",
       "      <td>0</td>\n",
       "      <td>0</td>\n",
       "      <td>0</td>\n",
       "      <td>0</td>\n",
       "      <td>0</td>\n",
       "      <td>0</td>\n",
       "      <td>0</td>\n",
       "      <td>0</td>\n",
       "      <td>0</td>\n",
       "      <td>0</td>\n",
       "    </tr>\n",
       "    <tr>\n",
       "      <td>2019-12-17 17:59:59.998</td>\n",
       "      <td>NaN</td>\n",
       "      <td>NaN</td>\n",
       "      <td>NaN</td>\n",
       "      <td>NaN</td>\n",
       "      <td>NaN</td>\n",
       "      <td>2019-12-17 16:59:59.998</td>\n",
       "      <td>66.596069</td>\n",
       "      <td>42.181169</td>\n",
       "      <td>1.516108</td>\n",
       "      <td>-15.016849</td>\n",
       "      <td>...</td>\n",
       "      <td>0</td>\n",
       "      <td>0</td>\n",
       "      <td>0</td>\n",
       "      <td>0</td>\n",
       "      <td>0</td>\n",
       "      <td>0</td>\n",
       "      <td>0</td>\n",
       "      <td>0</td>\n",
       "      <td>0</td>\n",
       "      <td>0</td>\n",
       "    </tr>\n",
       "    <tr>\n",
       "      <td>2019-12-17 16:59:59.998</td>\n",
       "      <td>NaN</td>\n",
       "      <td>NaN</td>\n",
       "      <td>NaN</td>\n",
       "      <td>NaN</td>\n",
       "      <td>NaN</td>\n",
       "      <td>2019-12-17 15:59:59.998</td>\n",
       "      <td>66.596069</td>\n",
       "      <td>48.071303</td>\n",
       "      <td>0.691834</td>\n",
       "      <td>-12.208705</td>\n",
       "      <td>...</td>\n",
       "      <td>0</td>\n",
       "      <td>0</td>\n",
       "      <td>0</td>\n",
       "      <td>0</td>\n",
       "      <td>0</td>\n",
       "      <td>0</td>\n",
       "      <td>0</td>\n",
       "      <td>0</td>\n",
       "      <td>0</td>\n",
       "      <td>0</td>\n",
       "    </tr>\n",
       "  </tbody>\n",
       "</table>\n",
       "<p>3 rows × 109 columns</p>\n",
       "</div>"
      ],
      "text/plain": [
       "                         SO2  H2S  AT  RH  WS             Data início  \\\n",
       "Data fim                                                                \n",
       "2019-12-17 18:59:59.998  NaN  NaN NaN NaN NaN 2019-12-17 17:59:59.998   \n",
       "2019-12-17 17:59:59.998  NaN  NaN NaN NaN NaN 2019-12-17 16:59:59.998   \n",
       "2019-12-17 16:59:59.998  NaN  NaN NaN NaN NaN 2019-12-17 15:59:59.998   \n",
       "\n",
       "                         TQ-41001.VZ.AF   TI413001  V-48001.DN.AF  \\\n",
       "Data fim                                                            \n",
       "2019-12-17 18:59:59.998       66.596069  40.306046       1.644287   \n",
       "2019-12-17 17:59:59.998       66.596069  42.181169       1.516108   \n",
       "2019-12-17 16:59:59.998       66.596069  48.071303       0.691834   \n",
       "\n",
       "                         V-48002.DN.AF  ...  NNW  NW  NWN  S  SE  SSE  SSW  \\\n",
       "Data fim                                ...                                  \n",
       "2019-12-17 18:59:59.998     -19.443054  ...    0   0    0  0   0    0    0   \n",
       "2019-12-17 17:59:59.998     -15.016849  ...    0   0    0  0   0    0    0   \n",
       "2019-12-17 16:59:59.998     -12.208705  ...    0   0    0  0   0    0    0   \n",
       "\n",
       "                         SW  W  WSW  \n",
       "Data fim                             \n",
       "2019-12-17 18:59:59.998   0  0    0  \n",
       "2019-12-17 17:59:59.998   0  0    0  \n",
       "2019-12-17 16:59:59.998   0  0    0  \n",
       "\n",
       "[3 rows x 109 columns]"
      ]
     },
     "execution_count": 26,
     "metadata": {},
     "output_type": "execute_result"
    }
   ],
   "source": [
    "novas_colunas_ohe = pd.get_dummies(data_df['classeDirVento']) \n",
    "for col in classesDirVento:\n",
    "    if col not in list(novas_colunas_ohe):\n",
    "        novas_colunas_ohe[col]=0\n",
    "novas_colunas_ohe.sort_index(axis=1, inplace=True)\n",
    "data_df = pd.concat([data_df,novas_colunas_ohe], axis=1) # axis = 1 concatena colunas. axis = 0 concatena linhas\n",
    "data_df.drop(['WD'], axis=1, inplace=True)\n",
    "data_df.drop(['classeDirVento'], axis=1, inplace=True)\n",
    "data_df.head(3)"
   ]
  },
  {
   "cell_type": "markdown",
   "metadata": {},
   "source": [
    "Cria uma coluna relativa ao dia da semana (feature engineering). Há expectativa que em finais de semana, a probabilidade de manifestação da comunidade é maior devido haver mais pessoas nas casas e por mais tempo."
   ]
  },
  {
   "cell_type": "code",
   "execution_count": 27,
   "metadata": {},
   "outputs": [],
   "source": [
    "data_df['DiaSemana'] = data_df['Data início'].dt.dayofweek\n",
    "data_df.drop(['Data início'], axis=1, inplace=True)\n",
    "#data_df['DiaSemana'] "
   ]
  },
  {
   "cell_type": "markdown",
   "metadata": {},
   "source": [
    "Aplica One Hot Encoder para as 16 categorias de direção do vento. Assim, a coluna \"classeDirVento\" é transformada em 16 colunas. Após isso, apagam-se colunas originais."
   ]
  },
  {
   "cell_type": "code",
   "execution_count": 28,
   "metadata": {},
   "outputs": [
    {
     "data": {
      "text/html": [
       "<div>\n",
       "<style scoped>\n",
       "    .dataframe tbody tr th:only-of-type {\n",
       "        vertical-align: middle;\n",
       "    }\n",
       "\n",
       "    .dataframe tbody tr th {\n",
       "        vertical-align: top;\n",
       "    }\n",
       "\n",
       "    .dataframe thead th {\n",
       "        text-align: right;\n",
       "    }\n",
       "</style>\n",
       "<table border=\"1\" class=\"dataframe\">\n",
       "  <thead>\n",
       "    <tr style=\"text-align: right;\">\n",
       "      <th></th>\n",
       "      <th>SO2</th>\n",
       "      <th>H2S</th>\n",
       "      <th>AT</th>\n",
       "      <th>RH</th>\n",
       "      <th>WS</th>\n",
       "      <th>TQ-41001.VZ.AF</th>\n",
       "      <th>TI413001</th>\n",
       "      <th>V-48001.DN.AF</th>\n",
       "      <th>V-48002.DN.AF</th>\n",
       "      <th>TQ-62013.VZ.AF</th>\n",
       "      <th>...</th>\n",
       "      <th>DiaSem_2</th>\n",
       "      <th>DiaSem_2.0</th>\n",
       "      <th>DiaSem_3</th>\n",
       "      <th>DiaSem_3.0</th>\n",
       "      <th>DiaSem_4</th>\n",
       "      <th>DiaSem_4.0</th>\n",
       "      <th>DiaSem_5</th>\n",
       "      <th>DiaSem_5.0</th>\n",
       "      <th>DiaSem_6</th>\n",
       "      <th>DiaSem_6.0</th>\n",
       "    </tr>\n",
       "    <tr>\n",
       "      <th>Data fim</th>\n",
       "      <th></th>\n",
       "      <th></th>\n",
       "      <th></th>\n",
       "      <th></th>\n",
       "      <th></th>\n",
       "      <th></th>\n",
       "      <th></th>\n",
       "      <th></th>\n",
       "      <th></th>\n",
       "      <th></th>\n",
       "      <th></th>\n",
       "      <th></th>\n",
       "      <th></th>\n",
       "      <th></th>\n",
       "      <th></th>\n",
       "      <th></th>\n",
       "      <th></th>\n",
       "      <th></th>\n",
       "      <th></th>\n",
       "      <th></th>\n",
       "      <th></th>\n",
       "    </tr>\n",
       "  </thead>\n",
       "  <tbody>\n",
       "    <tr>\n",
       "      <td>2019-12-17 18:59:59.998</td>\n",
       "      <td>NaN</td>\n",
       "      <td>NaN</td>\n",
       "      <td>NaN</td>\n",
       "      <td>NaN</td>\n",
       "      <td>NaN</td>\n",
       "      <td>66.596069</td>\n",
       "      <td>40.306046</td>\n",
       "      <td>1.644287</td>\n",
       "      <td>-19.443054</td>\n",
       "      <td>-49.336691</td>\n",
       "      <td>...</td>\n",
       "      <td>0</td>\n",
       "      <td>0</td>\n",
       "      <td>0</td>\n",
       "      <td>0</td>\n",
       "      <td>0</td>\n",
       "      <td>0</td>\n",
       "      <td>0</td>\n",
       "      <td>0</td>\n",
       "      <td>0</td>\n",
       "      <td>0</td>\n",
       "    </tr>\n",
       "    <tr>\n",
       "      <td>2019-12-17 17:59:59.998</td>\n",
       "      <td>NaN</td>\n",
       "      <td>NaN</td>\n",
       "      <td>NaN</td>\n",
       "      <td>NaN</td>\n",
       "      <td>NaN</td>\n",
       "      <td>66.596069</td>\n",
       "      <td>42.181169</td>\n",
       "      <td>1.516108</td>\n",
       "      <td>-15.016849</td>\n",
       "      <td>-53.121577</td>\n",
       "      <td>...</td>\n",
       "      <td>0</td>\n",
       "      <td>0</td>\n",
       "      <td>0</td>\n",
       "      <td>0</td>\n",
       "      <td>0</td>\n",
       "      <td>0</td>\n",
       "      <td>0</td>\n",
       "      <td>0</td>\n",
       "      <td>0</td>\n",
       "      <td>0</td>\n",
       "    </tr>\n",
       "    <tr>\n",
       "      <td>2019-12-17 16:59:59.998</td>\n",
       "      <td>NaN</td>\n",
       "      <td>NaN</td>\n",
       "      <td>NaN</td>\n",
       "      <td>NaN</td>\n",
       "      <td>NaN</td>\n",
       "      <td>66.596069</td>\n",
       "      <td>48.071303</td>\n",
       "      <td>0.691834</td>\n",
       "      <td>-12.208705</td>\n",
       "      <td>-54.494605</td>\n",
       "      <td>...</td>\n",
       "      <td>0</td>\n",
       "      <td>0</td>\n",
       "      <td>0</td>\n",
       "      <td>0</td>\n",
       "      <td>0</td>\n",
       "      <td>0</td>\n",
       "      <td>0</td>\n",
       "      <td>0</td>\n",
       "      <td>0</td>\n",
       "      <td>0</td>\n",
       "    </tr>\n",
       "  </tbody>\n",
       "</table>\n",
       "<p>3 rows × 122 columns</p>\n",
       "</div>"
      ],
      "text/plain": [
       "                         SO2  H2S  AT  RH  WS  TQ-41001.VZ.AF   TI413001  \\\n",
       "Data fim                                                                   \n",
       "2019-12-17 18:59:59.998  NaN  NaN NaN NaN NaN       66.596069  40.306046   \n",
       "2019-12-17 17:59:59.998  NaN  NaN NaN NaN NaN       66.596069  42.181169   \n",
       "2019-12-17 16:59:59.998  NaN  NaN NaN NaN NaN       66.596069  48.071303   \n",
       "\n",
       "                         V-48001.DN.AF  V-48002.DN.AF  TQ-62013.VZ.AF  ...  \\\n",
       "Data fim                                                               ...   \n",
       "2019-12-17 18:59:59.998       1.644287     -19.443054      -49.336691  ...   \n",
       "2019-12-17 17:59:59.998       1.516108     -15.016849      -53.121577  ...   \n",
       "2019-12-17 16:59:59.998       0.691834     -12.208705      -54.494605  ...   \n",
       "\n",
       "                         DiaSem_2  DiaSem_2.0  DiaSem_3  DiaSem_3.0  DiaSem_4  \\\n",
       "Data fim                                                                        \n",
       "2019-12-17 18:59:59.998         0           0         0           0         0   \n",
       "2019-12-17 17:59:59.998         0           0         0           0         0   \n",
       "2019-12-17 16:59:59.998         0           0         0           0         0   \n",
       "\n",
       "                         DiaSem_4.0  DiaSem_5  DiaSem_5.0  DiaSem_6  \\\n",
       "Data fim                                                              \n",
       "2019-12-17 18:59:59.998           0         0           0         0   \n",
       "2019-12-17 17:59:59.998           0         0           0         0   \n",
       "2019-12-17 16:59:59.998           0         0           0         0   \n",
       "\n",
       "                         DiaSem_6.0  \n",
       "Data fim                             \n",
       "2019-12-17 18:59:59.998           0  \n",
       "2019-12-17 17:59:59.998           0  \n",
       "2019-12-17 16:59:59.998           0  \n",
       "\n",
       "[3 rows x 122 columns]"
      ]
     },
     "execution_count": 28,
     "metadata": {},
     "output_type": "execute_result"
    }
   ],
   "source": [
    "diasemana = ['DiaSem_0','DiaSem_1','DiaSem_2','DiaSem_3','DiaSem_4','DiaSem_5','DiaSem_6']\n",
    "novas_colunas_ohe = pd.get_dummies(data_df['DiaSemana'], prefix='DiaSem')\n",
    "for col in diasemana:\n",
    "    if col not in list(novas_colunas_ohe):\n",
    "        novas_colunas_ohe[col]=0\n",
    "novas_colunas_ohe.sort_index(axis=1, inplace=True)            \n",
    "data_df = pd.concat([data_df,novas_colunas_ohe], axis=1) # axis = 1 concatena colunas. axis = 0 concatena linhas\n",
    "data_df.drop(['DiaSemana'], axis=1, inplace=True)\n",
    "data_df.head(3)"
   ]
  },
  {
   "cell_type": "markdown",
   "metadata": {},
   "source": [
    "Calcula-se o ponto de orvalho e a camada limite (feature engineering)."
   ]
  },
  {
   "cell_type": "code",
   "execution_count": 29,
   "metadata": {},
   "outputs": [],
   "source": [
    "#Temp = data_df['meteorREVAP.TempArM']\n",
    "#Umid = data_df['meteorREVAP.UmidRelM']"
   ]
  },
  {
   "cell_type": "code",
   "execution_count": 30,
   "metadata": {},
   "outputs": [],
   "source": [
    "#PontoOrvalho = ((Umid/100)**(1/8))*(112+0.9*Temp)+(0.1*Temp)-112\n",
    "#PontoOrvalho[0:3]"
   ]
  },
  {
   "cell_type": "code",
   "execution_count": 31,
   "metadata": {},
   "outputs": [],
   "source": [
    "#CamadaLimite = 110*(Temp-PontoOrvalho)\n",
    "#CamadaLimite[0:3]"
   ]
  },
  {
   "cell_type": "code",
   "execution_count": 32,
   "metadata": {},
   "outputs": [],
   "source": [
    "#data_df['meteorREVAP.calcPontoOrvalho'] = PontoOrvalho\n",
    "#data_df['meteorREVAP.calcCamadaLimite'] = CamadaLimite"
   ]
  },
  {
   "cell_type": "markdown",
   "metadata": {},
   "source": [
    "Ajusta os tipos categoria."
   ]
  },
  {
   "cell_type": "code",
   "execution_count": 33,
   "metadata": {},
   "outputs": [],
   "source": [
    "#data_df['Resultado'] = data_df['Resultado'].astype(\"category\").cat.codes\n",
    "#data_df['Resultado.1'] = data_df['Resultado.1'].astype(\"category\").cat.codes\n",
    "#data_df['Resultado.2'] = data_df['Resultado.2'].astype(\"category\").cat.codes\n",
    "#data_df['Resultado.3'] = data_df['Resultado.3'].astype(\"category\").cat.codes\n",
    "#data_df['Resultado.4'] = data_df['Resultado.4'].astype(\"category\").cat.codes\n",
    "#data_df['Tipo Manifestacao'] = data_df['Tipo Manifestacao'].astype(\"category\").cat.codes"
   ]
  },
  {
   "cell_type": "code",
   "execution_count": 34,
   "metadata": {},
   "outputs": [],
   "source": [
    "#data_df[classesDirVento] = data_df[classesDirVento].astype('category')\n",
    "#data_df[diasemana] = data_df[diasemana].astype('category')\n",
    "#data_df['Resultado'] = data_df['Resultado'].astype(\"category\")\n",
    "#data_df['Resultado.1'] = data_df['Resultado.1'].astype(\"category\")\n",
    "#data_df['Resultado.2'] = data_df['Resultado.2'].astype(\"category\")\n",
    "#data_df['Resultado.3'] = data_df['Resultado.3'].astype(\"category\")\n",
    "#data_df['Resultado.4'] = data_df['Resultado.4'].astype(\"category\")\n",
    "#data_df['Tipo Manifestacao'] = data_df['Tipo Manifestacao'].astype(\"category\")"
   ]
  },
  {
   "cell_type": "code",
   "execution_count": 35,
   "metadata": {},
   "outputs": [],
   "source": [
    "#data_df.dtypes['Resultado']"
   ]
  },
  {
   "cell_type": "code",
   "execution_count": 36,
   "metadata": {},
   "outputs": [],
   "source": [
    "#data_df.dtypes['N']"
   ]
  },
  {
   "cell_type": "code",
   "execution_count": 37,
   "metadata": {},
   "outputs": [
    {
     "data": {
      "text/plain": [
       "dtype('int64')"
      ]
     },
     "execution_count": 37,
     "metadata": {},
     "output_type": "execute_result"
    }
   ],
   "source": [
    "data_df.dtypes['DiaSem_3']"
   ]
  },
  {
   "cell_type": "code",
   "execution_count": 38,
   "metadata": {
    "scrolled": true
   },
   "outputs": [
    {
     "data": {
      "text/plain": [
       "SO2               float64\n",
       "H2S               float64\n",
       "AT                float64\n",
       "RH                float64\n",
       "WS                float64\n",
       "TQ-41001.VZ.AF    float64\n",
       "TI413001          float64\n",
       "V-48001.DN.AF     float64\n",
       "V-48002.DN.AF     float64\n",
       "TQ-62013.VZ.AF    float64\n",
       "dtype: object"
      ]
     },
     "execution_count": 38,
     "metadata": {},
     "output_type": "execute_result"
    }
   ],
   "source": [
    "data_df.dtypes[0:10]"
   ]
  },
  {
   "cell_type": "code",
   "execution_count": 39,
   "metadata": {
    "button": false,
    "new_sheet": false,
    "run_control": {
     "read_only": false
    }
   },
   "outputs": [
    {
     "data": {
      "text/plain": [
       "(54397, 122)"
      ]
     },
     "execution_count": 39,
     "metadata": {},
     "output_type": "execute_result"
    }
   ],
   "source": [
    "data_df.shape"
   ]
  },
  {
   "cell_type": "code",
   "execution_count": 40,
   "metadata": {},
   "outputs": [
    {
     "data": {
      "text/html": [
       "<div>\n",
       "<style scoped>\n",
       "    .dataframe tbody tr th:only-of-type {\n",
       "        vertical-align: middle;\n",
       "    }\n",
       "\n",
       "    .dataframe tbody tr th {\n",
       "        vertical-align: top;\n",
       "    }\n",
       "\n",
       "    .dataframe thead th {\n",
       "        text-align: right;\n",
       "    }\n",
       "</style>\n",
       "<table border=\"1\" class=\"dataframe\">\n",
       "  <thead>\n",
       "    <tr style=\"text-align: right;\">\n",
       "      <th></th>\n",
       "      <th>SO2</th>\n",
       "      <th>H2S</th>\n",
       "      <th>AT</th>\n",
       "      <th>RH</th>\n",
       "      <th>WS</th>\n",
       "      <th>TQ-41001.VZ.AF</th>\n",
       "      <th>TI413001</th>\n",
       "      <th>V-48001.DN.AF</th>\n",
       "      <th>V-48002.DN.AF</th>\n",
       "      <th>TQ-62013.VZ.AF</th>\n",
       "      <th>...</th>\n",
       "      <th>DiaSem_2</th>\n",
       "      <th>DiaSem_2.0</th>\n",
       "      <th>DiaSem_3</th>\n",
       "      <th>DiaSem_3.0</th>\n",
       "      <th>DiaSem_4</th>\n",
       "      <th>DiaSem_4.0</th>\n",
       "      <th>DiaSem_5</th>\n",
       "      <th>DiaSem_5.0</th>\n",
       "      <th>DiaSem_6</th>\n",
       "      <th>DiaSem_6.0</th>\n",
       "    </tr>\n",
       "    <tr>\n",
       "      <th>Data fim</th>\n",
       "      <th></th>\n",
       "      <th></th>\n",
       "      <th></th>\n",
       "      <th></th>\n",
       "      <th></th>\n",
       "      <th></th>\n",
       "      <th></th>\n",
       "      <th></th>\n",
       "      <th></th>\n",
       "      <th></th>\n",
       "      <th></th>\n",
       "      <th></th>\n",
       "      <th></th>\n",
       "      <th></th>\n",
       "      <th></th>\n",
       "      <th></th>\n",
       "      <th></th>\n",
       "      <th></th>\n",
       "      <th></th>\n",
       "      <th></th>\n",
       "      <th></th>\n",
       "    </tr>\n",
       "  </thead>\n",
       "  <tbody>\n",
       "    <tr>\n",
       "      <td>2019-12-17 18:59:59.998</td>\n",
       "      <td>NaN</td>\n",
       "      <td>NaN</td>\n",
       "      <td>NaN</td>\n",
       "      <td>NaN</td>\n",
       "      <td>NaN</td>\n",
       "      <td>66.596069</td>\n",
       "      <td>40.306046</td>\n",
       "      <td>1.644287</td>\n",
       "      <td>-19.443054</td>\n",
       "      <td>-49.336691</td>\n",
       "      <td>...</td>\n",
       "      <td>0</td>\n",
       "      <td>0</td>\n",
       "      <td>0</td>\n",
       "      <td>0</td>\n",
       "      <td>0</td>\n",
       "      <td>0</td>\n",
       "      <td>0</td>\n",
       "      <td>0</td>\n",
       "      <td>0</td>\n",
       "      <td>0</td>\n",
       "    </tr>\n",
       "    <tr>\n",
       "      <td>2019-12-17 17:59:59.998</td>\n",
       "      <td>NaN</td>\n",
       "      <td>NaN</td>\n",
       "      <td>NaN</td>\n",
       "      <td>NaN</td>\n",
       "      <td>NaN</td>\n",
       "      <td>66.596069</td>\n",
       "      <td>42.181169</td>\n",
       "      <td>1.516108</td>\n",
       "      <td>-15.016849</td>\n",
       "      <td>-53.121577</td>\n",
       "      <td>...</td>\n",
       "      <td>0</td>\n",
       "      <td>0</td>\n",
       "      <td>0</td>\n",
       "      <td>0</td>\n",
       "      <td>0</td>\n",
       "      <td>0</td>\n",
       "      <td>0</td>\n",
       "      <td>0</td>\n",
       "      <td>0</td>\n",
       "      <td>0</td>\n",
       "    </tr>\n",
       "    <tr>\n",
       "      <td>2019-12-17 16:59:59.998</td>\n",
       "      <td>NaN</td>\n",
       "      <td>NaN</td>\n",
       "      <td>NaN</td>\n",
       "      <td>NaN</td>\n",
       "      <td>NaN</td>\n",
       "      <td>66.596069</td>\n",
       "      <td>48.071303</td>\n",
       "      <td>0.691834</td>\n",
       "      <td>-12.208705</td>\n",
       "      <td>-54.494605</td>\n",
       "      <td>...</td>\n",
       "      <td>0</td>\n",
       "      <td>0</td>\n",
       "      <td>0</td>\n",
       "      <td>0</td>\n",
       "      <td>0</td>\n",
       "      <td>0</td>\n",
       "      <td>0</td>\n",
       "      <td>0</td>\n",
       "      <td>0</td>\n",
       "      <td>0</td>\n",
       "    </tr>\n",
       "    <tr>\n",
       "      <td>2019-12-17 15:59:59.998</td>\n",
       "      <td>NaN</td>\n",
       "      <td>NaN</td>\n",
       "      <td>NaN</td>\n",
       "      <td>NaN</td>\n",
       "      <td>NaN</td>\n",
       "      <td>66.596069</td>\n",
       "      <td>55.042119</td>\n",
       "      <td>0.140951</td>\n",
       "      <td>-17.325107</td>\n",
       "      <td>-53.286481</td>\n",
       "      <td>...</td>\n",
       "      <td>0</td>\n",
       "      <td>0</td>\n",
       "      <td>0</td>\n",
       "      <td>0</td>\n",
       "      <td>0</td>\n",
       "      <td>0</td>\n",
       "      <td>0</td>\n",
       "      <td>0</td>\n",
       "      <td>0</td>\n",
       "      <td>0</td>\n",
       "    </tr>\n",
       "    <tr>\n",
       "      <td>2019-12-17 14:59:59.998</td>\n",
       "      <td>NaN</td>\n",
       "      <td>NaN</td>\n",
       "      <td>NaN</td>\n",
       "      <td>NaN</td>\n",
       "      <td>NaN</td>\n",
       "      <td>66.596069</td>\n",
       "      <td>54.244724</td>\n",
       "      <td>2.054757</td>\n",
       "      <td>-12.869365</td>\n",
       "      <td>-47.283771</td>\n",
       "      <td>...</td>\n",
       "      <td>0</td>\n",
       "      <td>0</td>\n",
       "      <td>0</td>\n",
       "      <td>0</td>\n",
       "      <td>0</td>\n",
       "      <td>0</td>\n",
       "      <td>0</td>\n",
       "      <td>0</td>\n",
       "      <td>0</td>\n",
       "      <td>0</td>\n",
       "    </tr>\n",
       "  </tbody>\n",
       "</table>\n",
       "<p>5 rows × 122 columns</p>\n",
       "</div>"
      ],
      "text/plain": [
       "                         SO2  H2S  AT  RH  WS  TQ-41001.VZ.AF   TI413001  \\\n",
       "Data fim                                                                   \n",
       "2019-12-17 18:59:59.998  NaN  NaN NaN NaN NaN       66.596069  40.306046   \n",
       "2019-12-17 17:59:59.998  NaN  NaN NaN NaN NaN       66.596069  42.181169   \n",
       "2019-12-17 16:59:59.998  NaN  NaN NaN NaN NaN       66.596069  48.071303   \n",
       "2019-12-17 15:59:59.998  NaN  NaN NaN NaN NaN       66.596069  55.042119   \n",
       "2019-12-17 14:59:59.998  NaN  NaN NaN NaN NaN       66.596069  54.244724   \n",
       "\n",
       "                         V-48001.DN.AF  V-48002.DN.AF  TQ-62013.VZ.AF  ...  \\\n",
       "Data fim                                                               ...   \n",
       "2019-12-17 18:59:59.998       1.644287     -19.443054      -49.336691  ...   \n",
       "2019-12-17 17:59:59.998       1.516108     -15.016849      -53.121577  ...   \n",
       "2019-12-17 16:59:59.998       0.691834     -12.208705      -54.494605  ...   \n",
       "2019-12-17 15:59:59.998       0.140951     -17.325107      -53.286481  ...   \n",
       "2019-12-17 14:59:59.998       2.054757     -12.869365      -47.283771  ...   \n",
       "\n",
       "                         DiaSem_2  DiaSem_2.0  DiaSem_3  DiaSem_3.0  DiaSem_4  \\\n",
       "Data fim                                                                        \n",
       "2019-12-17 18:59:59.998         0           0         0           0         0   \n",
       "2019-12-17 17:59:59.998         0           0         0           0         0   \n",
       "2019-12-17 16:59:59.998         0           0         0           0         0   \n",
       "2019-12-17 15:59:59.998         0           0         0           0         0   \n",
       "2019-12-17 14:59:59.998         0           0         0           0         0   \n",
       "\n",
       "                         DiaSem_4.0  DiaSem_5  DiaSem_5.0  DiaSem_6  \\\n",
       "Data fim                                                              \n",
       "2019-12-17 18:59:59.998           0         0           0         0   \n",
       "2019-12-17 17:59:59.998           0         0           0         0   \n",
       "2019-12-17 16:59:59.998           0         0           0         0   \n",
       "2019-12-17 15:59:59.998           0         0           0         0   \n",
       "2019-12-17 14:59:59.998           0         0           0         0   \n",
       "\n",
       "                         DiaSem_6.0  \n",
       "Data fim                             \n",
       "2019-12-17 18:59:59.998           0  \n",
       "2019-12-17 17:59:59.998           0  \n",
       "2019-12-17 16:59:59.998           0  \n",
       "2019-12-17 15:59:59.998           0  \n",
       "2019-12-17 14:59:59.998           0  \n",
       "\n",
       "[5 rows x 122 columns]"
      ]
     },
     "execution_count": 40,
     "metadata": {},
     "output_type": "execute_result"
    }
   ],
   "source": [
    "data_df.head()"
   ]
  },
  {
   "cell_type": "markdown",
   "metadata": {},
   "source": [
    "## Salva Dataframe para processar posteriormente"
   ]
  },
  {
   "cell_type": "markdown",
   "metadata": {},
   "source": [
    "Salvar nos formatos Pickel (pkl) e Excel (xlsx)"
   ]
  },
  {
   "cell_type": "code",
   "execution_count": 41,
   "metadata": {},
   "outputs": [],
   "source": [
    "data_df.to_pickle(\"./dataframe.pkl\")\n",
    "#data_df.to_excel(\"./dataframe.xlsx\")"
   ]
  },
  {
   "cell_type": "code",
   "execution_count": null,
   "metadata": {},
   "outputs": [],
   "source": []
  },
  {
   "cell_type": "code",
   "execution_count": null,
   "metadata": {},
   "outputs": [],
   "source": []
  }
 ],
 "metadata": {
  "kernelspec": {
   "display_name": "Python 3",
   "language": "python",
   "name": "python3"
  },
  "language_info": {
   "codemirror_mode": {
    "name": "ipython",
    "version": 3
   },
   "file_extension": ".py",
   "mimetype": "text/x-python",
   "name": "python",
   "nbconvert_exporter": "python",
   "pygments_lexer": "ipython3",
   "version": "3.7.4"
  },
  "widgets": {
   "state": {},
   "version": "1.1.2"
  }
 },
 "nbformat": 4,
 "nbformat_minor": 2
}
