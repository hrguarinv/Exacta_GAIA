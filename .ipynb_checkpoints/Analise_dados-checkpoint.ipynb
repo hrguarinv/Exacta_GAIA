{
 "cells": [
  {
   "cell_type": "markdown",
   "metadata": {},
   "source": [
    "# Análise descriptiva dos dados meteorologicos GAIA"
   ]
  },
  {
   "cell_type": "code",
   "execution_count": 2,
   "metadata": {},
   "outputs": [],
   "source": [
    "# importing python libraries\n",
    "\n",
    "import numpy as np\n",
    "import pandas as pd\n",
    "\n",
    "import matplotlib.pyplot as plt\n",
    "import matplotlib as mpl\n",
    "\n",
    "from sklearn import datasets\n",
    "from sklearn import metrics\n",
    "import seaborn as sns"
   ]
  },
  {
   "cell_type": "code",
   "execution_count": 3,
   "metadata": {},
   "outputs": [
    {
     "data": {
      "text/html": [
       "<div>\n",
       "<style scoped>\n",
       "    .dataframe tbody tr th:only-of-type {\n",
       "        vertical-align: middle;\n",
       "    }\n",
       "\n",
       "    .dataframe tbody tr th {\n",
       "        vertical-align: top;\n",
       "    }\n",
       "\n",
       "    .dataframe thead th {\n",
       "        text-align: right;\n",
       "    }\n",
       "</style>\n",
       "<table border=\"1\" class=\"dataframe\">\n",
       "  <thead>\n",
       "    <tr style=\"text-align: right;\">\n",
       "      <th></th>\n",
       "      <th>DATA / HORA</th>\n",
       "      <th>SO₂</th>\n",
       "      <th>H₂S</th>\n",
       "      <th>AT</th>\n",
       "      <th>RH</th>\n",
       "      <th>WS</th>\n",
       "      <th>WD</th>\n",
       "    </tr>\n",
       "  </thead>\n",
       "  <tbody>\n",
       "    <tr>\n",
       "      <td>0</td>\n",
       "      <td>NaN</td>\n",
       "      <td>Dióxido de Enxofre (SO₂) - Médias horárias</td>\n",
       "      <td>Gás Súlfidrico (H₂S) - Médias horárias</td>\n",
       "      <td>Temperatura Ambiente - Médias horárias</td>\n",
       "      <td>Umidade Relativa do Ar - Médias horárias</td>\n",
       "      <td>Velocidade do Vento - Médias horárias</td>\n",
       "      <td>Direção do Vento - Médias horárias</td>\n",
       "    </tr>\n",
       "    <tr>\n",
       "      <td>1</td>\n",
       "      <td>10/26/2016 0:00</td>\n",
       "      <td>3.09</td>\n",
       "      <td>8.05</td>\n",
       "      <td>26.00</td>\n",
       "      <td>71.30</td>\n",
       "      <td>3.57</td>\n",
       "      <td>280.28</td>\n",
       "    </tr>\n",
       "    <tr>\n",
       "      <td>2</td>\n",
       "      <td>10/26/2016 1:00</td>\n",
       "      <td>2.74</td>\n",
       "      <td>3.78</td>\n",
       "      <td>25.50</td>\n",
       "      <td>72.90</td>\n",
       "      <td>3.01</td>\n",
       "      <td>277.36</td>\n",
       "    </tr>\n",
       "    <tr>\n",
       "      <td>3</td>\n",
       "      <td>10/26/2016 2:00</td>\n",
       "      <td>2.12</td>\n",
       "      <td>5.90</td>\n",
       "      <td>25.10</td>\n",
       "      <td>74.70</td>\n",
       "      <td>2.34</td>\n",
       "      <td>277.62</td>\n",
       "    </tr>\n",
       "    <tr>\n",
       "      <td>4</td>\n",
       "      <td>10/26/2016 3:00</td>\n",
       "      <td>1.76</td>\n",
       "      <td>19.65</td>\n",
       "      <td>24.70</td>\n",
       "      <td>77.30</td>\n",
       "      <td>2.39</td>\n",
       "      <td>278.71</td>\n",
       "    </tr>\n",
       "    <tr>\n",
       "      <td>...</td>\n",
       "      <td>...</td>\n",
       "      <td>...</td>\n",
       "      <td>...</td>\n",
       "      <td>...</td>\n",
       "      <td>...</td>\n",
       "      <td>...</td>\n",
       "      <td>...</td>\n",
       "    </tr>\n",
       "    <tr>\n",
       "      <td>26828</td>\n",
       "      <td>11/17/2019 19:00</td>\n",
       "      <td>4.61</td>\n",
       "      <td>2.78</td>\n",
       "      <td>28.12</td>\n",
       "      <td>76.60</td>\n",
       "      <td>1.48</td>\n",
       "      <td>109.42</td>\n",
       "    </tr>\n",
       "    <tr>\n",
       "      <td>26829</td>\n",
       "      <td>11/17/2019 20:00</td>\n",
       "      <td>4.97</td>\n",
       "      <td>3.27</td>\n",
       "      <td>28.00</td>\n",
       "      <td>78.30</td>\n",
       "      <td>1.43</td>\n",
       "      <td>124.06</td>\n",
       "    </tr>\n",
       "    <tr>\n",
       "      <td>26830</td>\n",
       "      <td>11/17/2019 21:00</td>\n",
       "      <td>4.88</td>\n",
       "      <td>3.44</td>\n",
       "      <td>28.05</td>\n",
       "      <td>77.30</td>\n",
       "      <td>2.11</td>\n",
       "      <td>128.37</td>\n",
       "    </tr>\n",
       "    <tr>\n",
       "      <td>26831</td>\n",
       "      <td>11/17/2019 22:00</td>\n",
       "      <td>4.99</td>\n",
       "      <td>3.29</td>\n",
       "      <td>27.60</td>\n",
       "      <td>77.30</td>\n",
       "      <td>1.35</td>\n",
       "      <td>126.44</td>\n",
       "    </tr>\n",
       "    <tr>\n",
       "      <td>26832</td>\n",
       "      <td>11/17/2019 23:00</td>\n",
       "      <td>4.91</td>\n",
       "      <td>3.38</td>\n",
       "      <td>27.01</td>\n",
       "      <td>78.20</td>\n",
       "      <td>0.74</td>\n",
       "      <td>133.84</td>\n",
       "    </tr>\n",
       "  </tbody>\n",
       "</table>\n",
       "<p>26833 rows × 7 columns</p>\n",
       "</div>"
      ],
      "text/plain": [
       "            DATA / HORA                                         SO₂  \\\n",
       "0                   NaN  Dióxido de Enxofre (SO₂) - Médias horárias   \n",
       "1       10/26/2016 0:00                                        3.09   \n",
       "2       10/26/2016 1:00                                        2.74   \n",
       "3       10/26/2016 2:00                                        2.12   \n",
       "4       10/26/2016 3:00                                        1.76   \n",
       "...                 ...                                         ...   \n",
       "26828  11/17/2019 19:00                                        4.61   \n",
       "26829  11/17/2019 20:00                                        4.97   \n",
       "26830  11/17/2019 21:00                                        4.88   \n",
       "26831  11/17/2019 22:00                                        4.99   \n",
       "26832  11/17/2019 23:00                                        4.91   \n",
       "\n",
       "                                          H₂S  \\\n",
       "0      Gás Súlfidrico (H₂S) - Médias horárias   \n",
       "1                                        8.05   \n",
       "2                                        3.78   \n",
       "3                                        5.90   \n",
       "4                                       19.65   \n",
       "...                                       ...   \n",
       "26828                                    2.78   \n",
       "26829                                    3.27   \n",
       "26830                                    3.44   \n",
       "26831                                    3.29   \n",
       "26832                                    3.38   \n",
       "\n",
       "                                           AT  \\\n",
       "0      Temperatura Ambiente - Médias horárias   \n",
       "1                                       26.00   \n",
       "2                                       25.50   \n",
       "3                                       25.10   \n",
       "4                                       24.70   \n",
       "...                                       ...   \n",
       "26828                                   28.12   \n",
       "26829                                   28.00   \n",
       "26830                                   28.05   \n",
       "26831                                   27.60   \n",
       "26832                                   27.01   \n",
       "\n",
       "                                             RH  \\\n",
       "0      Umidade Relativa do Ar - Médias horárias   \n",
       "1                                         71.30   \n",
       "2                                         72.90   \n",
       "3                                         74.70   \n",
       "4                                         77.30   \n",
       "...                                         ...   \n",
       "26828                                     76.60   \n",
       "26829                                     78.30   \n",
       "26830                                     77.30   \n",
       "26831                                     77.30   \n",
       "26832                                     78.20   \n",
       "\n",
       "                                          WS  \\\n",
       "0      Velocidade do Vento - Médias horárias   \n",
       "1                                       3.57   \n",
       "2                                       3.01   \n",
       "3                                       2.34   \n",
       "4                                       2.39   \n",
       "...                                      ...   \n",
       "26828                                   1.48   \n",
       "26829                                   1.43   \n",
       "26830                                   2.11   \n",
       "26831                                   1.35   \n",
       "26832                                   0.74   \n",
       "\n",
       "                                       WD  \n",
       "0      Direção do Vento - Médias horárias  \n",
       "1                                  280.28  \n",
       "2                                  277.36  \n",
       "3                                  277.62  \n",
       "4                                  278.71  \n",
       "...                                   ...  \n",
       "26828                              109.42  \n",
       "26829                              124.06  \n",
       "26830                              128.37  \n",
       "26831                              126.44  \n",
       "26832                              133.84  \n",
       "\n",
       "[26833 rows x 7 columns]"
      ]
     },
     "execution_count": 3,
     "metadata": {},
     "output_type": "execute_result"
    }
   ],
   "source": [
    "# Loading Dataset \n",
    "pd.read_csv(\"qualidade_meteor.csv\")"
   ]
  },
  {
   "cell_type": "code",
   "execution_count": 4,
   "metadata": {},
   "outputs": [],
   "source": [
    "dados_meteo = pd.read_csv(\"qualidade_meteor.csv\")"
   ]
  },
  {
   "cell_type": "code",
   "execution_count": 5,
   "metadata": {},
   "outputs": [
    {
     "data": {
      "text/plain": [
       "DATA / HORA    object\n",
       "SO₂            object\n",
       "H₂S            object\n",
       "AT             object\n",
       "RH             object\n",
       "WS             object\n",
       "WD             object\n",
       "dtype: object"
      ]
     },
     "execution_count": 5,
     "metadata": {},
     "output_type": "execute_result"
    }
   ],
   "source": [
    "dados_meteo.dtypes"
   ]
  },
  {
   "cell_type": "code",
   "execution_count": 6,
   "metadata": {},
   "outputs": [
    {
     "data": {
      "text/plain": [
       "Index(['DATA', 'SO2', 'H2S', 'AT', 'RH', 'WS', 'WD'], dtype='object')"
      ]
     },
     "execution_count": 6,
     "metadata": {},
     "output_type": "execute_result"
    }
   ],
   "source": [
    "dados_meteo.columns = ['DATA', 'SO2', 'H2S', 'AT', 'RH', 'WS', 'WD']\n",
    "dados_meteo.columns"
   ]
  },
  {
   "cell_type": "code",
   "execution_count": 7,
   "metadata": {},
   "outputs": [
    {
     "data": {
      "text/plain": [
       "Index(['DATA', 'SO2', 'H2S', 'AT', 'RH', 'WS', 'WD'], dtype='object')"
      ]
     },
     "execution_count": 7,
     "metadata": {},
     "output_type": "execute_result"
    }
   ],
   "source": [
    "dados_meteo.columns"
   ]
  },
  {
   "cell_type": "code",
   "execution_count": 8,
   "metadata": {},
   "outputs": [
    {
     "data": {
      "text/plain": [
       "count     24516\n",
       "unique      837\n",
       "top        0.00\n",
       "freq       1921\n",
       "Name: H2S, dtype: object"
      ]
     },
     "execution_count": 8,
     "metadata": {},
     "output_type": "execute_result"
    }
   ],
   "source": [
    "dados_meteo['H2S'].describe()"
   ]
  },
  {
   "cell_type": "code",
   "execution_count": 9,
   "metadata": {},
   "outputs": [],
   "source": [
    "dados_meteo = dados_meteo.drop([0],axis=0)"
   ]
  },
  {
   "cell_type": "code",
   "execution_count": 10,
   "metadata": {},
   "outputs": [
    {
     "data": {
      "text/plain": [
       "DATA    object\n",
       "SO2     object\n",
       "H2S     object\n",
       "AT      object\n",
       "RH      object\n",
       "WS      object\n",
       "WD      object\n",
       "dtype: object"
      ]
     },
     "execution_count": 10,
     "metadata": {},
     "output_type": "execute_result"
    }
   ],
   "source": [
    "dados_meteo.dtypes"
   ]
  },
  {
   "cell_type": "code",
   "execution_count": 11,
   "metadata": {},
   "outputs": [
    {
     "data": {
      "text/plain": [
       "<function pandas.core.generic.NDFrame.astype(self, dtype, copy=True, errors='raise', **kwargs)>"
      ]
     },
     "execution_count": 11,
     "metadata": {},
     "output_type": "execute_result"
    }
   ],
   "source": [
    "pd.Series.astype"
   ]
  },
  {
   "cell_type": "code",
   "execution_count": 12,
   "metadata": {},
   "outputs": [],
   "source": [
    "dados_meteo = dados_meteo.replace({\"0.41x\": 0.41, \"-0.02x\": -0.02, \"1.68x\": 1.68, \"2.74x\": 2.74})"
   ]
  },
  {
   "cell_type": "code",
   "execution_count": 13,
   "metadata": {},
   "outputs": [],
   "source": [
    "dados_meteo[\"H2S\"] = dados_meteo.H2S.astype(float)"
   ]
  },
  {
   "cell_type": "code",
   "execution_count": 14,
   "metadata": {},
   "outputs": [
    {
     "data": {
      "text/plain": [
       "count    24515.000000\n",
       "mean         1.916066\n",
       "std          1.543808\n",
       "min         -0.020000\n",
       "25%          0.770000\n",
       "50%          1.750000\n",
       "75%          2.760000\n",
       "max         60.210000\n",
       "Name: H2S, dtype: float64"
      ]
     },
     "execution_count": 14,
     "metadata": {},
     "output_type": "execute_result"
    }
   ],
   "source": [
    "dados_meteo['H2S'].describe()"
   ]
  },
  {
   "cell_type": "code",
   "execution_count": 15,
   "metadata": {},
   "outputs": [],
   "source": [
    "dados_meteo[\"SO2\"] = dados_meteo.SO2.astype(float)"
   ]
  },
  {
   "cell_type": "code",
   "execution_count": 16,
   "metadata": {},
   "outputs": [
    {
     "data": {
      "text/plain": [
       "count    24515.000000\n",
       "mean         4.892549\n",
       "std          6.731026\n",
       "min         -0.350000\n",
       "25%          2.720000\n",
       "50%          4.180000\n",
       "75%          5.620000\n",
       "max        182.790000\n",
       "Name: SO2, dtype: float64"
      ]
     },
     "execution_count": 16,
     "metadata": {},
     "output_type": "execute_result"
    }
   ],
   "source": [
    "dados_meteo['SO2'].describe()"
   ]
  },
  {
   "cell_type": "code",
   "execution_count": 17,
   "metadata": {},
   "outputs": [],
   "source": [
    "dados_meteo[\"AT\"] = dados_meteo.AT.astype(float)"
   ]
  },
  {
   "cell_type": "code",
   "execution_count": 18,
   "metadata": {},
   "outputs": [
    {
     "data": {
      "text/plain": [
       "count    24515.000000\n",
       "mean        27.943697\n",
       "std          2.394469\n",
       "min         20.500000\n",
       "25%         26.210000\n",
       "50%         27.870000\n",
       "75%         29.740000\n",
       "max         34.790000\n",
       "Name: AT, dtype: float64"
      ]
     },
     "execution_count": 18,
     "metadata": {},
     "output_type": "execute_result"
    }
   ],
   "source": [
    "dados_meteo['AT'].describe()"
   ]
  },
  {
   "cell_type": "code",
   "execution_count": 19,
   "metadata": {},
   "outputs": [],
   "source": [
    "dados_meteo[\"RH\"] = dados_meteo.RH.astype(float)"
   ]
  },
  {
   "cell_type": "code",
   "execution_count": 20,
   "metadata": {},
   "outputs": [
    {
     "data": {
      "text/plain": [
       "count    24515.000000\n",
       "mean        76.348746\n",
       "std         10.340221\n",
       "min         44.200000\n",
       "25%         68.000000\n",
       "50%         76.100000\n",
       "75%         85.600000\n",
       "max        100.000000\n",
       "Name: RH, dtype: float64"
      ]
     },
     "execution_count": 20,
     "metadata": {},
     "output_type": "execute_result"
    }
   ],
   "source": [
    "dados_meteo['RH'].describe()"
   ]
  },
  {
   "cell_type": "code",
   "execution_count": 21,
   "metadata": {},
   "outputs": [],
   "source": [
    "dados_meteo[\"WS\"] = dados_meteo.WS.astype(float)"
   ]
  },
  {
   "cell_type": "code",
   "execution_count": 22,
   "metadata": {},
   "outputs": [
    {
     "data": {
      "text/plain": [
       "count    24515.000000\n",
       "mean         2.491336\n",
       "std          1.614854\n",
       "min          0.000000\n",
       "25%          1.140000\n",
       "50%          2.230000\n",
       "75%          3.700000\n",
       "max          9.470000\n",
       "Name: WS, dtype: float64"
      ]
     },
     "execution_count": 22,
     "metadata": {},
     "output_type": "execute_result"
    }
   ],
   "source": [
    "dados_meteo['WS'].describe()"
   ]
  },
  {
   "cell_type": "code",
   "execution_count": 23,
   "metadata": {},
   "outputs": [],
   "source": [
    "dados_meteo[\"WD\"] = dados_meteo.WD.astype(float)"
   ]
  },
  {
   "cell_type": "code",
   "execution_count": 24,
   "metadata": {},
   "outputs": [
    {
     "data": {
      "text/plain": [
       "count    24515.000000\n",
       "mean       155.095947\n",
       "std         72.924085\n",
       "min          0.000000\n",
       "25%        100.825000\n",
       "50%        126.900000\n",
       "75%        229.130000\n",
       "max        404.640000\n",
       "Name: WD, dtype: float64"
      ]
     },
     "execution_count": 24,
     "metadata": {},
     "output_type": "execute_result"
    }
   ],
   "source": [
    "dados_meteo['WD'].describe()"
   ]
  },
  {
   "cell_type": "code",
   "execution_count": 25,
   "metadata": {},
   "outputs": [],
   "source": [
    "dados_meteo = dados_meteo.drop(['DATA'], axis=1)"
   ]
  },
  {
   "cell_type": "code",
   "execution_count": 26,
   "metadata": {},
   "outputs": [
    {
     "data": {
      "text/plain": [
       "2317"
      ]
     },
     "execution_count": 26,
     "metadata": {},
     "output_type": "execute_result"
    }
   ],
   "source": [
    "# registros null do dataset relacionados à varaible H2S\n",
    "len(dados_meteo[pd.isnull(dados_meteo.H2S)])"
   ]
  },
  {
   "cell_type": "code",
   "execution_count": 27,
   "metadata": {},
   "outputs": [
    {
     "data": {
      "text/plain": [
       "(2317, 6)"
      ]
     },
     "execution_count": 27,
     "metadata": {},
     "output_type": "execute_result"
    }
   ],
   "source": [
    "nulls = dados_meteo[dados_meteo.H2S.isnull()]\n",
    "nulls.shape"
   ]
  },
  {
   "cell_type": "code",
   "execution_count": 28,
   "metadata": {},
   "outputs": [
    {
     "data": {
      "text/plain": [
       "Int64Index([   41,    42,    43,   245,   300,   358,   378,   379,   461,\n",
       "              479,\n",
       "            ...\n",
       "            25503, 25504, 25573, 25885, 25910, 25911, 25912, 26390, 26702,\n",
       "            26703],\n",
       "           dtype='int64', length=2317)"
      ]
     },
     "execution_count": 28,
     "metadata": {},
     "output_type": "execute_result"
    }
   ],
   "source": [
    "nulls.index"
   ]
  },
  {
   "cell_type": "code",
   "execution_count": 29,
   "metadata": {},
   "outputs": [
    {
     "data": {
      "text/plain": [
       "(24515, 6)"
      ]
     },
     "execution_count": 29,
     "metadata": {},
     "output_type": "execute_result"
    }
   ],
   "source": [
    "dados_meteo.drop(dados_meteo[dados_meteo.H2S.isnull()].index, inplace = True)\n",
    "dados_meteo.shape"
   ]
  },
  {
   "cell_type": "code",
   "execution_count": 30,
   "metadata": {},
   "outputs": [
    {
     "data": {
      "text/plain": [
       "count    24515.000000\n",
       "mean         1.916066\n",
       "std          1.543808\n",
       "min         -0.020000\n",
       "25%          0.770000\n",
       "50%          1.750000\n",
       "75%          2.760000\n",
       "max         60.210000\n",
       "Name: H2S, dtype: float64"
      ]
     },
     "execution_count": 30,
     "metadata": {},
     "output_type": "execute_result"
    }
   ],
   "source": [
    "dados_meteo['H2S'].describe()"
   ]
  },
  {
   "cell_type": "code",
   "execution_count": 31,
   "metadata": {},
   "outputs": [],
   "source": [
    "# Normalizando os dados do dataframe\n",
    "\n",
    "from sklearn.preprocessing import normalize\n",
    "\n",
    "dados_meteo_norm = normalize(dados_meteo)"
   ]
  },
  {
   "cell_type": "code",
   "execution_count": 32,
   "metadata": {
    "scrolled": true
   },
   "outputs": [
    {
     "data": {
      "text/html": [
       "<div>\n",
       "<style scoped>\n",
       "    .dataframe tbody tr th:only-of-type {\n",
       "        vertical-align: middle;\n",
       "    }\n",
       "\n",
       "    .dataframe tbody tr th {\n",
       "        vertical-align: top;\n",
       "    }\n",
       "\n",
       "    .dataframe thead th {\n",
       "        text-align: right;\n",
       "    }\n",
       "</style>\n",
       "<table border=\"1\" class=\"dataframe\">\n",
       "  <thead>\n",
       "    <tr style=\"text-align: right;\">\n",
       "      <th></th>\n",
       "      <th>SO2</th>\n",
       "      <th>H2S</th>\n",
       "      <th>AT</th>\n",
       "      <th>RH</th>\n",
       "      <th>WS</th>\n",
       "      <th>WD</th>\n",
       "    </tr>\n",
       "  </thead>\n",
       "  <tbody>\n",
       "    <tr>\n",
       "      <td>0</td>\n",
       "      <td>0.010636</td>\n",
       "      <td>0.027709</td>\n",
       "      <td>0.089494</td>\n",
       "      <td>0.245419</td>\n",
       "      <td>0.012288</td>\n",
       "      <td>0.964743</td>\n",
       "    </tr>\n",
       "    <tr>\n",
       "      <td>1</td>\n",
       "      <td>0.009515</td>\n",
       "      <td>0.013127</td>\n",
       "      <td>0.088552</td>\n",
       "      <td>0.253155</td>\n",
       "      <td>0.010453</td>\n",
       "      <td>0.963171</td>\n",
       "    </tr>\n",
       "    <tr>\n",
       "      <td>2</td>\n",
       "      <td>0.007344</td>\n",
       "      <td>0.020439</td>\n",
       "      <td>0.086952</td>\n",
       "      <td>0.258777</td>\n",
       "      <td>0.008106</td>\n",
       "      <td>0.961736</td>\n",
       "    </tr>\n",
       "    <tr>\n",
       "      <td>3</td>\n",
       "      <td>0.006049</td>\n",
       "      <td>0.067534</td>\n",
       "      <td>0.084890</td>\n",
       "      <td>0.265669</td>\n",
       "      <td>0.008214</td>\n",
       "      <td>0.957888</td>\n",
       "    </tr>\n",
       "    <tr>\n",
       "      <td>4</td>\n",
       "      <td>0.008873</td>\n",
       "      <td>0.022075</td>\n",
       "      <td>0.085867</td>\n",
       "      <td>0.300177</td>\n",
       "      <td>0.006619</td>\n",
       "      <td>0.949690</td>\n",
       "    </tr>\n",
       "  </tbody>\n",
       "</table>\n",
       "</div>"
      ],
      "text/plain": [
       "        SO2       H2S        AT        RH        WS        WD\n",
       "0  0.010636  0.027709  0.089494  0.245419  0.012288  0.964743\n",
       "1  0.009515  0.013127  0.088552  0.253155  0.010453  0.963171\n",
       "2  0.007344  0.020439  0.086952  0.258777  0.008106  0.961736\n",
       "3  0.006049  0.067534  0.084890  0.265669  0.008214  0.957888\n",
       "4  0.008873  0.022075  0.085867  0.300177  0.006619  0.949690"
      ]
     },
     "execution_count": 32,
     "metadata": {},
     "output_type": "execute_result"
    }
   ],
   "source": [
    "dados_meteo = pd.DataFrame(dados_meteo_norm, columns = ['SO2', 'H2S', 'AT', 'RH', 'WS', 'WD'])\n",
    "dados_meteo.head()"
   ]
  },
  {
   "cell_type": "code",
   "execution_count": 33,
   "metadata": {},
   "outputs": [
    {
     "name": "stdout",
     "output_type": "stream",
     "text": [
      "float64\n",
      "[[0.01063599 0.02770864 0.08949375 0.24541939 0.01228818 0.96474261]\n",
      " [0.00951503 0.01312658 0.0885523  0.25315539 0.01045264 0.96317119]\n",
      " [0.00734414 0.02043888 0.08695187 0.25877707 0.00810627 0.96173614]\n",
      " ...\n",
      " [0.03198295 0.02254536 0.18383643 0.5066152  0.01382869 0.84132204]\n",
      " [0.0330749  0.0218069  0.1829393  0.51236261 0.00894812 0.83807411]\n",
      " [0.0311823  0.02146562 0.1715344  0.49663052 0.00469957 0.84998758]]\n"
     ]
    }
   ],
   "source": [
    "# Passando os dados do dataframe para um Array visando clusterizar os dados\n",
    "\n",
    "dataset_array = dados_meteo.values\n",
    "print(dataset_array.dtype)\n",
    "print(dataset_array)"
   ]
  },
  {
   "cell_type": "code",
   "execution_count": 34,
   "metadata": {},
   "outputs": [
    {
     "data": {
      "text/plain": [
       "24515"
      ]
     },
     "execution_count": 34,
     "metadata": {},
     "output_type": "execute_result"
    }
   ],
   "source": [
    "len(dataset_array)"
   ]
  },
  {
   "cell_type": "code",
   "execution_count": 35,
   "metadata": {},
   "outputs": [
    {
     "data": {
      "text/html": [
       "<div>\n",
       "<style scoped>\n",
       "    .dataframe tbody tr th:only-of-type {\n",
       "        vertical-align: middle;\n",
       "    }\n",
       "\n",
       "    .dataframe tbody tr th {\n",
       "        vertical-align: top;\n",
       "    }\n",
       "\n",
       "    .dataframe thead th {\n",
       "        text-align: right;\n",
       "    }\n",
       "</style>\n",
       "<table border=\"1\" class=\"dataframe\">\n",
       "  <thead>\n",
       "    <tr style=\"text-align: right;\">\n",
       "      <th></th>\n",
       "      <th>SO2</th>\n",
       "      <th>H2S</th>\n",
       "      <th>AT</th>\n",
       "      <th>RH</th>\n",
       "      <th>WS</th>\n",
       "      <th>WD</th>\n",
       "    </tr>\n",
       "  </thead>\n",
       "  <tbody>\n",
       "    <tr>\n",
       "      <td>0</td>\n",
       "      <td>0.010636</td>\n",
       "      <td>0.027709</td>\n",
       "      <td>0.089494</td>\n",
       "      <td>0.245419</td>\n",
       "      <td>0.012288</td>\n",
       "      <td>0.964743</td>\n",
       "    </tr>\n",
       "    <tr>\n",
       "      <td>1</td>\n",
       "      <td>0.009515</td>\n",
       "      <td>0.013127</td>\n",
       "      <td>0.088552</td>\n",
       "      <td>0.253155</td>\n",
       "      <td>0.010453</td>\n",
       "      <td>0.963171</td>\n",
       "    </tr>\n",
       "    <tr>\n",
       "      <td>2</td>\n",
       "      <td>0.007344</td>\n",
       "      <td>0.020439</td>\n",
       "      <td>0.086952</td>\n",
       "      <td>0.258777</td>\n",
       "      <td>0.008106</td>\n",
       "      <td>0.961736</td>\n",
       "    </tr>\n",
       "    <tr>\n",
       "      <td>3</td>\n",
       "      <td>0.006049</td>\n",
       "      <td>0.067534</td>\n",
       "      <td>0.084890</td>\n",
       "      <td>0.265669</td>\n",
       "      <td>0.008214</td>\n",
       "      <td>0.957888</td>\n",
       "    </tr>\n",
       "    <tr>\n",
       "      <td>4</td>\n",
       "      <td>0.008873</td>\n",
       "      <td>0.022075</td>\n",
       "      <td>0.085867</td>\n",
       "      <td>0.300177</td>\n",
       "      <td>0.006619</td>\n",
       "      <td>0.949690</td>\n",
       "    </tr>\n",
       "    <tr>\n",
       "      <td>...</td>\n",
       "      <td>...</td>\n",
       "      <td>...</td>\n",
       "      <td>...</td>\n",
       "      <td>...</td>\n",
       "      <td>...</td>\n",
       "      <td>...</td>\n",
       "    </tr>\n",
       "    <tr>\n",
       "      <td>24510</td>\n",
       "      <td>0.033746</td>\n",
       "      <td>0.020350</td>\n",
       "      <td>0.205842</td>\n",
       "      <td>0.560722</td>\n",
       "      <td>0.010834</td>\n",
       "      <td>0.800968</td>\n",
       "    </tr>\n",
       "    <tr>\n",
       "      <td>24511</td>\n",
       "      <td>0.033249</td>\n",
       "      <td>0.021876</td>\n",
       "      <td>0.187320</td>\n",
       "      <td>0.523828</td>\n",
       "      <td>0.009567</td>\n",
       "      <td>0.829963</td>\n",
       "    </tr>\n",
       "    <tr>\n",
       "      <td>24512</td>\n",
       "      <td>0.031983</td>\n",
       "      <td>0.022545</td>\n",
       "      <td>0.183836</td>\n",
       "      <td>0.506615</td>\n",
       "      <td>0.013829</td>\n",
       "      <td>0.841322</td>\n",
       "    </tr>\n",
       "    <tr>\n",
       "      <td>24513</td>\n",
       "      <td>0.033075</td>\n",
       "      <td>0.021807</td>\n",
       "      <td>0.182939</td>\n",
       "      <td>0.512363</td>\n",
       "      <td>0.008948</td>\n",
       "      <td>0.838074</td>\n",
       "    </tr>\n",
       "    <tr>\n",
       "      <td>24514</td>\n",
       "      <td>0.031182</td>\n",
       "      <td>0.021466</td>\n",
       "      <td>0.171534</td>\n",
       "      <td>0.496631</td>\n",
       "      <td>0.004700</td>\n",
       "      <td>0.849988</td>\n",
       "    </tr>\n",
       "  </tbody>\n",
       "</table>\n",
       "<p>24515 rows × 6 columns</p>\n",
       "</div>"
      ],
      "text/plain": [
       "            SO2       H2S        AT        RH        WS        WD\n",
       "0      0.010636  0.027709  0.089494  0.245419  0.012288  0.964743\n",
       "1      0.009515  0.013127  0.088552  0.253155  0.010453  0.963171\n",
       "2      0.007344  0.020439  0.086952  0.258777  0.008106  0.961736\n",
       "3      0.006049  0.067534  0.084890  0.265669  0.008214  0.957888\n",
       "4      0.008873  0.022075  0.085867  0.300177  0.006619  0.949690\n",
       "...         ...       ...       ...       ...       ...       ...\n",
       "24510  0.033746  0.020350  0.205842  0.560722  0.010834  0.800968\n",
       "24511  0.033249  0.021876  0.187320  0.523828  0.009567  0.829963\n",
       "24512  0.031983  0.022545  0.183836  0.506615  0.013829  0.841322\n",
       "24513  0.033075  0.021807  0.182939  0.512363  0.008948  0.838074\n",
       "24514  0.031182  0.021466  0.171534  0.496631  0.004700  0.849988\n",
       "\n",
       "[24515 rows x 6 columns]"
      ]
     },
     "execution_count": 35,
     "metadata": {},
     "output_type": "execute_result"
    }
   ],
   "source": [
    "dados_meteo"
   ]
  },
  {
   "cell_type": "code",
   "execution_count": 3,
   "metadata": {},
   "outputs": [
    {
     "data": {
      "text/html": [
       "<div>\n",
       "<style scoped>\n",
       "    .dataframe tbody tr th:only-of-type {\n",
       "        vertical-align: middle;\n",
       "    }\n",
       "\n",
       "    .dataframe tbody tr th {\n",
       "        vertical-align: top;\n",
       "    }\n",
       "\n",
       "    .dataframe thead th {\n",
       "        text-align: right;\n",
       "    }\n",
       "</style>\n",
       "<table border=\"1\" class=\"dataframe\">\n",
       "  <thead>\n",
       "    <tr style=\"text-align: right;\">\n",
       "      <th></th>\n",
       "      <th>SO2</th>\n",
       "      <th>H2S</th>\n",
       "      <th>AT</th>\n",
       "      <th>RH</th>\n",
       "      <th>WS</th>\n",
       "      <th>WD</th>\n",
       "      <th>TQ-41001.VZ.AF</th>\n",
       "      <th>TI413001</th>\n",
       "      <th>V-48001.DN.AF</th>\n",
       "      <th>V-48002.DN.AF</th>\n",
       "      <th>...</th>\n",
       "      <th>TI975008B</th>\n",
       "      <th>TI975009B</th>\n",
       "      <th>TI975010B</th>\n",
       "      <th>U28-PARADA</th>\n",
       "      <th>PV-210467A-AF</th>\n",
       "      <th>PV-210467B-AF</th>\n",
       "      <th>PV-210573B-AF</th>\n",
       "      <th>PV-350573B-AF</th>\n",
       "      <th>PV-350548-AF</th>\n",
       "      <th>FI110417</th>\n",
       "    </tr>\n",
       "    <tr>\n",
       "      <th>Data fim</th>\n",
       "      <th></th>\n",
       "      <th></th>\n",
       "      <th></th>\n",
       "      <th></th>\n",
       "      <th></th>\n",
       "      <th></th>\n",
       "      <th></th>\n",
       "      <th></th>\n",
       "      <th></th>\n",
       "      <th></th>\n",
       "      <th></th>\n",
       "      <th></th>\n",
       "      <th></th>\n",
       "      <th></th>\n",
       "      <th></th>\n",
       "      <th></th>\n",
       "      <th></th>\n",
       "      <th></th>\n",
       "      <th></th>\n",
       "      <th></th>\n",
       "      <th></th>\n",
       "    </tr>\n",
       "  </thead>\n",
       "  <tbody>\n",
       "    <tr>\n",
       "      <td>2019-11-03 18:00:00</td>\n",
       "      <td>4.31</td>\n",
       "      <td>1.3</td>\n",
       "      <td>29.00</td>\n",
       "      <td>74.1</td>\n",
       "      <td>2.15</td>\n",
       "      <td>127.77</td>\n",
       "      <td>-12.834193</td>\n",
       "      <td>48.188418</td>\n",
       "      <td>66.246816</td>\n",
       "      <td>-7.744068</td>\n",
       "      <td>...</td>\n",
       "      <td>742.351169</td>\n",
       "      <td>999.892076</td>\n",
       "      <td>1001.387199</td>\n",
       "      <td>0.0</td>\n",
       "      <td>0.0</td>\n",
       "      <td>0.000000</td>\n",
       "      <td>0.001208</td>\n",
       "      <td>0.000000</td>\n",
       "      <td>0.0</td>\n",
       "      <td>0.0</td>\n",
       "    </tr>\n",
       "    <tr>\n",
       "      <td>2019-09-27 16:00:00</td>\n",
       "      <td>4.83</td>\n",
       "      <td>0.97</td>\n",
       "      <td>30.44</td>\n",
       "      <td>69.4</td>\n",
       "      <td>2.98</td>\n",
       "      <td>123.16</td>\n",
       "      <td>3.655462</td>\n",
       "      <td>49.380324</td>\n",
       "      <td>-12.669248</td>\n",
       "      <td>2.257321</td>\n",
       "      <td>...</td>\n",
       "      <td>643.403580</td>\n",
       "      <td>999.969882</td>\n",
       "      <td>1001.421058</td>\n",
       "      <td>0.0</td>\n",
       "      <td>0.0</td>\n",
       "      <td>0.000000</td>\n",
       "      <td>0.000000</td>\n",
       "      <td>0.000000</td>\n",
       "      <td>0.0</td>\n",
       "      <td>0.0</td>\n",
       "    </tr>\n",
       "    <tr>\n",
       "      <td>2019-09-01 18:00:00</td>\n",
       "      <td>5.57</td>\n",
       "      <td>2.97</td>\n",
       "      <td>27.45</td>\n",
       "      <td>82.6</td>\n",
       "      <td>1.82</td>\n",
       "      <td>105.83</td>\n",
       "      <td>6.269227</td>\n",
       "      <td>49.328896</td>\n",
       "      <td>0.498326</td>\n",
       "      <td>-28.936092</td>\n",
       "      <td>...</td>\n",
       "      <td>595.225896</td>\n",
       "      <td>999.926990</td>\n",
       "      <td>1001.425381</td>\n",
       "      <td>0.0</td>\n",
       "      <td>0.0</td>\n",
       "      <td>0.002403</td>\n",
       "      <td>0.000000</td>\n",
       "      <td>11.277184</td>\n",
       "      <td>0.0</td>\n",
       "      <td>0.0</td>\n",
       "    </tr>\n",
       "    <tr>\n",
       "      <td>2019-08-15 01:00:00</td>\n",
       "      <td>3.52</td>\n",
       "      <td>2.66</td>\n",
       "      <td>25.74</td>\n",
       "      <td>95.3</td>\n",
       "      <td>1.04</td>\n",
       "      <td>220.45</td>\n",
       "      <td>-0.878606</td>\n",
       "      <td>42.434094</td>\n",
       "      <td>-20.913165</td>\n",
       "      <td>-0.256033</td>\n",
       "      <td>...</td>\n",
       "      <td>414.762525</td>\n",
       "      <td>999.782303</td>\n",
       "      <td>1001.186292</td>\n",
       "      <td>0.0</td>\n",
       "      <td>0.0</td>\n",
       "      <td>0.000000</td>\n",
       "      <td>0.000000</td>\n",
       "      <td>6.931450</td>\n",
       "      <td>0.0</td>\n",
       "      <td>0.0</td>\n",
       "    </tr>\n",
       "    <tr>\n",
       "      <td>2019-08-15 00:00:00</td>\n",
       "      <td>3.28</td>\n",
       "      <td>3.02</td>\n",
       "      <td>26.16</td>\n",
       "      <td>93.2</td>\n",
       "      <td>1.43</td>\n",
       "      <td>203.16</td>\n",
       "      <td>-0.709922</td>\n",
       "      <td>44.712100</td>\n",
       "      <td>-20.917599</td>\n",
       "      <td>-0.025554</td>\n",
       "      <td>...</td>\n",
       "      <td>392.107262</td>\n",
       "      <td>999.850424</td>\n",
       "      <td>1001.242082</td>\n",
       "      <td>0.0</td>\n",
       "      <td>0.0</td>\n",
       "      <td>0.000000</td>\n",
       "      <td>0.000000</td>\n",
       "      <td>6.389522</td>\n",
       "      <td>0.0</td>\n",
       "      <td>0.0</td>\n",
       "    </tr>\n",
       "  </tbody>\n",
       "</table>\n",
       "<p>5 rows × 90 columns</p>\n",
       "</div>"
      ],
      "text/plain": [
       "                      SO2   H2S     AT    RH    WS      WD  TQ-41001.VZ.AF  \\\n",
       "Data fim                                                                     \n",
       "2019-11-03 18:00:00  4.31   1.3  29.00  74.1  2.15  127.77      -12.834193   \n",
       "2019-09-27 16:00:00  4.83  0.97  30.44  69.4  2.98  123.16        3.655462   \n",
       "2019-09-01 18:00:00  5.57  2.97  27.45  82.6  1.82  105.83        6.269227   \n",
       "2019-08-15 01:00:00  3.52  2.66  25.74  95.3  1.04  220.45       -0.878606   \n",
       "2019-08-15 00:00:00  3.28  3.02  26.16  93.2  1.43  203.16       -0.709922   \n",
       "\n",
       "                      TI413001  V-48001.DN.AF  V-48002.DN.AF  ...   TI975008B  \\\n",
       "Data fim                                                      ...               \n",
       "2019-11-03 18:00:00  48.188418      66.246816      -7.744068  ...  742.351169   \n",
       "2019-09-27 16:00:00  49.380324     -12.669248       2.257321  ...  643.403580   \n",
       "2019-09-01 18:00:00  49.328896       0.498326     -28.936092  ...  595.225896   \n",
       "2019-08-15 01:00:00  42.434094     -20.913165      -0.256033  ...  414.762525   \n",
       "2019-08-15 00:00:00  44.712100     -20.917599      -0.025554  ...  392.107262   \n",
       "\n",
       "                      TI975009B    TI975010B  U28-PARADA  PV-210467A-AF  \\\n",
       "Data fim                                                                  \n",
       "2019-11-03 18:00:00  999.892076  1001.387199         0.0            0.0   \n",
       "2019-09-27 16:00:00  999.969882  1001.421058         0.0            0.0   \n",
       "2019-09-01 18:00:00  999.926990  1001.425381         0.0            0.0   \n",
       "2019-08-15 01:00:00  999.782303  1001.186292         0.0            0.0   \n",
       "2019-08-15 00:00:00  999.850424  1001.242082         0.0            0.0   \n",
       "\n",
       "                     PV-210467B-AF  PV-210573B-AF  PV-350573B-AF  \\\n",
       "Data fim                                                           \n",
       "2019-11-03 18:00:00       0.000000       0.001208       0.000000   \n",
       "2019-09-27 16:00:00       0.000000       0.000000       0.000000   \n",
       "2019-09-01 18:00:00       0.002403       0.000000      11.277184   \n",
       "2019-08-15 01:00:00       0.000000       0.000000       6.931450   \n",
       "2019-08-15 00:00:00       0.000000       0.000000       6.389522   \n",
       "\n",
       "                     PV-350548-AF  FI110417  \n",
       "Data fim                                     \n",
       "2019-11-03 18:00:00           0.0       0.0  \n",
       "2019-09-27 16:00:00           0.0       0.0  \n",
       "2019-09-01 18:00:00           0.0       0.0  \n",
       "2019-08-15 01:00:00           0.0       0.0  \n",
       "2019-08-15 00:00:00           0.0       0.0  \n",
       "\n",
       "[5 rows x 90 columns]"
      ]
     },
     "execution_count": 3,
     "metadata": {},
     "output_type": "execute_result"
    }
   ],
   "source": [
    "dataset_array = pd.read_excel(\"dataframe.xlsx\")\n",
    "dataset_array.set_index('Data fim', inplace = True)\n",
    "dataset_array.head()"
   ]
  },
  {
   "cell_type": "code",
   "execution_count": 5,
   "metadata": {},
   "outputs": [
    {
     "data": {
      "text/plain": [
       "array(['SO2', 'H2S', 'AT', 'RH', 'WS', 'WD', 'TQ-41001.VZ.AF', 'TI413001',\n",
       "       'V-48001.DN.AF', 'V-48002.DN.AF', 'TQ-62013.VZ.AF', 'TE620027',\n",
       "       'TI110186-AF', 'TQ-62014.VZ.AF', 'TE620028', 'TQ-62015.VZ.AF',\n",
       "       'TE620029', 'TI210560-AF', 'TQ-62001.VZ.AF', 'TE620009',\n",
       "       'TQ-62002.VZ.AF', 'TE620010', 'TQ-62003.VZ.AF', 'TE620011',\n",
       "       'TQ-62006.VZ.AF', 'TE620007', 'TQ-62027.VZ.AF', 'TE620710',\n",
       "       'TQ-62028.VZ.AF', 'TE620711', 'TQ-62030.VZ.AF', 'TE620713',\n",
       "       'TQ-62031.VZ.AF', 'TE620714', 'TQ-69016.VZ.AF', 'TE690001',\n",
       "       'TQ-69017.VZ.AF', 'TE690002', 'TQ-69018.VZ.AF', 'TE690004',\n",
       "       'TQ-69019.VZ.AF', 'TE690005', 'TQ-69020.VZ.AF', 'TE690003',\n",
       "       'TQ-69021.VZ.AF', 'TE690006', 'TQ-69022.VZ.AF', 'TE690019',\n",
       "       'TQ-69023.VZ.AF', 'TE690020', 'TI410102', 'U41AA101SULF',\n",
       "       'U41AA101AMON', 'U90B100SULF', 'U90B100NH30', 'U90B400NH30',\n",
       "       'PV-410065B.AMON-AF', 'PV-410065B.SULF-AF', 'PV-280088-AF',\n",
       "       'PV-413012-AF', 'PV310673B', 'PV310692B', 'U33NC04ENXT',\n",
       "       'FI330028', 'U31-PARADA', 'U33-PARADA', 'FI960012', 'FI970012',\n",
       "       'TI975001B', 'TI975002B', 'TI975003B', 'TI975004B', 'FI960006',\n",
       "       'FI960008', 'FI970008', 'FC975002', 'FC975003', 'TI975005B',\n",
       "       'TI975006B', 'TI975007B', 'TI975008B', 'TI975009B', 'TI975010B',\n",
       "       'U28-PARADA', 'PV-210467A-AF', 'PV-210467B-AF', 'PV-210573B-AF',\n",
       "       'PV-350573B-AF', 'PV-350548-AF', 'FI110417'], dtype=object)"
      ]
     },
     "execution_count": 5,
     "metadata": {},
     "output_type": "execute_result"
    }
   ],
   "source": [
    "dataset_array.columns.values"
   ]
  },
  {
   "cell_type": "code",
   "execution_count": 6,
   "metadata": {},
   "outputs": [
    {
     "ename": "NameError",
     "evalue": "name 'normalize' is not defined",
     "output_type": "error",
     "traceback": [
      "\u001b[0;31m---------------------------------------------------------------------------\u001b[0m",
      "\u001b[0;31mNameError\u001b[0m                                 Traceback (most recent call last)",
      "\u001b[0;32m<ipython-input-6-3ff1a8c60b8d>\u001b[0m in \u001b[0;36m<module>\u001b[0;34m\u001b[0m\n\u001b[0;32m----> 1\u001b[0;31m \u001b[0mdata_norm\u001b[0m \u001b[0;34m=\u001b[0m \u001b[0mnormalize\u001b[0m\u001b[0;34m(\u001b[0m\u001b[0mdataset_array\u001b[0m\u001b[0;34m)\u001b[0m\u001b[0;34m\u001b[0m\u001b[0;34m\u001b[0m\u001b[0m\n\u001b[0m\u001b[1;32m      2\u001b[0m data_scaled = pd.DataFrame(data_norm, columns = ['SO2', 'H2S', 'AT', 'RH', 'WS', 'WD', 'TQ-41001.VZ.AF', 'TI413001',\n\u001b[1;32m      3\u001b[0m        \u001b[0;34m'V-48001.DN.AF'\u001b[0m\u001b[0;34m,\u001b[0m \u001b[0;34m'V-48002.DN.AF'\u001b[0m\u001b[0;34m,\u001b[0m \u001b[0;34m'TQ-62013.VZ.AF'\u001b[0m\u001b[0;34m,\u001b[0m \u001b[0;34m'TE620027'\u001b[0m\u001b[0;34m,\u001b[0m\u001b[0;34m\u001b[0m\u001b[0;34m\u001b[0m\u001b[0m\n\u001b[1;32m      4\u001b[0m        \u001b[0;34m'TI110186-AF'\u001b[0m\u001b[0;34m,\u001b[0m \u001b[0;34m'TQ-62014.VZ.AF'\u001b[0m\u001b[0;34m,\u001b[0m \u001b[0;34m'TE620028'\u001b[0m\u001b[0;34m,\u001b[0m \u001b[0;34m'TQ-62015.VZ.AF'\u001b[0m\u001b[0;34m,\u001b[0m\u001b[0;34m\u001b[0m\u001b[0;34m\u001b[0m\u001b[0m\n\u001b[1;32m      5\u001b[0m        \u001b[0;34m'TE620029'\u001b[0m\u001b[0;34m,\u001b[0m \u001b[0;34m'TI210560-AF'\u001b[0m\u001b[0;34m,\u001b[0m \u001b[0;34m'TQ-62001.VZ.AF'\u001b[0m\u001b[0;34m,\u001b[0m \u001b[0;34m'TE620009'\u001b[0m\u001b[0;34m,\u001b[0m\u001b[0;34m\u001b[0m\u001b[0;34m\u001b[0m\u001b[0m\n",
      "\u001b[0;31mNameError\u001b[0m: name 'normalize' is not defined"
     ]
    }
   ],
   "source": [
    "data_norm = normalize(dataset_array)\n",
    "data_scaled = pd.DataFrame(data_norm, columns = ['SO2', 'H2S', 'AT', 'RH', 'WS', 'WD', 'TQ-41001.VZ.AF', 'TI413001',\n",
    "       'V-48001.DN.AF', 'V-48002.DN.AF', 'TQ-62013.VZ.AF', 'TE620027',\n",
    "       'TI110186-AF', 'TQ-62014.VZ.AF', 'TE620028', 'TQ-62015.VZ.AF',\n",
    "       'TE620029', 'TI210560-AF', 'TQ-62001.VZ.AF', 'TE620009',\n",
    "       'TQ-62002.VZ.AF', 'TE620010', 'TQ-62003.VZ.AF', 'TE620011',\n",
    "       'TQ-62006.VZ.AF', 'TE620007', 'TQ-62027.VZ.AF', 'TE620710',\n",
    "       'TQ-62028.VZ.AF', 'TE620711', 'TQ-62030.VZ.AF', 'TE620713',\n",
    "       'TQ-62031.VZ.AF', 'TE620714', 'TQ-69016.VZ.AF', 'TE690001',\n",
    "       'TQ-69017.VZ.AF', 'TE690002', 'TQ-69018.VZ.AF', 'TE690004',\n",
    "       'TQ-69019.VZ.AF', 'TE690005', 'TQ-69020.VZ.AF', 'TE690003',\n",
    "       'TQ-69021.VZ.AF', 'TE690006', 'TQ-69022.VZ.AF', 'TE690019',\n",
    "       'TQ-69023.VZ.AF', 'TE690020', 'TI410102', 'U41AA101SULF',\n",
    "       'U41AA101AMON', 'U90B100SULF', 'U90B100NH30', 'U90B400NH30',\n",
    "       'PV-410065B.AMON-AF', 'PV-410065B.SULF-AF', 'PV-280088-AF',\n",
    "       'PV-413012-AF', 'PV310673B', 'PV310692B', 'U33NC04ENXT',\n",
    "       'FI330028', 'U31-PARADA', 'U33-PARADA', 'FI960012', 'FI970012',\n",
    "       'TI975001B', 'TI975002B', 'TI975003B', 'TI975004B', 'FI960006',\n",
    "       'FI960008', 'FI970008', 'FC975002', 'FC975003', 'TI975005B',\n",
    "       'TI975006B', 'TI975007B', 'TI975008B', 'TI975009B', 'TI975010B',\n",
    "       'U28-PARADA', 'PV-210467A-AF', 'PV-210467B-AF', 'PV-210573B-AF',\n",
    "       'PV-350573B-AF', 'PV-350548-AF', 'FI110417'])\n",
    "data_scaled.head()"
   ]
  },
  {
   "cell_type": "markdown",
   "metadata": {},
   "source": [
    "# Kmeans clustering"
   ]
  },
  {
   "cell_type": "code",
   "execution_count": 56,
   "metadata": {},
   "outputs": [
    {
     "name": "stdout",
     "output_type": "stream",
     "text": [
      "[[ 3.60088153e-04  1.21933471e-04  1.92595827e-03  5.23385920e-03\n",
      "   1.68603832e-04  1.02298784e-02  1.03809346e-04  2.74187279e-03\n",
      "  -4.79889507e-05  1.41632614e-05  3.43446621e-05  1.96182478e-03\n",
      "   8.49905683e-03  7.76842399e-05  2.01071108e-03  9.31283012e-05\n",
      "   2.03684336e-03  4.60385933e-03  1.12889242e-04  2.01832030e-03\n",
      "   8.27263071e-05  2.17066779e-03  1.13671006e-04  2.08675212e-03\n",
      "  -6.57485518e-05  7.19392797e-03 -1.27634603e-04  3.32968726e-03\n",
      "   2.41049485e-06  2.01758682e-03  2.04717217e-06  2.88158078e-03\n",
      "   1.39269927e-07  2.89681496e-03 -2.33112849e-05  5.19718801e-03\n",
      "  -9.35108085e-05  4.76113051e-03  7.50583532e-04  4.49561158e-03\n",
      "  -2.46907222e-05  4.65170197e-03 -7.93087094e-05  4.35128754e-03\n",
      "   4.70612494e-05  4.69345626e-03  3.15762628e-05  2.37655174e-03\n",
      "  -5.15270688e-06  2.21018551e-03  3.04675541e-03  4.87722714e-04\n",
      "   1.59757145e-03  9.77270888e-04  1.83681429e-03  2.21824312e-03\n",
      "   4.48149155e-01  7.03094109e-01  8.93415508e-05  1.72896891e-04\n",
      "   1.32736911e-03  2.73164969e-03  8.07862637e-02  8.45571535e-02\n",
      "   3.05707309e-06  3.63777840e-06  2.15113180e-03  2.55704189e-03\n",
      "   5.39089305e-02  3.77991667e-02  3.42673585e-02  2.07059796e-02\n",
      "   2.24744685e-03  2.24858122e-03  1.94610594e-03  2.80279939e-01\n",
      "   3.69678649e-01  3.15152997e-02  3.90057503e-02  6.42580425e-02\n",
      "   3.97053631e-02  5.23970986e-02  6.56660688e-02  4.26992570e-06\n",
      "   7.98300142e-06  2.50299344e-04  1.52474280e-05  1.20675092e-03\n",
      "   1.47468292e-03  1.84754026e-05]\n",
      " [ 6.74352525e-04  2.85294248e-04  4.17300619e-03  1.09490689e-02\n",
      "   3.73763394e-04  2.22309813e-02 -2.90129711e-03  4.79970749e-03\n",
      "   1.30213368e-04 -2.56977413e-05 -1.85358141e-04  4.24698466e-03\n",
      "   1.79957123e-02 -9.60298771e-04  4.44160292e-03 -1.32551396e-03\n",
      "   4.58249570e-03  1.08034371e-02 -2.56411523e-03  4.86655916e-03\n",
      "  -3.05172267e-03  4.85838754e-03 -1.80164447e-03  4.69496604e-03\n",
      "  -1.84376715e-03  1.62737532e-02 -8.32538829e-05  7.12543996e-03\n",
      "   2.36658474e-06  4.33853025e-03  3.99099236e-07  6.47200442e-03\n",
      "   8.29879456e-06  6.75878611e-03 -4.25040456e-03  1.22151290e-02\n",
      "  -2.95138246e-04  9.75466263e-03 -1.71371790e-03  9.79865416e-03\n",
      "   7.13395730e-05  9.69045947e-03  1.69151363e-03  9.55201544e-03\n",
      "  -6.81462380e-04  1.06901055e-02 -7.79014104e-05  5.43044199e-03\n",
      "  -3.34033163e-05  4.83418730e-03  4.85933012e-03  2.23829154e-03\n",
      "   7.33589575e-03  2.54539275e-03  3.18842567e-03  5.22043621e-03\n",
      "   3.10027806e-02  5.81470849e-02  4.83717994e-05  8.09435012e-05\n",
      "   1.82603837e-03  4.57631418e-03  1.73697185e-01  7.32562949e-02\n",
      "   4.48748969e-05  9.40946489e-05  4.46453330e-03  3.93705578e-04\n",
      "   1.12429170e-01  6.85959520e-02  7.22133310e-02  4.94234693e-02\n",
      "   4.80623059e-03  4.81763213e-03  4.15516958e-03  4.91947355e-01\n",
      "   6.94085120e-01  6.47352874e-02  7.69091491e-02  1.41657639e-01\n",
      "   7.59763251e-02  1.19717816e-01  1.40745785e-01  9.74467966e-05\n",
      "   4.18472180e-05  4.68929161e-04  3.76701690e-04  8.83988403e-03\n",
      "   7.34733209e-03  1.02435121e-06]]\n"
     ]
    }
   ],
   "source": [
    "from sklearn.cluster import KMeans\n",
    "import matplotlib.pyplot as plt\n",
    "import numpy as np\n",
    "\n",
    "kmeans = KMeans(n_clusters=2).fit(data_scaled)\n",
    "\n",
    "centroids = kmeans.cluster_centers_\n",
    "print(centroids)"
   ]
  },
  {
   "cell_type": "code",
   "execution_count": 57,
   "metadata": {},
   "outputs": [
    {
     "data": {
      "text/plain": [
       "<function matplotlib.pyplot.show(*args, **kw)>"
      ]
     },
     "execution_count": 57,
     "metadata": {},
     "output_type": "execute_result"
    },
    {
     "data": {
      "image/png": "[encoded data removed]",
      "text/plain": [
       "<Figure size 432x288 with 1 Axes>"
      ]
     },
     "metadata": {
      "needs_background": "light"
     },
     "output_type": "display_data"
    }
   ],
   "source": [
    "# Kmeans usando as variáveis H2S (Gás Súlfidrico) e SO2 (Dióxido de Enxofre)\n",
    "\n",
    "plt.title('Kmeans - H2S, SO2')\n",
    "plt.scatter(data_scaled['H2S'], data_scaled['SO2'], c= kmeans.labels_.astype(float), s=50, alpha=0.5)\n",
    "plt.scatter(centroids[:, 0], centroids[:, 1], c='red', s=50)\n",
    "plt.show"
   ]
  },
  {
   "cell_type": "code",
   "execution_count": 58,
   "metadata": {},
   "outputs": [
    {
     "data": {
      "text/plain": [
       "<function matplotlib.pyplot.show(*args, **kw)>"
      ]
     },
     "execution_count": 58,
     "metadata": {},
     "output_type": "execute_result"
    },
    {
     "data": {
      "image/png": "[encoded data removed]",
      "text/plain": [
       "<Figure size 432x288 with 1 Axes>"
      ]
     },
     "metadata": {
      "needs_background": "light"
     },
     "output_type": "display_data"
    }
   ],
   "source": [
    "# Kmeans usando as variáveis H2S (Gás Súlfidrico) e AT (Temperatura)\n",
    "\n",
    "plt.title('Kmeans - H2S, AT')\n",
    "plt.scatter(data_scaled['H2S'], data_scaled['AT'], c= kmeans.labels_.astype(float), s=50, alpha=0.5)\n",
    "plt.scatter(centroids[:, 0], centroids[:, 1], c='red', s=50)\n",
    "plt.show"
   ]
  },
  {
   "cell_type": "code",
   "execution_count": 59,
   "metadata": {},
   "outputs": [
    {
     "data": {
      "text/plain": [
       "<function matplotlib.pyplot.show(*args, **kw)>"
      ]
     },
     "execution_count": 59,
     "metadata": {},
     "output_type": "execute_result"
    },
    {
     "data": {
      "image/png": "[encoded data removed]",
      "text/plain": [
       "<Figure size 432x288 with 1 Axes>"
      ]
     },
     "metadata": {
      "needs_background": "light"
     },
     "output_type": "display_data"
    }
   ],
   "source": [
    "# Kmeans usando as variáveis H2S (Gás Súlfidrico) e RH (Umidade Relativa do ar)\n",
    "\n",
    "plt.title('Kmeans - H2S, RH')\n",
    "plt.scatter(data_scaled['H2S'], data_scaled['RH'], c= kmeans.labels_.astype(float), s=50, alpha=0.5)\n",
    "plt.scatter(centroids[:, 0], centroids[:, 1], c='red', s=50)\n",
    "plt.show"
   ]
  },
  {
   "cell_type": "code",
   "execution_count": 60,
   "metadata": {},
   "outputs": [
    {
     "data": {
      "text/plain": [
       "<function matplotlib.pyplot.show(*args, **kw)>"
      ]
     },
     "execution_count": 60,
     "metadata": {},
     "output_type": "execute_result"
    },
    {
     "data": {
      "image/png": "[encoded data removed]",
      "text/plain": [
       "<Figure size 432x288 with 1 Axes>"
      ]
     },
     "metadata": {
      "needs_background": "light"
     },
     "output_type": "display_data"
    }
   ],
   "source": [
    "# Kmeans usando as variáveis H2S (Gás Súlfidrico) e WS (Velocidade do Vento)\n",
    "\n",
    "plt.title('Kmeans - H2S, WS')\n",
    "plt.scatter(data_scaled['H2S'], data_scaled['WS'], c= kmeans.labels_.astype(float), s=50, alpha=0.5)\n",
    "plt.scatter(centroids[:, 0], centroids[:, 1], c='red', s=50)\n",
    "plt.show"
   ]
  },
  {
   "cell_type": "code",
   "execution_count": 61,
   "metadata": {},
   "outputs": [
    {
     "data": {
      "text/plain": [
       "<function matplotlib.pyplot.show(*args, **kw)>"
      ]
     },
     "execution_count": 61,
     "metadata": {},
     "output_type": "execute_result"
    },
    {
     "data": {
      "image/png": "[encoded data removed]",
      "text/plain": [
       "<Figure size 432x288 with 1 Axes>"
      ]
     },
     "metadata": {
      "needs_background": "light"
     },
     "output_type": "display_data"
    }
   ],
   "source": [
    "# Kmeans usando as variáveis H2S (Gás Súlfidrico) e WD (Direção do Vento)\n",
    "\n",
    "plt.title('Kmeans - H2S, WD')\n",
    "plt.scatter(data_scaled['H2S'], data_scaled['WD'], c= kmeans.labels_.astype(float), s=50, alpha=0.5)\n",
    "plt.scatter(centroids[:, 0], centroids[:, 1], c='red', s=50)\n",
    "plt.show"
   ]
  },
  {
   "cell_type": "markdown",
   "metadata": {},
   "source": [
    "# Hierarchical clustering"
   ]
  },
  {
   "cell_type": "code",
   "execution_count": 43,
   "metadata": {},
   "outputs": [],
   "source": [
    "# Normalizando os dados meteorologicos\n",
    "\n",
    "data_scaled = normalize(dataset_array)"
   ]
  },
  {
   "cell_type": "code",
   "execution_count": 44,
   "metadata": {},
   "outputs": [],
   "source": [
    "data_scaled = pd.DataFrame(data_scaled, columns = ['SO2', 'H2S', 'AT', 'RH', 'WS', 'WD'])"
   ]
  },
  {
   "cell_type": "code",
   "execution_count": 45,
   "metadata": {},
   "outputs": [
    {
     "data": {
      "text/html": [
       "<div>\n",
       "<style scoped>\n",
       "    .dataframe tbody tr th:only-of-type {\n",
       "        vertical-align: middle;\n",
       "    }\n",
       "\n",
       "    .dataframe tbody tr th {\n",
       "        vertical-align: top;\n",
       "    }\n",
       "\n",
       "    .dataframe thead th {\n",
       "        text-align: right;\n",
       "    }\n",
       "</style>\n",
       "<table border=\"1\" class=\"dataframe\">\n",
       "  <thead>\n",
       "    <tr style=\"text-align: right;\">\n",
       "      <th></th>\n",
       "      <th>SO2</th>\n",
       "      <th>H2S</th>\n",
       "      <th>AT</th>\n",
       "      <th>RH</th>\n",
       "      <th>WS</th>\n",
       "      <th>WD</th>\n",
       "    </tr>\n",
       "  </thead>\n",
       "  <tbody>\n",
       "    <tr>\n",
       "      <td>0</td>\n",
       "      <td>0.010636</td>\n",
       "      <td>0.027709</td>\n",
       "      <td>0.089494</td>\n",
       "      <td>0.245419</td>\n",
       "      <td>0.012288</td>\n",
       "      <td>0.964743</td>\n",
       "    </tr>\n",
       "    <tr>\n",
       "      <td>1</td>\n",
       "      <td>0.009515</td>\n",
       "      <td>0.013127</td>\n",
       "      <td>0.088552</td>\n",
       "      <td>0.253155</td>\n",
       "      <td>0.010453</td>\n",
       "      <td>0.963171</td>\n",
       "    </tr>\n",
       "    <tr>\n",
       "      <td>2</td>\n",
       "      <td>0.007344</td>\n",
       "      <td>0.020439</td>\n",
       "      <td>0.086952</td>\n",
       "      <td>0.258777</td>\n",
       "      <td>0.008106</td>\n",
       "      <td>0.961736</td>\n",
       "    </tr>\n",
       "    <tr>\n",
       "      <td>3</td>\n",
       "      <td>0.006049</td>\n",
       "      <td>0.067534</td>\n",
       "      <td>0.084890</td>\n",
       "      <td>0.265669</td>\n",
       "      <td>0.008214</td>\n",
       "      <td>0.957888</td>\n",
       "    </tr>\n",
       "    <tr>\n",
       "      <td>4</td>\n",
       "      <td>0.008873</td>\n",
       "      <td>0.022075</td>\n",
       "      <td>0.085867</td>\n",
       "      <td>0.300177</td>\n",
       "      <td>0.006619</td>\n",
       "      <td>0.949690</td>\n",
       "    </tr>\n",
       "  </tbody>\n",
       "</table>\n",
       "</div>"
      ],
      "text/plain": [
       "        SO2       H2S        AT        RH        WS        WD\n",
       "0  0.010636  0.027709  0.089494  0.245419  0.012288  0.964743\n",
       "1  0.009515  0.013127  0.088552  0.253155  0.010453  0.963171\n",
       "2  0.007344  0.020439  0.086952  0.258777  0.008106  0.961736\n",
       "3  0.006049  0.067534  0.084890  0.265669  0.008214  0.957888\n",
       "4  0.008873  0.022075  0.085867  0.300177  0.006619  0.949690"
      ]
     },
     "execution_count": 45,
     "metadata": {},
     "output_type": "execute_result"
    }
   ],
   "source": [
    "data_scaled.head()"
   ]
  },
  {
   "cell_type": "code",
   "execution_count": 41,
   "metadata": {},
   "outputs": [],
   "source": [
    "import scipy.cluster.hierarchy as shc\n",
    "\n",
    "def plot_dendogram(x, method, title):\n",
    "    plt.title(title) \n",
    "    shc.dendrogram((shc.linkage(x, method=method)))\n",
    "    plt.axhline(y=6, color='r', linestyle='--')\n",
    "    plt.show()"
   ]
  },
  {
   "cell_type": "code",
   "execution_count": 42,
   "metadata": {},
   "outputs": [
    {
     "data": {
      "image/png": "[encoded data removed]",
      "text/plain": [
       "<Figure size 432x288 with 1 Axes>"
      ]
     },
     "metadata": {
      "needs_background": "light"
     },
     "output_type": "display_data"
    }
   ],
   "source": [
    "# Dendograma para decidir o número de clusters\n",
    "\n",
    "plot_dendogram(data_scaled, 'ward', 'Dendrograma dados normalizados')"
   ]
  },
  {
   "cell_type": "code",
   "execution_count": 43,
   "metadata": {},
   "outputs": [
    {
     "data": {
      "text/plain": [
       "array([0, 0, 0, ..., 0, 0, 0], dtype=int64)"
      ]
     },
     "execution_count": 43,
     "metadata": {},
     "output_type": "execute_result"
    }
   ],
   "source": [
    "# Hierarchical clustering com 2 clusters\n",
    "\n",
    "from sklearn.cluster import AgglomerativeClustering\n",
    "\n",
    "cluster = AgglomerativeClustering(n_clusters=2, affinity='euclidean', linkage='ward')  \n",
    "cluster.fit_predict(data_scaled)"
   ]
  },
  {
   "cell_type": "code",
   "execution_count": 44,
   "metadata": {},
   "outputs": [
    {
     "data": {
      "image/png": "[encoded data removed]",
      "text/plain": [
       "<Figure size 432x288 with 1 Axes>"
      ]
     },
     "metadata": {
      "needs_background": "light"
     },
     "output_type": "display_data"
    }
   ],
   "source": [
    "# Hierarchical usando as variáveis H2S (Gás Súlfidrico) e SO2 (Dióxido de Enxofre)\n",
    "\n",
    "plt.title('Hierarchical - H2S, S02')\n",
    "plt.scatter(data_scaled['H2S'], data_scaled['SO2'], c=cluster.labels_)\n",
    "plt.show()"
   ]
  },
  {
   "cell_type": "code",
   "execution_count": 45,
   "metadata": {},
   "outputs": [
    {
     "data": {
      "image/png": "[encoded data removed]",
      "text/plain": [
       "<Figure size 432x288 with 1 Axes>"
      ]
     },
     "metadata": {
      "needs_background": "light"
     },
     "output_type": "display_data"
    }
   ],
   "source": [
    "# Hierarchical usando as variáveis H2S (Gás Súlfidrico) e AT (Temperatura)\n",
    "\n",
    "plt.title('Hierarchical - H2S, AT')\n",
    "plt.scatter(data_scaled['H2S'], data_scaled['AT'], c=cluster.labels_)\n",
    "plt.show()"
   ]
  },
  {
   "cell_type": "code",
   "execution_count": 46,
   "metadata": {},
   "outputs": [
    {
     "data": {
      "image/png": "[encoded data removed]",
      "text/plain": [
       "<Figure size 432x288 with 1 Axes>"
      ]
     },
     "metadata": {
      "needs_background": "light"
     },
     "output_type": "display_data"
    }
   ],
   "source": [
    "# Hierarchical usando as variáveis H2S (Gás Súlfidrico) e RH (Umidade Relativa do ar)\n",
    "\n",
    "plt.title('Hierarchical - H2S, RH')\n",
    "plt.scatter(data_scaled['H2S'], data_scaled['RH'], c=cluster.labels_)\n",
    "plt.show()"
   ]
  },
  {
   "cell_type": "code",
   "execution_count": 47,
   "metadata": {},
   "outputs": [
    {
     "data": {
      "image/png": "[encoded data removed]",
      "text/plain": [
       "<Figure size 432x288 with 1 Axes>"
      ]
     },
     "metadata": {
      "needs_background": "light"
     },
     "output_type": "display_data"
    }
   ],
   "source": [
    "# Hierarchical usando as variáveis H2S (Gás Súlfidrico) e WS (Velocidade do vento)\n",
    "\n",
    "plt.title('Hierarchical - H2S, WS')\n",
    "plt.scatter(data_scaled['H2S'], data_scaled['WS'], c=cluster.labels_)\n",
    "plt.show()"
   ]
  },
  {
   "cell_type": "code",
   "execution_count": 48,
   "metadata": {},
   "outputs": [
    {
     "data": {
      "image/png": "[encoded data removed]",
      "text/plain": [
       "<Figure size 432x288 with 1 Axes>"
      ]
     },
     "metadata": {
      "needs_background": "light"
     },
     "output_type": "display_data"
    }
   ],
   "source": [
    "# Hierarchical usando as variáveis H2S (Gás Súlfidrico) e WD (Direção do Vento)\n",
    "\n",
    "plt.title('Hierarchical - H2S, WD')\n",
    "plt.scatter(data_scaled['H2S'], data_scaled['WD'], c=cluster.labels_)\n",
    "plt.show()"
   ]
  },
  {
   "cell_type": "markdown",
   "metadata": {},
   "source": [
    "# Correlação das variáveis metereologicas e de processo"
   ]
  },
  {
   "cell_type": "code",
   "execution_count": 4,
   "metadata": {},
   "outputs": [
    {
     "ename": "NameError",
     "evalue": "name 'data_scaled' is not defined",
     "output_type": "error",
     "traceback": [
      "\u001b[0;31m---------------------------------------------------------------------------\u001b[0m",
      "\u001b[0;31mNameError\u001b[0m                                 Traceback (most recent call last)",
      "\u001b[0;32m<ipython-input-4-90e8e837e30a>\u001b[0m in \u001b[0;36m<module>\u001b[0;34m\u001b[0m\n\u001b[0;32m----> 1\u001b[0;31m \u001b[0mtarget_v\u001b[0m \u001b[0;34m=\u001b[0m \u001b[0mdata_scaled\u001b[0m\u001b[0;34m[\u001b[0m\u001b[0;34m\"H2S\"\u001b[0m\u001b[0;34m]\u001b[0m          \u001b[0;31m#Target Variable\u001b[0m\u001b[0;34m\u001b[0m\u001b[0;34m\u001b[0m\u001b[0m\n\u001b[0m\u001b[1;32m      2\u001b[0m \u001b[0mfeature_m\u001b[0m \u001b[0;34m=\u001b[0m \u001b[0mdata_scaled\u001b[0m\u001b[0;34m.\u001b[0m\u001b[0mdrop\u001b[0m\u001b[0;34m(\u001b[0m\u001b[0;34m\"H2S\"\u001b[0m\u001b[0;34m,\u001b[0m\u001b[0;36m1\u001b[0m\u001b[0;34m)\u001b[0m   \u001b[0;31m#Feature Matrix\u001b[0m\u001b[0;34m\u001b[0m\u001b[0;34m\u001b[0m\u001b[0m\n",
      "\u001b[0;31mNameError\u001b[0m: name 'data_scaled' is not defined"
     ]
    }
   ],
   "source": [
    "target_v = data_scaled[\"H2S\"]          #Target Variable\n",
    "feature_m = data_scaled.drop(\"H2S\",1)   #Feature Matrix"
   ]
  },
  {
   "cell_type": "code",
   "execution_count": 63,
   "metadata": {},
   "outputs": [
    {
     "data": {
      "image/png": "[encoded data removed]",
      "text/plain": [
       "<Figure size 432x288 with 2 Axes>"
      ]
     },
     "metadata": {
      "needs_background": "light"
     },
     "output_type": "display_data"
    }
   ],
   "source": [
    "#Using Pearson Correlation\n",
    "import seaborn as sns\n",
    "\n",
    "cor = data_scaled.corr()\n",
    "sns.heatmap(cor, annot=True, cmap=plt.cm.Reds)\n",
    "plt.show()"
   ]
  },
  {
   "cell_type": "code",
   "execution_count": 64,
   "metadata": {},
   "outputs": [],
   "source": [
    "#Correlation with output variable\n",
    "\n",
    "cor_target = abs(cor[\"H2S\"])"
   ]
  },
  {
   "cell_type": "code",
   "execution_count": 66,
   "metadata": {},
   "outputs": [
    {
     "data": {
      "text/plain": [
       "H2S          1.000000\n",
       "RH           0.549776\n",
       "TE620028     0.510828\n",
       "TE620007     0.544678\n",
       "TE620710     0.582740\n",
       "TE690005     0.517357\n",
       "TI975001B    0.608280\n",
       "FI960006     0.539605\n",
       "FI960008     0.542394\n",
       "FI970008     0.562343\n",
       "TI975007B    0.511940\n",
       "TI975009B    0.586949\n",
       "TI975010B    0.503706\n",
       "Name: H2S, dtype: float64"
      ]
     },
     "execution_count": 66,
     "metadata": {},
     "output_type": "execute_result"
    }
   ],
   "source": [
    "#Selecting highly correlated features\n",
    "\n",
    "relevant_features = cor_target[cor_target>0.5]\n",
    "relevant_features"
   ]
  },
  {
   "cell_type": "code",
   "execution_count": 75,
   "metadata": {},
   "outputs": [],
   "source": [
    "# Convertir o DataFrame em Arrays para rodar o Random Forest\n",
    "\n",
    "# Valores das variável H2S (Objetivo)\n",
    "labels = np.array(dataset_array['H2S'])\n",
    "\n",
    "# Deletando os valores do H2S das features \n",
    "features = dataset_array.drop('H2S', axis=1)\n",
    "\n",
    "# Salvando os dados das features para usa-los mais na frente \n",
    "featuare_list = list(features.columns)\n",
    "\n",
    "#Convertendo a numpy array\n",
    "features = np.array(features)"
   ]
  },
  {
   "cell_type": "code",
   "execution_count": 76,
   "metadata": {},
   "outputs": [
    {
     "name": "stdout",
     "output_type": "stream",
     "text": [
      "Training Features Shape: (8843, 89)\n",
      "Training Labels Shape: (8843,)\n",
      "Testing Features Shape: (2948, 89)\n",
      "Testing Labels Shape: (2948,)\n"
     ]
    }
   ],
   "source": [
    "# Dividendo os dados em dados de treinamento e teste\n",
    "\n",
    "from sklearn.model_selection import train_test_split\n",
    "\n",
    "# Split the data into training and testing sets\n",
    "train_features, test_features, train_labels, test_labels = train_test_split(features, labels, test_size = 0.25, random_state = 42)\n",
    "\n",
    "# Tamanho dos dados de treinamento e teste\n",
    "print('Training Features Shape:', train_features.shape)\n",
    "print('Training Labels Shape:', train_labels.shape)\n",
    "print('Testing Features Shape:', test_features.shape)\n",
    "print('Testing Labels Shape:', test_labels.shape)"
   ]
  },
  {
   "cell_type": "code",
   "execution_count": 77,
   "metadata": {},
   "outputs": [],
   "source": [
    "# Treinando o modelo\n",
    "\n",
    "from sklearn.ensemble import RandomForestRegressor\n",
    "\n",
    "# Instantiate model with 1000 decision trees\n",
    "rf = RandomForestRegressor(n_estimators = 1000, random_state = 42)\n",
    "\n",
    "# Train the model on training data\n",
    "rf.fit(train_features, train_labels);"
   ]
  },
  {
   "cell_type": "code",
   "execution_count": 78,
   "metadata": {},
   "outputs": [
    {
     "name": "stdout",
     "output_type": "stream",
     "text": [
      "Mean Absolute Error: 0.43\n"
     ]
    }
   ],
   "source": [
    "# Use the forest's predict method on the test data\n",
    "\n",
    "predictions = rf.predict(test_features)\n",
    "# Calculate the absolute errors\n",
    "errors = abs(predictions - test_labels)\n",
    "\n",
    "# Print out the mean absolute error (mae)\n",
    "print('Mean Absolute Error:', round(np.mean(errors), 2))"
   ]
  },
  {
   "cell_type": "code",
   "execution_count": 87,
   "metadata": {},
   "outputs": [
    {
     "name": "stdout",
     "output_type": "stream",
     "text": [
      "Accuracy: -inf %.\n"
     ]
    },
    {
     "name": "stderr",
     "output_type": "stream",
     "text": [
      "C:\\Users\\ricar\\Anaconda3\\lib\\site-packages\\ipykernel_launcher.py:4: RuntimeWarning: divide by zero encountered in true_divide\n",
      "  after removing the cwd from sys.path.\n"
     ]
    }
   ],
   "source": [
    "# Metricas de performance\n",
    "\n",
    "# Calculate mean absolute percentage error (MAPE)\n",
    "mape = 100 * (errors / test_labels)\n",
    "\n",
    "# Calculate and display accuracy\n",
    "accuracy = 100 - np.mean(mape)\n",
    "\n",
    "print('Accuracy:', round(accuracy, 2), '%.')"
   ]
  },
  {
   "cell_type": "code",
   "execution_count": 92,
   "metadata": {},
   "outputs": [],
   "source": [
    "# Visualizando a árvore de decisão\n",
    "\n",
    "# Import tools needed for visualization\n",
    "from sklearn.tree import export_graphviz\n",
    "import pydot\n",
    "\n",
    "# Pull out one tree from the forest\n",
    "tree = rf.estimators_[5]\n",
    "\n",
    "# Export the image to a dot file\n",
    "export_graphviz(tree, out_file = 'tree.dot', feature_names = featuare_list, rounded = True, precision = 1)\n",
    "\n",
    "# Use dot file to create a graph\n",
    "(graph, ) = pydot.graph_from_dot_file('tree.dot')\n",
    "\n",
    "# Write graph to a png file\n",
    "graph.write_png('tree.png')"
   ]
  },
  {
   "cell_type": "code",
   "execution_count": 93,
   "metadata": {},
   "outputs": [],
   "source": [
    "# Limit depth of tree to 3 levels\n",
    "rf_small = RandomForestRegressor(n_estimators=10, max_depth = 3)\n",
    "rf_small.fit(train_features, train_labels)\n",
    "\n",
    "# Extract the small tree\n",
    "tree_small = rf_small.estimators_[5]\n",
    "\n",
    "# Save the tree as a png image\n",
    "export_graphviz(tree_small, out_file = 'small_tree.dot', feature_names = featuare_list, rounded = True, precision = 1)\n",
    "(graph, ) = pydot.graph_from_dot_file('small_tree.dot')\n",
    "graph.write_png('small_tree.png');"
   ]
  },
  {
   "cell_type": "code",
   "execution_count": 94,
   "metadata": {},
   "outputs": [
    {
     "name": "stdout",
     "output_type": "stream",
     "text": [
      "Variable: FI970008             Importance: 0.26\n",
      "Variable: SO2                  Importance: 0.11\n",
      "Variable: TI975009B            Importance: 0.09\n",
      "Variable: WS                   Importance: 0.04\n",
      "Variable: RH                   Importance: 0.03\n",
      "Variable: TI975004B            Importance: 0.03\n",
      "Variable: TE690001             Importance: 0.02\n",
      "Variable: TI975007B            Importance: 0.02\n",
      "Variable: AT                   Importance: 0.01\n",
      "Variable: WD                   Importance: 0.01\n",
      "Variable: TQ-41001.VZ.AF       Importance: 0.01\n",
      "Variable: TQ-62013.VZ.AF       Importance: 0.01\n",
      "Variable: TE620027             Importance: 0.01\n",
      "Variable: TE620029             Importance: 0.01\n",
      "Variable: TE620010             Importance: 0.01\n",
      "Variable: TQ-62003.VZ.AF       Importance: 0.01\n",
      "Variable: TE620011             Importance: 0.01\n",
      "Variable: TE620007             Importance: 0.01\n",
      "Variable: TE620710             Importance: 0.01\n",
      "Variable: TE620714             Importance: 0.01\n",
      "Variable: TQ-69016.VZ.AF       Importance: 0.01\n",
      "Variable: TE690002             Importance: 0.01\n",
      "Variable: TE690004             Importance: 0.01\n",
      "Variable: TE690005             Importance: 0.01\n",
      "Variable: TE690003             Importance: 0.01\n",
      "Variable: TE690006             Importance: 0.01\n",
      "Variable: TE690019             Importance: 0.01\n",
      "Variable: TE690020             Importance: 0.01\n",
      "Variable: TI410102             Importance: 0.01\n",
      "Variable: U41AA101SULF         Importance: 0.01\n",
      "Variable: FI960012             Importance: 0.01\n",
      "Variable: FI970012             Importance: 0.01\n",
      "Variable: TI975001B            Importance: 0.01\n",
      "Variable: TI975002B            Importance: 0.01\n",
      "Variable: TI975003B            Importance: 0.01\n",
      "Variable: FC975002             Importance: 0.01\n",
      "Variable: FC975003             Importance: 0.01\n",
      "Variable: TI975005B            Importance: 0.01\n",
      "Variable: TI975006B            Importance: 0.01\n",
      "Variable: TI975008B            Importance: 0.01\n",
      "Variable: PV-350573B-AF        Importance: 0.01\n",
      "Variable: TI413001             Importance: 0.0\n",
      "Variable: V-48001.DN.AF        Importance: 0.0\n",
      "Variable: V-48002.DN.AF        Importance: 0.0\n",
      "Variable: TI110186-AF          Importance: 0.0\n",
      "Variable: TQ-62014.VZ.AF       Importance: 0.0\n",
      "Variable: TE620028             Importance: 0.0\n",
      "Variable: TQ-62015.VZ.AF       Importance: 0.0\n",
      "Variable: TI210560-AF          Importance: 0.0\n",
      "Variable: TQ-62001.VZ.AF       Importance: 0.0\n",
      "Variable: TE620009             Importance: 0.0\n",
      "Variable: TQ-62002.VZ.AF       Importance: 0.0\n",
      "Variable: TQ-62006.VZ.AF       Importance: 0.0\n",
      "Variable: TQ-62027.VZ.AF       Importance: 0.0\n",
      "Variable: TQ-62028.VZ.AF       Importance: 0.0\n",
      "Variable: TE620711             Importance: 0.0\n",
      "Variable: TQ-62030.VZ.AF       Importance: 0.0\n",
      "Variable: TE620713             Importance: 0.0\n",
      "Variable: TQ-62031.VZ.AF       Importance: 0.0\n",
      "Variable: TQ-69017.VZ.AF       Importance: 0.0\n",
      "Variable: TQ-69018.VZ.AF       Importance: 0.0\n",
      "Variable: TQ-69019.VZ.AF       Importance: 0.0\n",
      "Variable: TQ-69020.VZ.AF       Importance: 0.0\n",
      "Variable: TQ-69021.VZ.AF       Importance: 0.0\n",
      "Variable: TQ-69022.VZ.AF       Importance: 0.0\n",
      "Variable: TQ-69023.VZ.AF       Importance: 0.0\n",
      "Variable: U41AA101AMON         Importance: 0.0\n",
      "Variable: U90B100SULF          Importance: 0.0\n",
      "Variable: U90B100NH30          Importance: 0.0\n",
      "Variable: U90B400NH30          Importance: 0.0\n",
      "Variable: PV-410065B.AMON-AF   Importance: 0.0\n",
      "Variable: PV-410065B.SULF-AF   Importance: 0.0\n",
      "Variable: PV-280088-AF         Importance: 0.0\n",
      "Variable: PV-413012-AF         Importance: 0.0\n",
      "Variable: PV310673B            Importance: 0.0\n",
      "Variable: PV310692B            Importance: 0.0\n",
      "Variable: U33NC04ENXT          Importance: 0.0\n",
      "Variable: FI330028             Importance: 0.0\n",
      "Variable: U31-PARADA           Importance: 0.0\n",
      "Variable: U33-PARADA           Importance: 0.0\n",
      "Variable: FI960006             Importance: 0.0\n",
      "Variable: FI960008             Importance: 0.0\n",
      "Variable: TI975010B            Importance: 0.0\n",
      "Variable: U28-PARADA           Importance: 0.0\n",
      "Variable: PV-210467A-AF        Importance: 0.0\n",
      "Variable: PV-210467B-AF        Importance: 0.0\n",
      "Variable: PV-210573B-AF        Importance: 0.0\n",
      "Variable: PV-350548-AF         Importance: 0.0\n",
      "Variable: FI110417             Importance: 0.0\n"
     ]
    }
   ],
   "source": [
    "#Importância das variáveis\n",
    "\n",
    "# Get numerical feature importances\n",
    "importances = list(rf.feature_importances_)\n",
    "\n",
    "# List of tuples with variable and importance\n",
    "feature_importances = [(feature, round(importance, 2)) for feature, importance in zip(featuare_list, importances)]\n",
    "\n",
    "# Sort the feature importances by most important first\n",
    "feature_importances = sorted(feature_importances, key = lambda x: x[1], reverse = True)\n",
    "\n",
    "# Print out the feature and importances \n",
    "[print('Variable: {:20} Importance: {}'.format(*pair)) for pair in feature_importances];"
   ]
  },
  {
   "cell_type": "code",
   "execution_count": 96,
   "metadata": {},
   "outputs": [
    {
     "name": "stdout",
     "output_type": "stream",
     "text": [
      "Mean Absolute Error: 0.81 degrees.\n",
      "Accuracy: -inf %.\n"
     ]
    },
    {
     "name": "stderr",
     "output_type": "stream",
     "text": [
      "C:\\Users\\ricar\\Anaconda3\\lib\\site-packages\\ipykernel_launcher.py:18: RuntimeWarning: divide by zero encountered in true_divide\n"
     ]
    }
   ],
   "source": [
    "# New random forest with only the two most important variables\n",
    "rf_most_important = RandomForestRegressor(n_estimators= 1000, random_state=42)\n",
    "\n",
    "# Extract the two most important features\n",
    "important_indices = [featuare_list.index('FI970008'), featuare_list.index('SO2')]\n",
    "train_important = train_features[:, important_indices]\n",
    "test_important = test_features[:, important_indices]\n",
    "\n",
    "# Train the random forest\n",
    "rf_most_important.fit(train_important, train_labels)\n",
    "\n",
    "# Make predictions and determine the error\n",
    "predictions = rf_most_important.predict(test_important)\n",
    "errors = abs(predictions - test_labels)\n",
    "\n",
    "# Display the performance metrics\n",
    "print('Mean Absolute Error:', round(np.mean(errors), 2), 'degrees.')\n",
    "mape = np.mean(100 * (errors / test_labels))\n",
    "accuracy = 100 - mape\n",
    "print('Accuracy:', round(accuracy, 2), '%.')"
   ]
  },
  {
   "cell_type": "code",
   "execution_count": null,
   "metadata": {},
   "outputs": [],
   "source": [
    "# Plot the actual values\n",
    "plt.plot(true_data['date'], true_data['actual'], 'b-', label = 'actual')\n",
    "\n",
    "# Plot the predicted values\n",
    "plt.plot(predictions_data['date'], predictions_data['prediction'], 'ro', label = 'prediction')\n",
    "plt.xticks(rotation = '60'); \n",
    "plt.legend()\n",
    "\n",
    "# Graph labels\n",
    "plt.xlabel('Date'); plt.ylabel('Maximum Temperature (F)'); plt.title('Actual and Predicted Values');"
   ]
  }
 ],
 "metadata": {
  "kernelspec": {
   "display_name": "Python 3",
   "language": "python",
   "name": "python3"
  },
  "language_info": {
   "codemirror_mode": {
    "name": "ipython",
    "version": 3
   },
   "file_extension": ".py",
   "mimetype": "text/x-python",
   "name": "python",
   "nbconvert_exporter": "python",
   "pygments_lexer": "ipython3",
   "version": "3.7.4"
  }
 },
 "nbformat": 4,
 "nbformat_minor": 2
}
